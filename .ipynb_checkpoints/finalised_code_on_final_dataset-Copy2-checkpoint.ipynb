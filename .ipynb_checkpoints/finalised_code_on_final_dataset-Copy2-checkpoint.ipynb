{
 "cells": [
  {
   "cell_type": "markdown",
   "metadata": {
    "colab_type": "text",
    "id": "S_NIzz0DIxUQ"
   },
   "source": [
    "#**CROP YIELD PREDICTION**"
   ]
  },
  {
   "cell_type": "markdown",
   "metadata": {
    "colab_type": "text",
    "id": "4q9XG_lYfqd2"
   },
   "source": [
    "#Dataset 1"
   ]
  },
  {
   "cell_type": "markdown",
   "metadata": {
    "colab_type": "text",
    "id": "hoIvQtcvOiYB"
   },
   "source": [
    "##Reading Dataset"
   ]
  },
  {
   "cell_type": "code",
   "execution_count": 205,
   "metadata": {
    "colab": {
     "base_uri": "https://localhost:8080/",
     "height": 424
    },
    "colab_type": "code",
    "id": "t9DHU4au4lKN",
    "outputId": "4b5c8394-3135-4c26-f852-73f42aaa7f64"
   },
   "outputs": [
    {
     "data": {
      "text/html": [
       "<div>\n",
       "<style scoped>\n",
       "    .dataframe tbody tr th:only-of-type {\n",
       "        vertical-align: middle;\n",
       "    }\n",
       "\n",
       "    .dataframe tbody tr th {\n",
       "        vertical-align: top;\n",
       "    }\n",
       "\n",
       "    .dataframe thead th {\n",
       "        text-align: right;\n",
       "    }\n",
       "</style>\n",
       "<table border=\"1\" class=\"dataframe\">\n",
       "  <thead>\n",
       "    <tr style=\"text-align: right;\">\n",
       "      <th></th>\n",
       "      <th>state_names</th>\n",
       "      <th>district_names</th>\n",
       "      <th>crop_year</th>\n",
       "      <th>season_names</th>\n",
       "      <th>crop_names</th>\n",
       "      <th>area</th>\n",
       "      <th>temperature</th>\n",
       "      <th>wind_speed</th>\n",
       "      <th>precipitation</th>\n",
       "      <th>humidity</th>\n",
       "      <th>soil_type</th>\n",
       "      <th>N</th>\n",
       "      <th>P</th>\n",
       "      <th>K</th>\n",
       "      <th>production</th>\n",
       "    </tr>\n",
       "  </thead>\n",
       "  <tbody>\n",
       "    <tr>\n",
       "      <th>2</th>\n",
       "      <td>Andaman and Nicobar Islands</td>\n",
       "      <td>NICOBARS</td>\n",
       "      <td>2007</td>\n",
       "      <td>Whole Year</td>\n",
       "      <td>Cashewnut</td>\n",
       "      <td>720.0</td>\n",
       "      <td>20.48349</td>\n",
       "      <td>1.971802</td>\n",
       "      <td>1013.011877</td>\n",
       "      <td>64.876363</td>\n",
       "      <td>clay</td>\n",
       "      <td>0.615</td>\n",
       "      <td>0.615</td>\n",
       "      <td>0.615</td>\n",
       "      <td>165.0</td>\n",
       "    </tr>\n",
       "    <tr>\n",
       "      <th>3</th>\n",
       "      <td>Andaman and Nicobar Islands</td>\n",
       "      <td>NICOBARS</td>\n",
       "      <td>2007</td>\n",
       "      <td>Whole Year</td>\n",
       "      <td>Coconut</td>\n",
       "      <td>18168.0</td>\n",
       "      <td>20.48349</td>\n",
       "      <td>1.971802</td>\n",
       "      <td>1013.011877</td>\n",
       "      <td>64.876363</td>\n",
       "      <td>chalky</td>\n",
       "      <td>38.250</td>\n",
       "      <td>38.250</td>\n",
       "      <td>38.250</td>\n",
       "      <td>65100000.0</td>\n",
       "    </tr>\n",
       "    <tr>\n",
       "      <th>4</th>\n",
       "      <td>Andaman and Nicobar Islands</td>\n",
       "      <td>NICOBARS</td>\n",
       "      <td>2007</td>\n",
       "      <td>Whole Year</td>\n",
       "      <td>Sugarcane</td>\n",
       "      <td>1.0</td>\n",
       "      <td>20.48349</td>\n",
       "      <td>1.971802</td>\n",
       "      <td>1013.011877</td>\n",
       "      <td>64.876363</td>\n",
       "      <td>peaty</td>\n",
       "      <td>4.530</td>\n",
       "      <td>11.778</td>\n",
       "      <td>11.778</td>\n",
       "      <td>2.0</td>\n",
       "    </tr>\n",
       "    <tr>\n",
       "      <th>5</th>\n",
       "      <td>Andaman and Nicobar Islands</td>\n",
       "      <td>NICOBARS</td>\n",
       "      <td>2007</td>\n",
       "      <td>Whole Year</td>\n",
       "      <td>Sweet potato</td>\n",
       "      <td>5.0</td>\n",
       "      <td>20.48349</td>\n",
       "      <td>1.971802</td>\n",
       "      <td>1013.011877</td>\n",
       "      <td>64.876363</td>\n",
       "      <td>peaty</td>\n",
       "      <td>39.204</td>\n",
       "      <td>104.544</td>\n",
       "      <td>52.272</td>\n",
       "      <td>15.0</td>\n",
       "    </tr>\n",
       "    <tr>\n",
       "      <th>7</th>\n",
       "      <td>Andaman and Nicobar Islands</td>\n",
       "      <td>NICOBARS</td>\n",
       "      <td>2008</td>\n",
       "      <td>Kharif</td>\n",
       "      <td>Other Kharif pulses</td>\n",
       "      <td>2.0</td>\n",
       "      <td>20.48349</td>\n",
       "      <td>1.971802</td>\n",
       "      <td>1013.011877</td>\n",
       "      <td>64.876363</td>\n",
       "      <td>silty</td>\n",
       "      <td>1.501</td>\n",
       "      <td>1.501</td>\n",
       "      <td>1.501</td>\n",
       "      <td>1.0</td>\n",
       "    </tr>\n",
       "    <tr>\n",
       "      <th>...</th>\n",
       "      <td>...</td>\n",
       "      <td>...</td>\n",
       "      <td>...</td>\n",
       "      <td>...</td>\n",
       "      <td>...</td>\n",
       "      <td>...</td>\n",
       "      <td>...</td>\n",
       "      <td>...</td>\n",
       "      <td>...</td>\n",
       "      <td>...</td>\n",
       "      <td>...</td>\n",
       "      <td>...</td>\n",
       "      <td>...</td>\n",
       "      <td>...</td>\n",
       "      <td>...</td>\n",
       "    </tr>\n",
       "    <tr>\n",
       "      <th>245983</th>\n",
       "      <td>West Bengal</td>\n",
       "      <td>PURULIA</td>\n",
       "      <td>2021</td>\n",
       "      <td>Kharif</td>\n",
       "      <td>Moth</td>\n",
       "      <td>16.0</td>\n",
       "      <td>20.48349</td>\n",
       "      <td>1.971802</td>\n",
       "      <td>1013.011877</td>\n",
       "      <td>64.876363</td>\n",
       "      <td>sandy</td>\n",
       "      <td>0.152</td>\n",
       "      <td>0.152</td>\n",
       "      <td>0.152</td>\n",
       "      <td>14.0</td>\n",
       "    </tr>\n",
       "    <tr>\n",
       "      <th>245991</th>\n",
       "      <td>West Bengal</td>\n",
       "      <td>PURULIA</td>\n",
       "      <td>2021</td>\n",
       "      <td>Rabi</td>\n",
       "      <td>Groundnut</td>\n",
       "      <td>30.0</td>\n",
       "      <td>20.48349</td>\n",
       "      <td>1.971802</td>\n",
       "      <td>1013.011877</td>\n",
       "      <td>64.876363</td>\n",
       "      <td>clay</td>\n",
       "      <td>1.950</td>\n",
       "      <td>1.950</td>\n",
       "      <td>1.950</td>\n",
       "      <td>25.0</td>\n",
       "    </tr>\n",
       "    <tr>\n",
       "      <th>245992</th>\n",
       "      <td>West Bengal</td>\n",
       "      <td>PURULIA</td>\n",
       "      <td>2021</td>\n",
       "      <td>Rabi</td>\n",
       "      <td>Horse-gram</td>\n",
       "      <td>660.0</td>\n",
       "      <td>20.48349</td>\n",
       "      <td>1.971802</td>\n",
       "      <td>1013.011877</td>\n",
       "      <td>64.876363</td>\n",
       "      <td>silt</td>\n",
       "      <td>38.250</td>\n",
       "      <td>38.250</td>\n",
       "      <td>38.250</td>\n",
       "      <td>332.0</td>\n",
       "    </tr>\n",
       "    <tr>\n",
       "      <th>245994</th>\n",
       "      <td>West Bengal</td>\n",
       "      <td>PURULIA</td>\n",
       "      <td>2021</td>\n",
       "      <td>Rabi</td>\n",
       "      <td>Linseed</td>\n",
       "      <td>160.0</td>\n",
       "      <td>20.48349</td>\n",
       "      <td>1.971802</td>\n",
       "      <td>1013.011877</td>\n",
       "      <td>64.876363</td>\n",
       "      <td>clay</td>\n",
       "      <td>10.090</td>\n",
       "      <td>26.234</td>\n",
       "      <td>26.234</td>\n",
       "      <td>51.0</td>\n",
       "    </tr>\n",
       "    <tr>\n",
       "      <th>245995</th>\n",
       "      <td>West Bengal</td>\n",
       "      <td>PURULIA</td>\n",
       "      <td>2021</td>\n",
       "      <td>Rabi</td>\n",
       "      <td>Masoor</td>\n",
       "      <td>31.0</td>\n",
       "      <td>20.48349</td>\n",
       "      <td>1.971802</td>\n",
       "      <td>1013.011877</td>\n",
       "      <td>64.876363</td>\n",
       "      <td>chalky</td>\n",
       "      <td>38.892</td>\n",
       "      <td>103.712</td>\n",
       "      <td>51.856</td>\n",
       "      <td>19.0</td>\n",
       "    </tr>\n",
       "  </tbody>\n",
       "</table>\n",
       "<p>71715 rows × 15 columns</p>\n",
       "</div>"
      ],
      "text/plain": [
       "                        state_names district_names  crop_year season_names  \\\n",
       "2       Andaman and Nicobar Islands       NICOBARS       2007  Whole Year    \n",
       "3       Andaman and Nicobar Islands       NICOBARS       2007  Whole Year    \n",
       "4       Andaman and Nicobar Islands       NICOBARS       2007  Whole Year    \n",
       "5       Andaman and Nicobar Islands       NICOBARS       2007  Whole Year    \n",
       "7       Andaman and Nicobar Islands       NICOBARS       2008  Kharif        \n",
       "...                             ...            ...        ...          ...   \n",
       "245983                  West Bengal        PURULIA       2021  Kharif        \n",
       "245991                  West Bengal        PURULIA       2021  Rabi          \n",
       "245992                  West Bengal        PURULIA       2021  Rabi          \n",
       "245994                  West Bengal        PURULIA       2021  Rabi          \n",
       "245995                  West Bengal        PURULIA       2021  Rabi          \n",
       "\n",
       "                 crop_names     area  temperature  wind_speed  precipitation  \\\n",
       "2                 Cashewnut    720.0     20.48349    1.971802    1013.011877   \n",
       "3                  Coconut   18168.0     20.48349    1.971802    1013.011877   \n",
       "4                 Sugarcane      1.0     20.48349    1.971802    1013.011877   \n",
       "5              Sweet potato      5.0     20.48349    1.971802    1013.011877   \n",
       "7       Other Kharif pulses      2.0     20.48349    1.971802    1013.011877   \n",
       "...                     ...      ...          ...         ...            ...   \n",
       "245983                 Moth     16.0     20.48349    1.971802    1013.011877   \n",
       "245991            Groundnut     30.0     20.48349    1.971802    1013.011877   \n",
       "245992           Horse-gram    660.0     20.48349    1.971802    1013.011877   \n",
       "245994              Linseed    160.0     20.48349    1.971802    1013.011877   \n",
       "245995               Masoor     31.0     20.48349    1.971802    1013.011877   \n",
       "\n",
       "         humidity soil_type       N        P       K  production  \n",
       "2       64.876363      clay   0.615    0.615   0.615       165.0  \n",
       "3       64.876363    chalky  38.250   38.250  38.250  65100000.0  \n",
       "4       64.876363     peaty   4.530   11.778  11.778         2.0  \n",
       "5       64.876363     peaty  39.204  104.544  52.272        15.0  \n",
       "7       64.876363     silty   1.501    1.501   1.501         1.0  \n",
       "...           ...       ...     ...      ...     ...         ...  \n",
       "245983  64.876363     sandy   0.152    0.152   0.152        14.0  \n",
       "245991  64.876363      clay   1.950    1.950   1.950        25.0  \n",
       "245992  64.876363      silt  38.250   38.250  38.250       332.0  \n",
       "245994  64.876363      clay  10.090   26.234  26.234        51.0  \n",
       "245995  64.876363    chalky  38.892  103.712  51.856        19.0  \n",
       "\n",
       "[71715 rows x 15 columns]"
      ]
     },
     "execution_count": 205,
     "metadata": {},
     "output_type": "execute_result"
    }
   ],
   "source": [
    "import pandas as pd\n",
    "import numpy as np\n",
    "df = pd.read_csv('complete_dataset.csv',na_values='=')\n",
    "dfa= df[df['N'] ==0 ].index\n",
    "df.drop(dfa , inplace=True)\n",
    "dfa1= df[df['P'] ==0 ].index\n",
    "df.drop(dfa1 , inplace=True)\n",
    "dfa2= df[df['K'] ==0 ].index\n",
    "df.drop(dfa2 , inplace=True)\n",
    "df"
   ]
  },
  {
   "cell_type": "code",
   "execution_count": 206,
   "metadata": {},
   "outputs": [
    {
     "data": {
      "text/plain": [
       "array(['Cashewnut', 'Coconut ', 'Sugarcane', 'Sweet potato',\n",
       "       'Other Kharif pulses', 'Banana', 'Black pepper', 'Dry chillies',\n",
       "       'Rice', 'Arecanut', 'Dry ginger', 'Turmeric', 'Maize',\n",
       "       'Moong(Green Gram)', 'other oilseeds', 'Groundnut', 'Sunflower',\n",
       "       'Tapioca', 'Urad', 'Korra', 'Ragi', 'Wheat', 'Arhar/Tur', 'Gram',\n",
       "       'Horse-gram', 'Castor seed', 'Cotton(lint)', 'Jowar', 'Masoor',\n",
       "       'Linseed', 'Small millets', 'Bajra', 'Safflower', 'Sesamum',\n",
       "       'Onion', 'Bhindi', 'Citrus Fruit', 'Cucumber', 'Tomato', 'Samai',\n",
       "       'Grapes', 'Mango', 'Other Fresh Fruits', 'Other Vegetables',\n",
       "       'Pome Fruit', 'Coriander', 'Potato', 'Tobacco', 'Mesta',\n",
       "       'Cowpea(Lobia)', 'Soyabean', 'Brinjal', 'Papaya', 'Pome Granet',\n",
       "       'Sapota', 'Cabbage', 'Other  Rabi pulses', 'Rapeseed &Mustard',\n",
       "       'Lemon', 'other misc. pulses', 'Beans & Mutter(Vegetable)',\n",
       "       'Bottle Gourd', 'Niger seed', 'Orange', 'Sannhamp', 'other fibres',\n",
       "       'Varagu', 'Ginger', 'Oilseeds total', 'Pulses total', 'Jute',\n",
       "       'Peas & beans (Pulses)', 'Paddy', 'Pineapple', 'Blackgram',\n",
       "       'Khesari', 'Garlic', 'Barley', 'Moth', 'Guar seed',\n",
       "       'Other Cereals & Millets', 'Cond-spcs other', 'Turnip', 'Carrot',\n",
       "       'Cashewnut Processed', 'Cardamom', 'Arcanut (Processed)',\n",
       "       'Atcanut (Raw)', 'Cashewnut Raw', 'Rubber', 'Bitter Gourd',\n",
       "       'Snak Guard', 'Pump Kin', 'Jack Fruit', 'Drum Stick', 'Tea',\n",
       "       'Coffee', 'Cauliflower', 'Water Melon', 'Other Citrus Fruit',\n",
       "       'Total foodgrain', 'Redish', 'Kapas', 'Colocosia', 'Lentil',\n",
       "       'Bean', 'Jobster', 'Rajmash Kholar', 'Perilla',\n",
       "       'Ricebean (nagadal)', 'Ash Gourd', 'Ribed Guard', 'Beet Root',\n",
       "       'Lab-Lab', 'Plums', 'Yam', 'Ber', 'Pear', 'Litchi',\n",
       "       'Peas  (vegetable)', 'Jute & mesta'], dtype=object)"
      ]
     },
     "execution_count": 206,
     "metadata": {},
     "output_type": "execute_result"
    }
   ],
   "source": [
    "df['crop_names'].unique()"
   ]
  },
  {
   "cell_type": "code",
   "execution_count": 207,
   "metadata": {},
   "outputs": [
    {
     "name": "stdout",
     "output_type": "stream",
     "text": [
      "<class 'pandas.core.frame.DataFrame'>\n",
      "Int64Index: 71715 entries, 2 to 245995\n",
      "Data columns (total 16 columns):\n",
      " #   Column          Non-Null Count  Dtype  \n",
      "---  ------          --------------  -----  \n",
      " 0   state_names     71715 non-null  object \n",
      " 1   district_names  71715 non-null  object \n",
      " 2   crop_year       71715 non-null  int64  \n",
      " 3   season_names    71715 non-null  object \n",
      " 4   crop_names      71715 non-null  object \n",
      " 5   area            71715 non-null  float64\n",
      " 6   temperature     71715 non-null  float64\n",
      " 7   wind_speed      71715 non-null  float64\n",
      " 8   precipitation   71715 non-null  float64\n",
      " 9   humidity        71715 non-null  float64\n",
      " 10  soil_type       71715 non-null  object \n",
      " 11  N               71715 non-null  float64\n",
      " 12  P               71715 non-null  float64\n",
      " 13  K               71715 non-null  float64\n",
      " 14  production      70592 non-null  float64\n",
      " 15  Yield           70592 non-null  float64\n",
      "dtypes: float64(10), int64(1), object(5)\n",
      "memory usage: 9.3+ MB\n"
     ]
    }
   ],
   "source": [
    "\n",
    "df['Yield'] = df['production']/df['area']\n",
    "df.info()"
   ]
  },
  {
   "cell_type": "code",
   "execution_count": 208,
   "metadata": {},
   "outputs": [
    {
     "name": "stdout",
     "output_type": "stream",
     "text": [
      "{'Kharif     ': 1, 'Whole Year ': 2, 'Autumn     ': 3, 'Rabi       ': 4, 'Summer     ': 5, 'Winter     ': 6}\n"
     ]
    },
    {
     "data": {
      "text/html": [
       "<div>\n",
       "<style scoped>\n",
       "    .dataframe tbody tr th:only-of-type {\n",
       "        vertical-align: middle;\n",
       "    }\n",
       "\n",
       "    .dataframe tbody tr th {\n",
       "        vertical-align: top;\n",
       "    }\n",
       "\n",
       "    .dataframe thead th {\n",
       "        text-align: right;\n",
       "    }\n",
       "</style>\n",
       "<table border=\"1\" class=\"dataframe\">\n",
       "  <thead>\n",
       "    <tr style=\"text-align: right;\">\n",
       "      <th></th>\n",
       "      <th>crop_year</th>\n",
       "      <th>wind_speed</th>\n",
       "      <th>precipitation</th>\n",
       "      <th>N</th>\n",
       "      <th>P</th>\n",
       "      <th>K</th>\n",
       "      <th>Yield</th>\n",
       "      <th>State</th>\n",
       "      <th>Crop_Names</th>\n",
       "      <th>Season_Name</th>\n",
       "      <th>Soil_Type</th>\n",
       "    </tr>\n",
       "  </thead>\n",
       "  <tbody>\n",
       "    <tr>\n",
       "      <th>2</th>\n",
       "      <td>2007</td>\n",
       "      <td>1.971802</td>\n",
       "      <td>1013.011877</td>\n",
       "      <td>0.615</td>\n",
       "      <td>0.615</td>\n",
       "      <td>0.615</td>\n",
       "      <td>0.229167</td>\n",
       "      <td>0</td>\n",
       "      <td>5</td>\n",
       "      <td>2</td>\n",
       "      <td>1</td>\n",
       "    </tr>\n",
       "    <tr>\n",
       "      <th>3</th>\n",
       "      <td>2007</td>\n",
       "      <td>1.971802</td>\n",
       "      <td>1013.011877</td>\n",
       "      <td>38.250</td>\n",
       "      <td>38.250</td>\n",
       "      <td>38.250</td>\n",
       "      <td>3583.223250</td>\n",
       "      <td>0</td>\n",
       "      <td>6</td>\n",
       "      <td>2</td>\n",
       "      <td>4</td>\n",
       "    </tr>\n",
       "    <tr>\n",
       "      <th>4</th>\n",
       "      <td>2007</td>\n",
       "      <td>1.971802</td>\n",
       "      <td>1013.011877</td>\n",
       "      <td>4.530</td>\n",
       "      <td>11.778</td>\n",
       "      <td>11.778</td>\n",
       "      <td>2.000000</td>\n",
       "      <td>0</td>\n",
       "      <td>8</td>\n",
       "      <td>2</td>\n",
       "      <td>3</td>\n",
       "    </tr>\n",
       "    <tr>\n",
       "      <th>5</th>\n",
       "      <td>2007</td>\n",
       "      <td>1.971802</td>\n",
       "      <td>1013.011877</td>\n",
       "      <td>39.204</td>\n",
       "      <td>104.544</td>\n",
       "      <td>52.272</td>\n",
       "      <td>3.000000</td>\n",
       "      <td>0</td>\n",
       "      <td>9</td>\n",
       "      <td>2</td>\n",
       "      <td>3</td>\n",
       "    </tr>\n",
       "    <tr>\n",
       "      <th>7</th>\n",
       "      <td>2008</td>\n",
       "      <td>1.971802</td>\n",
       "      <td>1013.011877</td>\n",
       "      <td>1.501</td>\n",
       "      <td>1.501</td>\n",
       "      <td>1.501</td>\n",
       "      <td>0.500000</td>\n",
       "      <td>0</td>\n",
       "      <td>2</td>\n",
       "      <td>1</td>\n",
       "      <td>6</td>\n",
       "    </tr>\n",
       "    <tr>\n",
       "      <th>...</th>\n",
       "      <td>...</td>\n",
       "      <td>...</td>\n",
       "      <td>...</td>\n",
       "      <td>...</td>\n",
       "      <td>...</td>\n",
       "      <td>...</td>\n",
       "      <td>...</td>\n",
       "      <td>...</td>\n",
       "      <td>...</td>\n",
       "      <td>...</td>\n",
       "      <td>...</td>\n",
       "    </tr>\n",
       "    <tr>\n",
       "      <th>245983</th>\n",
       "      <td>2021</td>\n",
       "      <td>1.971802</td>\n",
       "      <td>1013.011877</td>\n",
       "      <td>0.152</td>\n",
       "      <td>0.152</td>\n",
       "      <td>0.152</td>\n",
       "      <td>0.875000</td>\n",
       "      <td>32</td>\n",
       "      <td>81</td>\n",
       "      <td>1</td>\n",
       "      <td>2</td>\n",
       "    </tr>\n",
       "    <tr>\n",
       "      <th>245991</th>\n",
       "      <td>2021</td>\n",
       "      <td>1.971802</td>\n",
       "      <td>1013.011877</td>\n",
       "      <td>1.950</td>\n",
       "      <td>1.950</td>\n",
       "      <td>1.950</td>\n",
       "      <td>0.833333</td>\n",
       "      <td>32</td>\n",
       "      <td>19</td>\n",
       "      <td>4</td>\n",
       "      <td>1</td>\n",
       "    </tr>\n",
       "    <tr>\n",
       "      <th>245992</th>\n",
       "      <td>2021</td>\n",
       "      <td>1.971802</td>\n",
       "      <td>1013.011877</td>\n",
       "      <td>38.250</td>\n",
       "      <td>38.250</td>\n",
       "      <td>38.250</td>\n",
       "      <td>0.503030</td>\n",
       "      <td>32</td>\n",
       "      <td>24</td>\n",
       "      <td>4</td>\n",
       "      <td>5</td>\n",
       "    </tr>\n",
       "    <tr>\n",
       "      <th>245994</th>\n",
       "      <td>2021</td>\n",
       "      <td>1.971802</td>\n",
       "      <td>1013.011877</td>\n",
       "      <td>10.090</td>\n",
       "      <td>26.234</td>\n",
       "      <td>26.234</td>\n",
       "      <td>0.318750</td>\n",
       "      <td>32</td>\n",
       "      <td>33</td>\n",
       "      <td>4</td>\n",
       "      <td>1</td>\n",
       "    </tr>\n",
       "    <tr>\n",
       "      <th>245995</th>\n",
       "      <td>2021</td>\n",
       "      <td>1.971802</td>\n",
       "      <td>1013.011877</td>\n",
       "      <td>38.892</td>\n",
       "      <td>103.712</td>\n",
       "      <td>51.856</td>\n",
       "      <td>0.612903</td>\n",
       "      <td>32</td>\n",
       "      <td>31</td>\n",
       "      <td>4</td>\n",
       "      <td>4</td>\n",
       "    </tr>\n",
       "  </tbody>\n",
       "</table>\n",
       "<p>71715 rows × 11 columns</p>\n",
       "</div>"
      ],
      "text/plain": [
       "        crop_year  wind_speed  precipitation       N        P       K  \\\n",
       "2            2007    1.971802    1013.011877   0.615    0.615   0.615   \n",
       "3            2007    1.971802    1013.011877  38.250   38.250  38.250   \n",
       "4            2007    1.971802    1013.011877   4.530   11.778  11.778   \n",
       "5            2007    1.971802    1013.011877  39.204  104.544  52.272   \n",
       "7            2008    1.971802    1013.011877   1.501    1.501   1.501   \n",
       "...           ...         ...            ...     ...      ...     ...   \n",
       "245983       2021    1.971802    1013.011877   0.152    0.152   0.152   \n",
       "245991       2021    1.971802    1013.011877   1.950    1.950   1.950   \n",
       "245992       2021    1.971802    1013.011877  38.250   38.250  38.250   \n",
       "245994       2021    1.971802    1013.011877  10.090   26.234  26.234   \n",
       "245995       2021    1.971802    1013.011877  38.892  103.712  51.856   \n",
       "\n",
       "              Yield  State  Crop_Names  Season_Name  Soil_Type  \n",
       "2          0.229167      0           5            2          1  \n",
       "3       3583.223250      0           6            2          4  \n",
       "4          2.000000      0           8            2          3  \n",
       "5          3.000000      0           9            2          3  \n",
       "7          0.500000      0           2            1          6  \n",
       "...             ...    ...         ...          ...        ...  \n",
       "245983     0.875000     32          81            1          2  \n",
       "245991     0.833333     32          19            4          1  \n",
       "245992     0.503030     32          24            4          5  \n",
       "245994     0.318750     32          33            4          1  \n",
       "245995     0.612903     32          31            4          4  \n",
       "\n",
       "[71715 rows x 11 columns]"
      ]
     },
     "execution_count": 208,
     "metadata": {},
     "output_type": "execute_result"
    }
   ],
   "source": [
    "data = {'Andaman and Nicobar Islands': 0,\n",
    " 'Andhra Pradesh': 1,\n",
    " 'Arunachal Pradesh': 2,\n",
    " 'Assam': 3,\n",
    " 'Bihar': 4,\n",
    " 'Chandigarh': 5,\n",
    " 'Chhattisgarh': 6,\n",
    " 'Dadra and Nagar Haveli': 7,\n",
    " 'Goa': 8,\n",
    " 'Gujarat': 9,\n",
    " 'Haryana': 10,\n",
    " 'Himachal Pradesh': 11,\n",
    " 'Jammu and Kashmir ': 12,\n",
    " 'Jharkhand': 13,\n",
    " 'Karnataka': 14,\n",
    " 'Kerala': 15,\n",
    " 'Madhya Pradesh': 16,\n",
    " 'Maharashtra': 17,\n",
    " 'Manipur': 18,\n",
    " 'Meghalaya': 19,\n",
    " 'Mizoram': 20,\n",
    " 'Nagaland': 21,\n",
    " 'Odisha': 22,\n",
    " 'Puducherry': 23,\n",
    " 'Punjab': 24,\n",
    " 'Rajasthan': 25,\n",
    " 'Sikkim': 26,\n",
    " 'Tamil Nadu': 27,\n",
    " 'Telangana ': 28,\n",
    " 'Tripura': 29,\n",
    " 'Uttar Pradesh': 30,\n",
    " 'Uttarakhand': 31,\n",
    " 'West Bengal': 32\n",
    "}\n",
    "data2 = {'Arecanut':1, 'Other Kharif pulses':2, 'Rice':3, 'Banana':4, 'Cashewnut':5,\n",
    "       'Coconut ':6, 'Dry ginger':7, 'Sugarcane':8, 'Sweet potato':9, 'Tapioca':10,\n",
    "       'Black pepper':11, 'Dry chillies':12, 'other oilseeds':13, 'Turmeric':14,\n",
    "       'Maize':15, 'Moong(Green Gram)':16, 'Urad':17, 'Arhar/Tur':18, 'Groundnut':19,\n",
    "       'Sunflower':20, 'Bajra':21, 'Castor seed':22, 'Cotton(lint)':23, 'Horse-gram':24,\n",
    "       'Jowar':25, 'Korra':26, 'Ragi':27, 'Tobacco':28, 'Gram':29, 'Wheat':30, 'Masoor':31,\n",
    "       'Sesamum':32, 'Linseed':33, 'Safflower':34, 'Onion':35, 'other misc. pulses':36,\n",
    "       'Samai':37, 'Small millets':38, 'Coriander':39, 'Potato':40,\n",
    "       'Other  Rabi pulses':41, 'Soyabean':42, 'Beans & Mutter(Vegetable)':43,\n",
    "       'Bhindi':44, 'Brinjal':45, 'Citrus Fruit':46, 'Cucumber':47, 'Grapes':48, 'Mango':49,\n",
    "       'Orange':50, 'other fibres':51, 'Other Fresh Fruits':52, 'Other Vegetables':53,\n",
    "       'Papaya':54, 'Pome Fruit':55, 'Tomato':56, 'Rapeseed &Mustard':57, 'Mesta':58,\n",
    "       'Cowpea(Lobia)':59, 'Lemon':60, 'Pome Granet':61, 'Sapota':62, 'Cabbage':63,\n",
    "       'Peas  (vegetable)':64, 'Niger seed':65, 'Bottle Gourd':66, 'Sannhamp':67,\n",
    "       'Varagu':68, 'Garlic':69, 'Ginger':70, 'Oilseeds total':71, 'Pulses total':72,\n",
    "       'Jute':73, 'Peas & beans (Pulses)':74, 'Blackgram':75, 'Paddy':76, 'Pineapple':77,\n",
    "       'Barley':78, 'Khesari':79, 'Guar seed':80, 'Moth':81,\n",
    "       'Other Cereals & Millets':82, 'Cond-spcs other':83, 'Turnip':84, 'Carrot':85,\n",
    "       'Redish':86, 'Arcanut (Processed)':87, 'Atcanut (Raw)':88,\n",
    "       'Cashewnut Processed':89, 'Cashewnut Raw':90, 'Cardamom':91, 'Rubber':92,\n",
    "       'Bitter Gourd':93, 'Drum Stick':94, 'Jack Fruit':95, 'Snak Guard':96,\n",
    "       'Pump Kin':97, 'Tea':98, 'Coffee':99, 'Cauliflower':100, 'Other Citrus Fruit':101,\n",
    "       'Water Melon':102, 'Total foodgrain':103, 'Kapas':104, 'Colocosia':105, 'Lentil':106,\n",
    "       'Bean':107, 'Jobster':108, 'Perilla':109, 'Rajmash Kholar':110,\n",
    "       'Ricebean (nagadal)':111, 'Ash Gourd':112, 'Beet Root':113, 'Lab-Lab':114,\n",
    "       'Ribed Guard':115, 'Yam':116, 'Apple':117, 'Peach':118, 'Pear':119, 'Plums':120, 'Litchi':121,\n",
    "       'Ber':122, 'Other Dry Fruit':123, 'Jute & mesta':124}\n",
    "data3 = {'Kharif     ':1, 'Whole Year ':2, 'Autumn     ':3, 'Rabi       ':4,\n",
    "       'Summer     ':5, 'Winter     ':6}\n",
    "data4 = {'clay':1, 'sandy':2, 'peaty':3, 'chalky':4, 'silt':5, 'silty':6, 'loamy':7}\n",
    "print(data3)\n",
    "\n",
    "df[\"State\"] = df[\"state_names\"].replace(data)\n",
    "df[\"Crop_Names\"] = df[\"crop_names\"].replace(data2)\n",
    "df[\"Season_Name\"] = df[\"season_names\"].replace(data3)\n",
    "df[\"Soil_Type\"] = df[\"soil_type\"].replace(data4)\n",
    "df = df.drop(['state_names','district_names','crop_names', 'precipitation','crop_year', 'wind_speed', 'temperature', 'soil_type','season_names','area','production','humidity'],axis=1)\n",
    "df"
   ]
  },
  {
   "cell_type": "code",
   "execution_count": 209,
   "metadata": {},
   "outputs": [],
   "source": [
    "#df=df.drop('Yield', axis = 1)"
   ]
  },
  {
   "cell_type": "code",
   "execution_count": 210,
   "metadata": {},
   "outputs": [
    {
     "name": "stdout",
     "output_type": "stream",
     "text": [
      "<class 'pandas.core.frame.DataFrame'>\n",
      "Int64Index: 71715 entries, 2 to 245995\n",
      "Data columns (total 11 columns):\n",
      " #   Column         Non-Null Count  Dtype  \n",
      "---  ------         --------------  -----  \n",
      " 0   crop_year      71715 non-null  int64  \n",
      " 1   wind_speed     71715 non-null  float64\n",
      " 2   precipitation  71715 non-null  float64\n",
      " 3   N              71715 non-null  float64\n",
      " 4   P              71715 non-null  float64\n",
      " 5   K              71715 non-null  float64\n",
      " 6   Yield          70592 non-null  float64\n",
      " 7   State          71715 non-null  int64  \n",
      " 8   Crop_Names     71715 non-null  int64  \n",
      " 9   Season_Name    71715 non-null  int64  \n",
      " 10  Soil_Type      71715 non-null  int64  \n",
      "dtypes: float64(6), int64(5)\n",
      "memory usage: 6.6 MB\n"
     ]
    }
   ],
   "source": [
    "df.info()"
   ]
  },
  {
   "cell_type": "code",
   "execution_count": null,
   "metadata": {},
   "outputs": [],
   "source": []
  },
  {
   "cell_type": "code",
   "execution_count": 211,
   "metadata": {},
   "outputs": [
    {
     "data": {
      "text/plain": [
       "Index(['crop_year', 'wind_speed', 'precipitation', 'N', 'P', 'K', 'Yield',\n",
       "       'State', 'Crop_Names', 'Season_Name', 'Soil_Type'],\n",
       "      dtype='object')"
      ]
     },
     "execution_count": 211,
     "metadata": {},
     "output_type": "execute_result"
    }
   ],
   "source": [
    "df.columns\n"
   ]
  },
  {
   "cell_type": "markdown",
   "metadata": {
    "colab_type": "text",
    "id": "03kn7ZrreQlg"
   },
   "source": [
    "##Reducing Data to One State for Ease"
   ]
  },
  {
   "cell_type": "code",
   "execution_count": 212,
   "metadata": {
    "colab": {},
    "colab_type": "code",
    "id": "PAB2PI8DeWTh"
   },
   "outputs": [
    {
     "name": "stdout",
     "output_type": "stream",
     "text": [
      "<class 'pandas.core.frame.DataFrame'>\n",
      "Int64Index: 3681 entries, 125135 to 137756\n",
      "Data columns (total 11 columns):\n",
      " #   Column         Non-Null Count  Dtype  \n",
      "---  ------         --------------  -----  \n",
      " 0   crop_year      3681 non-null   int64  \n",
      " 1   wind_speed     3681 non-null   float64\n",
      " 2   precipitation  3681 non-null   float64\n",
      " 3   N              3681 non-null   float64\n",
      " 4   P              3681 non-null   float64\n",
      " 5   K              3681 non-null   float64\n",
      " 6   Yield          3645 non-null   float64\n",
      " 7   State          3681 non-null   int64  \n",
      " 8   Crop_Names     3681 non-null   int64  \n",
      " 9   Season_Name    3681 non-null   int64  \n",
      " 10  Soil_Type      3681 non-null   int64  \n",
      "dtypes: float64(6), int64(5)\n",
      "memory usage: 345.1 KB\n"
     ]
    }
   ],
   "source": [
    "df = df[df['State'] == 17]\n",
    "\n",
    "df.info()"
   ]
  },
  {
   "cell_type": "code",
   "execution_count": 213,
   "metadata": {},
   "outputs": [
    {
     "name": "stdout",
     "output_type": "stream",
     "text": [
      "<class 'pandas.core.frame.DataFrame'>\n",
      "Int64Index: 3681 entries, 125135 to 137756\n",
      "Data columns (total 11 columns):\n",
      " #   Column         Non-Null Count  Dtype  \n",
      "---  ------         --------------  -----  \n",
      " 0   crop_year      3681 non-null   int64  \n",
      " 1   wind_speed     3681 non-null   float64\n",
      " 2   precipitation  3681 non-null   float64\n",
      " 3   N              3681 non-null   float64\n",
      " 4   P              3681 non-null   float64\n",
      " 5   K              3681 non-null   float64\n",
      " 6   Yield          3645 non-null   float64\n",
      " 7   State          3681 non-null   int64  \n",
      " 8   Crop_Names     3681 non-null   int64  \n",
      " 9   Season_Name    3681 non-null   int64  \n",
      " 10  Soil_Type      3681 non-null   int64  \n",
      "dtypes: float64(6), int64(5)\n",
      "memory usage: 345.1 KB\n"
     ]
    }
   ],
   "source": [
    "df.info()"
   ]
  },
  {
   "cell_type": "code",
   "execution_count": 214,
   "metadata": {},
   "outputs": [
    {
     "data": {
      "text/plain": [
       "crop_year         0\n",
       "wind_speed        0\n",
       "precipitation     0\n",
       "N                 0\n",
       "P                 0\n",
       "K                 0\n",
       "Yield            36\n",
       "State             0\n",
       "Crop_Names        0\n",
       "Season_Name       0\n",
       "Soil_Type         0\n",
       "dtype: int64"
      ]
     },
     "execution_count": 214,
     "metadata": {},
     "output_type": "execute_result"
    }
   ],
   "source": [
    "df.isnull().sum()"
   ]
  },
  {
   "cell_type": "code",
   "execution_count": 215,
   "metadata": {},
   "outputs": [
    {
     "data": {
      "text/html": [
       "<div>\n",
       "<style scoped>\n",
       "    .dataframe tbody tr th:only-of-type {\n",
       "        vertical-align: middle;\n",
       "    }\n",
       "\n",
       "    .dataframe tbody tr th {\n",
       "        vertical-align: top;\n",
       "    }\n",
       "\n",
       "    .dataframe thead th {\n",
       "        text-align: right;\n",
       "    }\n",
       "</style>\n",
       "<table border=\"1\" class=\"dataframe\">\n",
       "  <thead>\n",
       "    <tr style=\"text-align: right;\">\n",
       "      <th></th>\n",
       "      <th>crop_year</th>\n",
       "      <th>wind_speed</th>\n",
       "      <th>precipitation</th>\n",
       "      <th>N</th>\n",
       "      <th>P</th>\n",
       "      <th>K</th>\n",
       "      <th>Yield</th>\n",
       "      <th>State</th>\n",
       "      <th>Crop_Names</th>\n",
       "      <th>Season_Name</th>\n",
       "      <th>Soil_Type</th>\n",
       "    </tr>\n",
       "  </thead>\n",
       "  <tbody>\n",
       "    <tr>\n",
       "      <th>125135</th>\n",
       "      <td>2004</td>\n",
       "      <td>1.971802</td>\n",
       "      <td>1013.011877</td>\n",
       "      <td>38.250</td>\n",
       "      <td>38.250</td>\n",
       "      <td>38.250</td>\n",
       "      <td>0.455882</td>\n",
       "      <td>17</td>\n",
       "      <td>29</td>\n",
       "      <td>1</td>\n",
       "      <td>4</td>\n",
       "    </tr>\n",
       "    <tr>\n",
       "      <th>125137</th>\n",
       "      <td>2004</td>\n",
       "      <td>1.971802</td>\n",
       "      <td>1013.011877</td>\n",
       "      <td>5.640</td>\n",
       "      <td>14.664</td>\n",
       "      <td>14.664</td>\n",
       "      <td>1.068182</td>\n",
       "      <td>17</td>\n",
       "      <td>15</td>\n",
       "      <td>1</td>\n",
       "      <td>2</td>\n",
       "    </tr>\n",
       "    <tr>\n",
       "      <th>125138</th>\n",
       "      <td>2004</td>\n",
       "      <td>1.971802</td>\n",
       "      <td>1013.011877</td>\n",
       "      <td>41.700</td>\n",
       "      <td>111.200</td>\n",
       "      <td>55.600</td>\n",
       "      <td>0.088235</td>\n",
       "      <td>17</td>\n",
       "      <td>16</td>\n",
       "      <td>1</td>\n",
       "      <td>3</td>\n",
       "    </tr>\n",
       "    <tr>\n",
       "      <th>125140</th>\n",
       "      <td>2004</td>\n",
       "      <td>1.971802</td>\n",
       "      <td>1013.011877</td>\n",
       "      <td>2.100</td>\n",
       "      <td>5.250</td>\n",
       "      <td>2.100</td>\n",
       "      <td>0.807692</td>\n",
       "      <td>17</td>\n",
       "      <td>27</td>\n",
       "      <td>1</td>\n",
       "      <td>6</td>\n",
       "    </tr>\n",
       "    <tr>\n",
       "      <th>125150</th>\n",
       "      <td>2004</td>\n",
       "      <td>1.971802</td>\n",
       "      <td>1013.011877</td>\n",
       "      <td>0.465</td>\n",
       "      <td>0.465</td>\n",
       "      <td>0.465</td>\n",
       "      <td>182.653061</td>\n",
       "      <td>17</td>\n",
       "      <td>23</td>\n",
       "      <td>2</td>\n",
       "      <td>7</td>\n",
       "    </tr>\n",
       "    <tr>\n",
       "      <th>125151</th>\n",
       "      <td>2005</td>\n",
       "      <td>1.971802</td>\n",
       "      <td>1013.011877</td>\n",
       "      <td>38.250</td>\n",
       "      <td>38.250</td>\n",
       "      <td>38.250</td>\n",
       "      <td>0.515957</td>\n",
       "      <td>17</td>\n",
       "      <td>18</td>\n",
       "      <td>1</td>\n",
       "      <td>6</td>\n",
       "    </tr>\n",
       "  </tbody>\n",
       "</table>\n",
       "</div>"
      ],
      "text/plain": [
       "        crop_year  wind_speed  precipitation       N        P       K  \\\n",
       "125135       2004    1.971802    1013.011877  38.250   38.250  38.250   \n",
       "125137       2004    1.971802    1013.011877   5.640   14.664  14.664   \n",
       "125138       2004    1.971802    1013.011877  41.700  111.200  55.600   \n",
       "125140       2004    1.971802    1013.011877   2.100    5.250   2.100   \n",
       "125150       2004    1.971802    1013.011877   0.465    0.465   0.465   \n",
       "125151       2005    1.971802    1013.011877  38.250   38.250  38.250   \n",
       "\n",
       "             Yield  State  Crop_Names  Season_Name  Soil_Type  \n",
       "125135    0.455882     17          29            1          4  \n",
       "125137    1.068182     17          15            1          2  \n",
       "125138    0.088235     17          16            1          3  \n",
       "125140    0.807692     17          27            1          6  \n",
       "125150  182.653061     17          23            2          7  \n",
       "125151    0.515957     17          18            1          6  "
      ]
     },
     "execution_count": 215,
     "metadata": {},
     "output_type": "execute_result"
    }
   ],
   "source": [
    "df.head(6)"
   ]
  },
  {
   "cell_type": "markdown",
   "metadata": {
    "colab_type": "text",
    "id": "AJTAfF6lPEH8"
   },
   "source": [
    "###Making Yield Column"
   ]
  },
  {
   "cell_type": "code",
   "execution_count": 216,
   "metadata": {},
   "outputs": [
    {
     "data": {
      "text/html": [
       "<div>\n",
       "<style scoped>\n",
       "    .dataframe tbody tr th:only-of-type {\n",
       "        vertical-align: middle;\n",
       "    }\n",
       "\n",
       "    .dataframe tbody tr th {\n",
       "        vertical-align: top;\n",
       "    }\n",
       "\n",
       "    .dataframe thead th {\n",
       "        text-align: right;\n",
       "    }\n",
       "</style>\n",
       "<table border=\"1\" class=\"dataframe\">\n",
       "  <thead>\n",
       "    <tr style=\"text-align: right;\">\n",
       "      <th></th>\n",
       "      <th>crop_year</th>\n",
       "      <th>wind_speed</th>\n",
       "      <th>precipitation</th>\n",
       "      <th>N</th>\n",
       "      <th>P</th>\n",
       "      <th>K</th>\n",
       "      <th>Yield</th>\n",
       "      <th>State</th>\n",
       "      <th>Crop_Names</th>\n",
       "      <th>Season_Name</th>\n",
       "      <th>Soil_Type</th>\n",
       "    </tr>\n",
       "  </thead>\n",
       "  <tbody>\n",
       "    <tr>\n",
       "      <th>125135</th>\n",
       "      <td>2004</td>\n",
       "      <td>1.971802</td>\n",
       "      <td>1013.011877</td>\n",
       "      <td>38.250</td>\n",
       "      <td>38.250</td>\n",
       "      <td>38.250</td>\n",
       "      <td>0.455882</td>\n",
       "      <td>17</td>\n",
       "      <td>29</td>\n",
       "      <td>1</td>\n",
       "      <td>4</td>\n",
       "    </tr>\n",
       "    <tr>\n",
       "      <th>125137</th>\n",
       "      <td>2004</td>\n",
       "      <td>1.971802</td>\n",
       "      <td>1013.011877</td>\n",
       "      <td>5.640</td>\n",
       "      <td>14.664</td>\n",
       "      <td>14.664</td>\n",
       "      <td>1.068182</td>\n",
       "      <td>17</td>\n",
       "      <td>15</td>\n",
       "      <td>1</td>\n",
       "      <td>2</td>\n",
       "    </tr>\n",
       "    <tr>\n",
       "      <th>125138</th>\n",
       "      <td>2004</td>\n",
       "      <td>1.971802</td>\n",
       "      <td>1013.011877</td>\n",
       "      <td>41.700</td>\n",
       "      <td>111.200</td>\n",
       "      <td>55.600</td>\n",
       "      <td>0.088235</td>\n",
       "      <td>17</td>\n",
       "      <td>16</td>\n",
       "      <td>1</td>\n",
       "      <td>3</td>\n",
       "    </tr>\n",
       "    <tr>\n",
       "      <th>125140</th>\n",
       "      <td>2004</td>\n",
       "      <td>1.971802</td>\n",
       "      <td>1013.011877</td>\n",
       "      <td>2.100</td>\n",
       "      <td>5.250</td>\n",
       "      <td>2.100</td>\n",
       "      <td>0.807692</td>\n",
       "      <td>17</td>\n",
       "      <td>27</td>\n",
       "      <td>1</td>\n",
       "      <td>6</td>\n",
       "    </tr>\n",
       "    <tr>\n",
       "      <th>125150</th>\n",
       "      <td>2004</td>\n",
       "      <td>1.971802</td>\n",
       "      <td>1013.011877</td>\n",
       "      <td>0.465</td>\n",
       "      <td>0.465</td>\n",
       "      <td>0.465</td>\n",
       "      <td>182.653061</td>\n",
       "      <td>17</td>\n",
       "      <td>23</td>\n",
       "      <td>2</td>\n",
       "      <td>7</td>\n",
       "    </tr>\n",
       "    <tr>\n",
       "      <th>...</th>\n",
       "      <td>...</td>\n",
       "      <td>...</td>\n",
       "      <td>...</td>\n",
       "      <td>...</td>\n",
       "      <td>...</td>\n",
       "      <td>...</td>\n",
       "      <td>...</td>\n",
       "      <td>...</td>\n",
       "      <td>...</td>\n",
       "      <td>...</td>\n",
       "      <td>...</td>\n",
       "    </tr>\n",
       "    <tr>\n",
       "      <th>137750</th>\n",
       "      <td>2021</td>\n",
       "      <td>1.971802</td>\n",
       "      <td>1013.011877</td>\n",
       "      <td>0.465</td>\n",
       "      <td>0.465</td>\n",
       "      <td>0.465</td>\n",
       "      <td>0.682660</td>\n",
       "      <td>17</td>\n",
       "      <td>23</td>\n",
       "      <td>1</td>\n",
       "      <td>7</td>\n",
       "    </tr>\n",
       "    <tr>\n",
       "      <th>137751</th>\n",
       "      <td>2021</td>\n",
       "      <td>1.971802</td>\n",
       "      <td>1013.011877</td>\n",
       "      <td>38.250</td>\n",
       "      <td>38.250</td>\n",
       "      <td>38.250</td>\n",
       "      <td>0.445476</td>\n",
       "      <td>17</td>\n",
       "      <td>25</td>\n",
       "      <td>1</td>\n",
       "      <td>2</td>\n",
       "    </tr>\n",
       "    <tr>\n",
       "      <th>137753</th>\n",
       "      <td>2021</td>\n",
       "      <td>1.971802</td>\n",
       "      <td>1013.011877</td>\n",
       "      <td>10.240</td>\n",
       "      <td>26.624</td>\n",
       "      <td>26.624</td>\n",
       "      <td>0.318954</td>\n",
       "      <td>17</td>\n",
       "      <td>42</td>\n",
       "      <td>1</td>\n",
       "      <td>6</td>\n",
       "    </tr>\n",
       "    <tr>\n",
       "      <th>137754</th>\n",
       "      <td>2021</td>\n",
       "      <td>1.971802</td>\n",
       "      <td>1013.011877</td>\n",
       "      <td>41.496</td>\n",
       "      <td>110.656</td>\n",
       "      <td>55.328</td>\n",
       "      <td>0.846753</td>\n",
       "      <td>17</td>\n",
       "      <td>29</td>\n",
       "      <td>4</td>\n",
       "      <td>2</td>\n",
       "    </tr>\n",
       "    <tr>\n",
       "      <th>137756</th>\n",
       "      <td>2021</td>\n",
       "      <td>1.971802</td>\n",
       "      <td>1013.011877</td>\n",
       "      <td>7.504</td>\n",
       "      <td>18.760</td>\n",
       "      <td>7.504</td>\n",
       "      <td>0.153846</td>\n",
       "      <td>17</td>\n",
       "      <td>15</td>\n",
       "      <td>4</td>\n",
       "      <td>5</td>\n",
       "    </tr>\n",
       "  </tbody>\n",
       "</table>\n",
       "<p>3681 rows × 11 columns</p>\n",
       "</div>"
      ],
      "text/plain": [
       "        crop_year  wind_speed  precipitation       N        P       K  \\\n",
       "125135       2004    1.971802    1013.011877  38.250   38.250  38.250   \n",
       "125137       2004    1.971802    1013.011877   5.640   14.664  14.664   \n",
       "125138       2004    1.971802    1013.011877  41.700  111.200  55.600   \n",
       "125140       2004    1.971802    1013.011877   2.100    5.250   2.100   \n",
       "125150       2004    1.971802    1013.011877   0.465    0.465   0.465   \n",
       "...           ...         ...            ...     ...      ...     ...   \n",
       "137750       2021    1.971802    1013.011877   0.465    0.465   0.465   \n",
       "137751       2021    1.971802    1013.011877  38.250   38.250  38.250   \n",
       "137753       2021    1.971802    1013.011877  10.240   26.624  26.624   \n",
       "137754       2021    1.971802    1013.011877  41.496  110.656  55.328   \n",
       "137756       2021    1.971802    1013.011877   7.504   18.760   7.504   \n",
       "\n",
       "             Yield  State  Crop_Names  Season_Name  Soil_Type  \n",
       "125135    0.455882     17          29            1          4  \n",
       "125137    1.068182     17          15            1          2  \n",
       "125138    0.088235     17          16            1          3  \n",
       "125140    0.807692     17          27            1          6  \n",
       "125150  182.653061     17          23            2          7  \n",
       "...            ...    ...         ...          ...        ...  \n",
       "137750    0.682660     17          23            1          7  \n",
       "137751    0.445476     17          25            1          2  \n",
       "137753    0.318954     17          42            1          6  \n",
       "137754    0.846753     17          29            4          2  \n",
       "137756    0.153846     17          15            4          5  \n",
       "\n",
       "[3681 rows x 11 columns]"
      ]
     },
     "execution_count": 216,
     "metadata": {},
     "output_type": "execute_result"
    }
   ],
   "source": [
    "df"
   ]
  },
  {
   "cell_type": "markdown",
   "metadata": {
    "colab_type": "text",
    "id": "QvYtwmfjTkrM"
   },
   "source": [
    "##Corelation Heatmap"
   ]
  },
  {
   "cell_type": "code",
   "execution_count": 217,
   "metadata": {
    "colab": {
     "base_uri": "https://localhost:8080/",
     "height": 846
    },
    "colab_type": "code",
    "id": "-_tEdzxdTp-S",
    "outputId": "f45aaac2-cdff-426b-cb14-e98cdf332dbf"
   },
   "outputs": [
    {
     "data": {
      "image/png": "[encoded data removed]",
      "text/plain": [
       "<Figure size 1080x1080 with 2 Axes>"
      ]
     },
     "metadata": {
      "needs_background": "light"
     },
     "output_type": "display_data"
    }
   ],
   "source": [
    "import matplotlib.pyplot as plt\n",
    "import seaborn as sb\n",
    "\n",
    "C_mat = df.corr()\n",
    "fig = plt.figure(figsize = (15,15))\n",
    "\n",
    "sb.heatmap(C_mat, vmax = .8, square = True)\n",
    "plt.show()"
   ]
  },
  {
   "cell_type": "markdown",
   "metadata": {
    "colab_type": "text",
    "id": "UHRkVfi_PHhs"
   },
   "source": [
    "##Taking Data only after 2011 because the data after 2011 is affecting the rersult alot"
   ]
  },
  {
   "cell_type": "code",
   "execution_count": 218,
   "metadata": {
    "colab": {
     "base_uri": "https://localhost:8080/",
     "height": 424
    },
    "colab_type": "code",
    "id": "wCUwyNu0P1PT",
    "outputId": "e0a521e8-cfd6-47c4-a4ee-f37d74a5bb45"
   },
   "outputs": [
    {
     "data": {
      "text/html": [
       "<div>\n",
       "<style scoped>\n",
       "    .dataframe tbody tr th:only-of-type {\n",
       "        vertical-align: middle;\n",
       "    }\n",
       "\n",
       "    .dataframe tbody tr th {\n",
       "        vertical-align: top;\n",
       "    }\n",
       "\n",
       "    .dataframe thead th {\n",
       "        text-align: right;\n",
       "    }\n",
       "</style>\n",
       "<table border=\"1\" class=\"dataframe\">\n",
       "  <thead>\n",
       "    <tr style=\"text-align: right;\">\n",
       "      <th></th>\n",
       "      <th>crop_year</th>\n",
       "      <th>wind_speed</th>\n",
       "      <th>precipitation</th>\n",
       "      <th>N</th>\n",
       "      <th>P</th>\n",
       "      <th>K</th>\n",
       "      <th>Yield</th>\n",
       "      <th>State</th>\n",
       "      <th>Crop_Names</th>\n",
       "      <th>Season_Name</th>\n",
       "      <th>Soil_Type</th>\n",
       "    </tr>\n",
       "  </thead>\n",
       "  <tbody>\n",
       "    <tr>\n",
       "      <th>125344</th>\n",
       "      <td>2011</td>\n",
       "      <td>1.971802</td>\n",
       "      <td>1013.011877</td>\n",
       "      <td>10.500</td>\n",
       "      <td>27.300</td>\n",
       "      <td>27.300</td>\n",
       "      <td>0.393443</td>\n",
       "      <td>17</td>\n",
       "      <td>18</td>\n",
       "      <td>1</td>\n",
       "      <td>3</td>\n",
       "    </tr>\n",
       "    <tr>\n",
       "      <th>125345</th>\n",
       "      <td>2011</td>\n",
       "      <td>1.971802</td>\n",
       "      <td>1013.011877</td>\n",
       "      <td>39.720</td>\n",
       "      <td>105.920</td>\n",
       "      <td>52.960</td>\n",
       "      <td>0.596258</td>\n",
       "      <td>17</td>\n",
       "      <td>21</td>\n",
       "      <td>1</td>\n",
       "      <td>6</td>\n",
       "    </tr>\n",
       "    <tr>\n",
       "      <th>125347</th>\n",
       "      <td>2011</td>\n",
       "      <td>1.971802</td>\n",
       "      <td>1013.011877</td>\n",
       "      <td>5.824</td>\n",
       "      <td>14.560</td>\n",
       "      <td>5.824</td>\n",
       "      <td>1.000000</td>\n",
       "      <td>17</td>\n",
       "      <td>25</td>\n",
       "      <td>1</td>\n",
       "      <td>2</td>\n",
       "    </tr>\n",
       "    <tr>\n",
       "      <th>125357</th>\n",
       "      <td>2011</td>\n",
       "      <td>1.971802</td>\n",
       "      <td>1013.011877</td>\n",
       "      <td>2.160</td>\n",
       "      <td>2.160</td>\n",
       "      <td>2.160</td>\n",
       "      <td>0.527273</td>\n",
       "      <td>17</td>\n",
       "      <td>20</td>\n",
       "      <td>1</td>\n",
       "      <td>6</td>\n",
       "    </tr>\n",
       "    <tr>\n",
       "      <th>125358</th>\n",
       "      <td>2011</td>\n",
       "      <td>1.971802</td>\n",
       "      <td>1013.011877</td>\n",
       "      <td>38.250</td>\n",
       "      <td>38.250</td>\n",
       "      <td>38.250</td>\n",
       "      <td>0.620000</td>\n",
       "      <td>17</td>\n",
       "      <td>17</td>\n",
       "      <td>1</td>\n",
       "      <td>4</td>\n",
       "    </tr>\n",
       "    <tr>\n",
       "      <th>...</th>\n",
       "      <td>...</td>\n",
       "      <td>...</td>\n",
       "      <td>...</td>\n",
       "      <td>...</td>\n",
       "      <td>...</td>\n",
       "      <td>...</td>\n",
       "      <td>...</td>\n",
       "      <td>...</td>\n",
       "      <td>...</td>\n",
       "      <td>...</td>\n",
       "      <td>...</td>\n",
       "    </tr>\n",
       "    <tr>\n",
       "      <th>137750</th>\n",
       "      <td>2021</td>\n",
       "      <td>1.971802</td>\n",
       "      <td>1013.011877</td>\n",
       "      <td>0.465</td>\n",
       "      <td>0.465</td>\n",
       "      <td>0.465</td>\n",
       "      <td>0.682660</td>\n",
       "      <td>17</td>\n",
       "      <td>23</td>\n",
       "      <td>1</td>\n",
       "      <td>7</td>\n",
       "    </tr>\n",
       "    <tr>\n",
       "      <th>137751</th>\n",
       "      <td>2021</td>\n",
       "      <td>1.971802</td>\n",
       "      <td>1013.011877</td>\n",
       "      <td>38.250</td>\n",
       "      <td>38.250</td>\n",
       "      <td>38.250</td>\n",
       "      <td>0.445476</td>\n",
       "      <td>17</td>\n",
       "      <td>25</td>\n",
       "      <td>1</td>\n",
       "      <td>2</td>\n",
       "    </tr>\n",
       "    <tr>\n",
       "      <th>137753</th>\n",
       "      <td>2021</td>\n",
       "      <td>1.971802</td>\n",
       "      <td>1013.011877</td>\n",
       "      <td>10.240</td>\n",
       "      <td>26.624</td>\n",
       "      <td>26.624</td>\n",
       "      <td>0.318954</td>\n",
       "      <td>17</td>\n",
       "      <td>42</td>\n",
       "      <td>1</td>\n",
       "      <td>6</td>\n",
       "    </tr>\n",
       "    <tr>\n",
       "      <th>137754</th>\n",
       "      <td>2021</td>\n",
       "      <td>1.971802</td>\n",
       "      <td>1013.011877</td>\n",
       "      <td>41.496</td>\n",
       "      <td>110.656</td>\n",
       "      <td>55.328</td>\n",
       "      <td>0.846753</td>\n",
       "      <td>17</td>\n",
       "      <td>29</td>\n",
       "      <td>4</td>\n",
       "      <td>2</td>\n",
       "    </tr>\n",
       "    <tr>\n",
       "      <th>137756</th>\n",
       "      <td>2021</td>\n",
       "      <td>1.971802</td>\n",
       "      <td>1013.011877</td>\n",
       "      <td>7.504</td>\n",
       "      <td>18.760</td>\n",
       "      <td>7.504</td>\n",
       "      <td>0.153846</td>\n",
       "      <td>17</td>\n",
       "      <td>15</td>\n",
       "      <td>4</td>\n",
       "      <td>5</td>\n",
       "    </tr>\n",
       "  </tbody>\n",
       "</table>\n",
       "<p>2116 rows × 11 columns</p>\n",
       "</div>"
      ],
      "text/plain": [
       "        crop_year  wind_speed  precipitation       N        P       K  \\\n",
       "125344       2011    1.971802    1013.011877  10.500   27.300  27.300   \n",
       "125345       2011    1.971802    1013.011877  39.720  105.920  52.960   \n",
       "125347       2011    1.971802    1013.011877   5.824   14.560   5.824   \n",
       "125357       2011    1.971802    1013.011877   2.160    2.160   2.160   \n",
       "125358       2011    1.971802    1013.011877  38.250   38.250  38.250   \n",
       "...           ...         ...            ...     ...      ...     ...   \n",
       "137750       2021    1.971802    1013.011877   0.465    0.465   0.465   \n",
       "137751       2021    1.971802    1013.011877  38.250   38.250  38.250   \n",
       "137753       2021    1.971802    1013.011877  10.240   26.624  26.624   \n",
       "137754       2021    1.971802    1013.011877  41.496  110.656  55.328   \n",
       "137756       2021    1.971802    1013.011877   7.504   18.760   7.504   \n",
       "\n",
       "           Yield  State  Crop_Names  Season_Name  Soil_Type  \n",
       "125344  0.393443     17          18            1          3  \n",
       "125345  0.596258     17          21            1          6  \n",
       "125347  1.000000     17          25            1          2  \n",
       "125357  0.527273     17          20            1          6  \n",
       "125358  0.620000     17          17            1          4  \n",
       "...          ...    ...         ...          ...        ...  \n",
       "137750  0.682660     17          23            1          7  \n",
       "137751  0.445476     17          25            1          2  \n",
       "137753  0.318954     17          42            1          6  \n",
       "137754  0.846753     17          29            4          2  \n",
       "137756  0.153846     17          15            4          5  \n",
       "\n",
       "[2116 rows x 11 columns]"
      ]
     },
     "execution_count": 218,
     "metadata": {},
     "output_type": "execute_result"
    }
   ],
   "source": [
    "df = df[df['crop_year']>=2011]\n",
    "df"
   ]
  },
  {
   "cell_type": "code",
   "execution_count": 219,
   "metadata": {},
   "outputs": [
    {
     "name": "stdout",
     "output_type": "stream",
     "text": [
      "<class 'pandas.core.frame.DataFrame'>\n",
      "Int64Index: 2116 entries, 125344 to 137756\n",
      "Data columns (total 11 columns):\n",
      " #   Column         Non-Null Count  Dtype  \n",
      "---  ------         --------------  -----  \n",
      " 0   crop_year      2116 non-null   int64  \n",
      " 1   wind_speed     2116 non-null   float64\n",
      " 2   precipitation  2116 non-null   float64\n",
      " 3   N              2116 non-null   float64\n",
      " 4   P              2116 non-null   float64\n",
      " 5   K              2116 non-null   float64\n",
      " 6   Yield          2088 non-null   float64\n",
      " 7   State          2116 non-null   int64  \n",
      " 8   Crop_Names     2116 non-null   int64  \n",
      " 9   Season_Name    2116 non-null   int64  \n",
      " 10  Soil_Type      2116 non-null   int64  \n",
      "dtypes: float64(6), int64(5)\n",
      "memory usage: 198.4 KB\n"
     ]
    }
   ],
   "source": [
    "df.info()"
   ]
  },
  {
   "cell_type": "markdown",
   "metadata": {
    "colab_type": "text",
    "id": "iUgVdhZbPPT9"
   },
   "source": [
    "##converting data to numerical form"
   ]
  },
  {
   "cell_type": "code",
   "execution_count": null,
   "metadata": {
    "colab": {
     "base_uri": "https://localhost:8080/",
     "height": 652
    },
    "colab_type": "code",
    "id": "H-hIlC4QdzL0",
    "outputId": "529ba42f-e752-43e5-ffaa-ab1333fb0873"
   },
   "outputs": [],
   "source": []
  },
  {
   "cell_type": "code",
   "execution_count": null,
   "metadata": {},
   "outputs": [],
   "source": []
  },
  {
   "cell_type": "code",
   "execution_count": null,
   "metadata": {},
   "outputs": [],
   "source": []
  },
  {
   "cell_type": "markdown",
   "metadata": {
    "colab_type": "text",
    "id": "flKfKKBEQu5C"
   },
   "source": [
    "##Dropping Unecessory Columns"
   ]
  },
  {
   "cell_type": "code",
   "execution_count": null,
   "metadata": {
    "colab": {
     "base_uri": "https://localhost:8080/",
     "height": 478
    },
    "colab_type": "code",
    "id": "9xsE8Fc_fcmn",
    "outputId": "17787537-4f56-4941-b65d-6242e8769849"
   },
   "outputs": [],
   "source": []
  },
  {
   "cell_type": "code",
   "execution_count": null,
   "metadata": {},
   "outputs": [],
   "source": []
  },
  {
   "cell_type": "markdown",
   "metadata": {
    "colab_type": "text",
    "id": "crrFiBFiSBKm"
   },
   "source": [
    "##Preprocessing"
   ]
  },
  {
   "cell_type": "code",
   "execution_count": 220,
   "metadata": {
    "colab": {},
    "colab_type": "code",
    "id": "-ZH0L36cnnEN"
   },
   "outputs": [],
   "source": [
    "from sklearn import preprocessing"
   ]
  },
  {
   "cell_type": "code",
   "execution_count": null,
   "metadata": {
    "colab": {
     "base_uri": "https://localhost:8080/",
     "height": 478
    },
    "colab_type": "code",
    "id": "P8zJezCGrrpZ",
    "outputId": "0cb79961-ad1b-40c8-b3c7-9bdf4390a695"
   },
   "outputs": [],
   "source": []
  },
  {
   "cell_type": "code",
   "execution_count": null,
   "metadata": {
    "colab": {
     "base_uri": "https://localhost:8080/",
     "height": 290
    },
    "colab_type": "code",
    "id": "vmZc51COtbDn",
    "outputId": "d2ca8412-4bd8-4357-e798-c01b0219129c"
   },
   "outputs": [],
   "source": []
  },
  {
   "cell_type": "markdown",
   "metadata": {
    "colab_type": "text",
    "id": "BMscPX_kSGi0"
   },
   "source": [
    "### Filling Empty Values With Mean"
   ]
  },
  {
   "cell_type": "code",
   "execution_count": 221,
   "metadata": {
    "colab": {},
    "colab_type": "code",
    "id": "wOtumEE7wZGa"
   },
   "outputs": [],
   "source": [
    "df = df.fillna(df.mean())"
   ]
  },
  {
   "cell_type": "markdown",
   "metadata": {
    "colab_type": "text",
    "id": "yl0n3RLpSUY3"
   },
   "source": [
    "##Train and Test Split"
   ]
  },
  {
   "cell_type": "code",
   "execution_count": 222,
   "metadata": {
    "colab": {},
    "colab_type": "code",
    "id": "gGelSEtavZ_U"
   },
   "outputs": [],
   "source": [
    "from sklearn.model_selection import train_test_split"
   ]
  },
  {
   "cell_type": "code",
   "execution_count": 223,
   "metadata": {},
   "outputs": [],
   "source": [
    "a=df"
   ]
  },
  {
   "cell_type": "code",
   "execution_count": 224,
   "metadata": {
    "colab": {
     "base_uri": "https://localhost:8080/",
     "height": 982
    },
    "colab_type": "code",
    "id": "qWb477Osxmw1",
    "outputId": "b8b46b4e-717a-4d6f-e1c1-f754765ecc64"
   },
   "outputs": [],
   "source": [
    "b = df['Yield']\n",
    "#a = df.drop('Yield', axis = 1)\n",
    "\n"
   ]
  },
  {
   "cell_type": "code",
   "execution_count": 225,
   "metadata": {},
   "outputs": [],
   "source": [
    "# c = df.drop('Unnamed', axis = 1)"
   ]
  },
  {
   "cell_type": "code",
   "execution_count": 226,
   "metadata": {},
   "outputs": [],
   "source": [
    "a=df.drop('Yield', axis = 1)"
   ]
  },
  {
   "cell_type": "code",
   "execution_count": 227,
   "metadata": {},
   "outputs": [
    {
     "data": {
      "text/plain": [
       "10"
      ]
     },
     "execution_count": 227,
     "metadata": {},
     "output_type": "execute_result"
    }
   ],
   "source": [
    "len(a.columns)"
   ]
  },
  {
   "cell_type": "code",
   "execution_count": 228,
   "metadata": {},
   "outputs": [
    {
     "data": {
      "text/plain": [
       "Index(['crop_year', 'wind_speed', 'precipitation', 'N', 'P', 'K', 'State',\n",
       "       'Crop_Names', 'Season_Name', 'Soil_Type'],\n",
       "      dtype='object')"
      ]
     },
     "execution_count": 228,
     "metadata": {},
     "output_type": "execute_result"
    }
   ],
   "source": [
    "a.columns"
   ]
  },
  {
   "cell_type": "code",
   "execution_count": 229,
   "metadata": {},
   "outputs": [],
   "source": [
    "features_list=['State','Season_Name', 'Crop_Names', 'Soil_Type', \n",
    "       'N', 'P', 'K' ]"
   ]
  },
  {
   "cell_type": "code",
   "execution_count": 230,
   "metadata": {},
   "outputs": [
    {
     "data": {
      "text/plain": [
       "10"
      ]
     },
     "execution_count": 230,
     "metadata": {},
     "output_type": "execute_result"
    }
   ],
   "source": [
    "features_list123=[0, 0, 0, 0,  0, 0, 0]\n",
    "len(features_list123)"
   ]
  },
  {
   "cell_type": "code",
   "execution_count": 231,
   "metadata": {},
   "outputs": [
    {
     "data": {
      "text/plain": [
       "10"
      ]
     },
     "execution_count": 231,
     "metadata": {},
     "output_type": "execute_result"
    }
   ],
   "source": [
    "len(features_list)"
   ]
  },
  {
   "cell_type": "code",
   "execution_count": 232,
   "metadata": {},
   "outputs": [],
   "source": [
    "a=df[features_list]"
   ]
  },
  {
   "cell_type": "code",
   "execution_count": 233,
   "metadata": {},
   "outputs": [
    {
     "data": {
      "text/html": [
       "<div>\n",
       "<style scoped>\n",
       "    .dataframe tbody tr th:only-of-type {\n",
       "        vertical-align: middle;\n",
       "    }\n",
       "\n",
       "    .dataframe tbody tr th {\n",
       "        vertical-align: top;\n",
       "    }\n",
       "\n",
       "    .dataframe thead th {\n",
       "        text-align: right;\n",
       "    }\n",
       "</style>\n",
       "<table border=\"1\" class=\"dataframe\">\n",
       "  <thead>\n",
       "    <tr style=\"text-align: right;\">\n",
       "      <th></th>\n",
       "      <th>crop_year</th>\n",
       "      <th>wind_speed</th>\n",
       "      <th>precipitation</th>\n",
       "      <th>N</th>\n",
       "      <th>P</th>\n",
       "      <th>K</th>\n",
       "      <th>State</th>\n",
       "      <th>Crop_Names</th>\n",
       "      <th>Season_Name</th>\n",
       "      <th>Soil_Type</th>\n",
       "    </tr>\n",
       "  </thead>\n",
       "  <tbody>\n",
       "    <tr>\n",
       "      <th>125344</th>\n",
       "      <td>2011</td>\n",
       "      <td>1.971802</td>\n",
       "      <td>1013.011877</td>\n",
       "      <td>10.500</td>\n",
       "      <td>27.30</td>\n",
       "      <td>27.300</td>\n",
       "      <td>17</td>\n",
       "      <td>18</td>\n",
       "      <td>1</td>\n",
       "      <td>3</td>\n",
       "    </tr>\n",
       "    <tr>\n",
       "      <th>125345</th>\n",
       "      <td>2011</td>\n",
       "      <td>1.971802</td>\n",
       "      <td>1013.011877</td>\n",
       "      <td>39.720</td>\n",
       "      <td>105.92</td>\n",
       "      <td>52.960</td>\n",
       "      <td>17</td>\n",
       "      <td>21</td>\n",
       "      <td>1</td>\n",
       "      <td>6</td>\n",
       "    </tr>\n",
       "    <tr>\n",
       "      <th>125347</th>\n",
       "      <td>2011</td>\n",
       "      <td>1.971802</td>\n",
       "      <td>1013.011877</td>\n",
       "      <td>5.824</td>\n",
       "      <td>14.56</td>\n",
       "      <td>5.824</td>\n",
       "      <td>17</td>\n",
       "      <td>25</td>\n",
       "      <td>1</td>\n",
       "      <td>2</td>\n",
       "    </tr>\n",
       "    <tr>\n",
       "      <th>125357</th>\n",
       "      <td>2011</td>\n",
       "      <td>1.971802</td>\n",
       "      <td>1013.011877</td>\n",
       "      <td>2.160</td>\n",
       "      <td>2.16</td>\n",
       "      <td>2.160</td>\n",
       "      <td>17</td>\n",
       "      <td>20</td>\n",
       "      <td>1</td>\n",
       "      <td>6</td>\n",
       "    </tr>\n",
       "    <tr>\n",
       "      <th>125358</th>\n",
       "      <td>2011</td>\n",
       "      <td>1.971802</td>\n",
       "      <td>1013.011877</td>\n",
       "      <td>38.250</td>\n",
       "      <td>38.25</td>\n",
       "      <td>38.250</td>\n",
       "      <td>17</td>\n",
       "      <td>17</td>\n",
       "      <td>1</td>\n",
       "      <td>4</td>\n",
       "    </tr>\n",
       "  </tbody>\n",
       "</table>\n",
       "</div>"
      ],
      "text/plain": [
       "        crop_year  wind_speed  precipitation       N       P       K  State  \\\n",
       "125344       2011    1.971802    1013.011877  10.500   27.30  27.300     17   \n",
       "125345       2011    1.971802    1013.011877  39.720  105.92  52.960     17   \n",
       "125347       2011    1.971802    1013.011877   5.824   14.56   5.824     17   \n",
       "125357       2011    1.971802    1013.011877   2.160    2.16   2.160     17   \n",
       "125358       2011    1.971802    1013.011877  38.250   38.25  38.250     17   \n",
       "\n",
       "        Crop_Names  Season_Name  Soil_Type  \n",
       "125344          18            1          3  \n",
       "125345          21            1          6  \n",
       "125347          25            1          2  \n",
       "125357          20            1          6  \n",
       "125358          17            1          4  "
      ]
     },
     "execution_count": 233,
     "metadata": {},
     "output_type": "execute_result"
    }
   ],
   "source": [
    "a.head()"
   ]
  },
  {
   "cell_type": "code",
   "execution_count": 234,
   "metadata": {},
   "outputs": [
    {
     "name": "stdout",
     "output_type": "stream",
     "text": [
      "        crop_year  wind_speed  precipitation       N        P       K  State  \\\n",
      "134824       2013    1.971802    1013.011877  38.250   38.250  38.250     17   \n",
      "133901       2019    1.971802    1013.011877  38.250   38.250  38.250     17   \n",
      "126742       2018    1.971802    1013.011877  38.250   38.250  38.250     17   \n",
      "127840       2015    1.971802    1013.011877  38.250   38.250  38.250     17   \n",
      "134235       2013    1.971802    1013.011877  38.250   38.250  38.250     17   \n",
      "...           ...         ...            ...     ...      ...     ...    ...   \n",
      "129974       2019    1.971802    1013.011877  39.204  104.544  52.272     17   \n",
      "130799       2018    1.971802    1013.011877  38.250   38.250  38.250     17   \n",
      "128287       2021    1.971802    1013.011877   5.640   14.664  14.664     17   \n",
      "129561       2018    1.971802    1013.011877  38.688  103.168  51.584     17   \n",
      "127189       2018    1.971802    1013.011877   2.080    5.408   5.408     17   \n",
      "\n",
      "        Crop_Names  Season_Name  Soil_Type  \n",
      "134824          57            4          5  \n",
      "133901          17            1          4  \n",
      "126742          25            4          7  \n",
      "127840          42            1          5  \n",
      "134235          16            1          3  \n",
      "...            ...          ...        ...  \n",
      "129974          15            1          3  \n",
      "130799          15            5          6  \n",
      "128287          25            4          7  \n",
      "129561          19            5          6  \n",
      "127189          29            4          5  \n",
      "\n",
      "[635 rows x 10 columns]\n"
     ]
    }
   ],
   "source": [
    "a_train, a_test, b_train, b_test = train_test_split(a, b, test_size = 0.3, random_state = 42)\n",
    "\n",
    "#print(a_train)\n",
    "print(a_test)\n",
    "#print(b_train)\n",
    "#print(b_test)"
   ]
  },
  {
   "cell_type": "code",
   "execution_count": 235,
   "metadata": {
    "colab": {},
    "colab_type": "code",
    "id": "nqx2dijEzIeK"
   },
   "outputs": [],
   "source": [
    "import numpy as np  \n",
    "import matplotlib.pyplot as plt  \n",
    "import seaborn as seabornInstance \n",
    "from sklearn.linear_model import LinearRegression\n",
    "from sklearn import metrics\n",
    "%matplotlib inline"
   ]
  },
  {
   "cell_type": "code",
   "execution_count": 236,
   "metadata": {
    "colab": {},
    "colab_type": "code",
    "id": "6HHemLU20qxI"
   },
   "outputs": [],
   "source": [
    "from sklearn.preprocessing import StandardScaler\n",
    "sc = StandardScaler()\n",
    "a_train = sc.fit_transform(a_train)\n",
    "a_test = sc.transform(a_test)"
   ]
  },
  {
   "cell_type": "markdown",
   "metadata": {
    "colab_type": "text",
    "id": "BbUw1P-aiwBg"
   },
   "source": [
    "###Random Forest Regressor"
   ]
  },
  {
   "cell_type": "code",
   "execution_count": 237,
   "metadata": {
    "colab": {
     "base_uri": "https://localhost:8080/",
     "height": 73
    },
    "colab_type": "code",
    "id": "cnCF9S0K03gI",
    "outputId": "9ba85e05-91e5-4885-d097-d3a1f5492e3b"
   },
   "outputs": [
    {
     "name": "stdout",
     "output_type": "stream",
     "text": [
      "MSE = 8.068734505374948\n",
      "MAE = 0.8533059142310504\n",
      "R2 Score = 0.9371025424993821\n"
     ]
    },
    {
     "data": {
      "text/plain": [
       "array([0.84642086])"
      ]
     },
     "execution_count": 237,
     "metadata": {},
     "output_type": "execute_result"
    }
   ],
   "source": [
    "   from sklearn.ensemble import RandomForestRegressor\n",
    "   regr = RandomForestRegressor(max_depth=2, random_state=0, n_estimators=100)\n",
    "   regr.fit(a_train, b_train)\n",
    "   b_pred = regr.predict(a_test)\n",
    "\n",
    "   from sklearn.metrics import mean_squared_error as mse\n",
    "   from sklearn.metrics import mean_absolute_error as mae\n",
    "   from sklearn.metrics import r2_score\n",
    "\n",
    "   print('MSE =', mse(b_pred, b_test))\n",
    "   print('MAE =', mae(b_pred, b_test))\n",
    "   print('R2 Score =', r2_score(b_pred, b_test))\n",
    "b_pred\n",
    "y = regr.predict([[2022,1.971802,1013.011877,7.504,18.760,7.504,17,15,4,5]])\n",
    "y"
   ]
  },
  {
   "cell_type": "markdown",
   "metadata": {
    "colab_type": "text",
    "id": "9z-PKTBBirP1"
   },
   "source": [
    "###Polynomial Support Vector Machine"
   ]
  },
  {
   "cell_type": "code",
   "execution_count": 238,
   "metadata": {
    "colab": {
     "base_uri": "https://localhost:8080/",
     "height": 111
    },
    "colab_type": "code",
    "id": "zURtx4kAPLTr",
    "outputId": "75a85738-343e-4859-93ce-89cbf8e7349b"
   },
   "outputs": [
    {
     "name": "stdout",
     "output_type": "stream",
     "text": [
      "-0.012092977483566747\n",
      "0.9387824133848827\n"
     ]
    },
    {
     "data": {
      "text/plain": [
       "array([2.61915216e+08])"
      ]
     },
     "execution_count": 238,
     "metadata": {},
     "output_type": "execute_result"
    }
   ],
   "source": [
    "from sklearn.svm import SVR\n",
    "regressorpoly=SVR(kernel='poly',epsilon=1.0)\n",
    "regressorpoly.fit(a_train,b_train)\n",
    "pred=regressorpoly.predict(a_test)\n",
    "print(regressorpoly.score(a_test,b_test))\n",
    "print(r2_score(b_test,b_pred))\n",
    "y = regressorpoly.predict([[2021,1.971802,1013.011877,7.504,18.760,7.504,17,15,4,5]])\n",
    "y"
   ]
  },
  {
   "cell_type": "markdown",
   "metadata": {
    "colab_type": "text",
    "id": "fGc_78_him91"
   },
   "source": [
    "###XGBRegressor"
   ]
  },
  {
   "cell_type": "code",
   "execution_count": 239,
   "metadata": {
    "colab": {
     "base_uri": "https://localhost:8080/",
     "height": 148
    },
    "colab_type": "code",
    "id": "qZAULbjvigKN",
    "outputId": "5297980f-a6b6-43f8-df12-5bd953d23ba5"
   },
   "outputs": [
    {
     "name": "stdout",
     "output_type": "stream",
     "text": [
      "XGBoost validation MAE =  0.9707462777077398\n"
     ]
    },
    {
     "data": {
      "text/plain": [
       "array([ 4.26990062e-01,  4.64506984e-01,  1.00329995e+00,  8.89929116e-01,\n",
       "        5.61844230e-01,  1.18212175e+00,  5.76119804e+01,  6.74155579e+01,\n",
       "        6.56457782e-01,  5.83657682e-01,  7.65249610e-01,  8.35394084e-01,\n",
       "        4.39989120e-01,  7.79760897e-01,  1.06068778e+00,  3.11476636e+00,\n",
       "        2.23508143e+00,  5.85350692e-01,  6.16406798e-01,  3.68363559e-01,\n",
       "        2.14101911e+00,  6.48952603e-01,  1.12853885e+00,  2.12271571e+00,\n",
       "        4.82485533e-01,  6.48396194e-01,  6.59648299e-01,  6.47196889e-01,\n",
       "        4.64656591e-01,  1.26035023e+00,  7.08417501e-03,  1.06961548e+00,\n",
       "        2.48018593e-01,  2.05167341e+00,  1.14247715e+00,  8.96935225e-01,\n",
       "        3.20106566e-01,  1.02650750e+00,  6.61419511e-01,  6.01057231e-01,\n",
       "       -2.14106053e-01,  2.81203855e-02,  5.36001623e-01,  2.96400964e-01,\n",
       "        4.67372149e-01,  3.08758044e+00,  6.83584511e-01,  1.13470089e+00,\n",
       "        2.45299533e-01, -1.01626432e+00,  1.12838364e+00,  7.78142810e-01,\n",
       "        1.26105702e+00,  7.88643181e-01, -4.21164364e-01,  5.47187984e-01,\n",
       "        3.37488145e-01,  8.30736697e-01,  3.48159909e-01,  5.28322309e-02,\n",
       "        2.28802705e+00,  1.26398873e+00,  2.90517360e-01,  1.89458287e+00,\n",
       "        7.46170044e-01,  5.99740067e+01,  3.30122560e-01,  8.85318398e-01,\n",
       "        6.12830877e-01,  3.53941262e-01,  2.54138970e+00,  1.12305558e+00,\n",
       "        1.70818377e+00,  8.63144994e-02,  1.12992251e+00,  7.49069512e-01,\n",
       "       -4.33164269e-01,  1.44649184e+00,  9.47531283e-01,  4.52628136e-01,\n",
       "        3.19005799e+00,  3.38559294e+00, -2.37101883e-01,  1.70896602e+00,\n",
       "        1.16179335e+00,  3.43904018e-01,  5.48315585e-01,  2.32872009e+00,\n",
       "       -5.13590693e-01,  8.19667041e-01,  1.99305379e+00,  6.30090654e-01,\n",
       "        4.32046980e-01,  1.84181929e-01,  1.23356271e+00,  6.62563503e-01,\n",
       "        1.35301208e+00,  9.67412353e-01,  1.43271422e+00,  8.53758276e-01,\n",
       "        4.42108601e-01,  1.45999038e+00,  1.50666738e+00,  8.71814013e-01,\n",
       "        1.29467225e+00,  1.89850318e+00,  2.97171116e-01,  1.74339950e-01,\n",
       "        4.70402807e-01,  1.97165692e+00,  1.62432528e+00,  4.79867727e-01,\n",
       "        6.34718239e-01,  1.02372253e+00,  7.90256882e+01,  1.14455724e+00,\n",
       "        9.73507166e-01,  4.26295102e-01,  1.64455771e+00,  5.67372441e-01,\n",
       "        8.44662368e-01,  6.27477467e-01,  6.09015346e-01, -2.77321544e-02,\n",
       "        8.13303053e-01,  1.62790132e+00,  4.01915014e-01,  3.83245438e-01,\n",
       "        5.91236174e-01,  1.06602931e+00,  1.29558456e+00,  6.44990265e-01,\n",
       "        1.32663715e+00,  6.12581074e-01,  9.55796719e-01,  6.13199294e-01,\n",
       "        6.03781462e-01,  8.57934296e-01,  5.88028193e-01,  3.85395199e-01,\n",
       "        7.80807912e-01,  3.61244261e-01,  1.06218827e+00,  1.47288764e+00,\n",
       "        1.66426992e+00,  3.52864742e-01,  1.15734649e+00,  1.11749053e-01,\n",
       "        2.23513365e+00,  5.01635373e-01,  1.15018129e+00,  3.01349807e+00,\n",
       "        1.58379519e+00,  1.11759396e+01,  1.55906761e+00,  2.58767068e-01,\n",
       "        1.80574751e+00,  3.03899121e+00,  7.06933439e-01,  1.64731339e-01,\n",
       "        8.60309064e-01,  6.65024459e-01,  4.51699287e-01,  4.16593403e-01,\n",
       "        3.09767157e-01,  6.30144997e+01,  2.53588945e-01,  1.80538630e+00,\n",
       "        1.11058927e+00,  8.50225031e-01,  6.52101822e+01,  2.49771285e+00,\n",
       "       -6.51811308e-04,  1.06737733e+00,  1.72090018e+00,  2.94180417e+00,\n",
       "        6.19611442e-01,  8.94664824e-01,  8.77628148e-01,  3.61631781e-01,\n",
       "        5.18028975e-01,  4.11182165e-01,  4.54415560e-01,  1.43553412e+00,\n",
       "        5.94691813e-01,  1.03416729e+00,  1.01279736e+00,  9.91234779e-01,\n",
       "        4.75721031e-01,  1.34428513e+00,  1.30690444e+00,  6.30443037e-01,\n",
       "        9.71987545e-01,  2.96272874e-01,  6.95720077e-01,  4.56841379e-01,\n",
       "        1.85614383e+00,  5.31101837e+01,  3.29077721e-01,  3.01378489e-01,\n",
       "        3.72397113e+00,  6.47080779e-01,  7.89957345e-01,  1.28058553e+00,\n",
       "        8.32152784e-01,  5.44896722e-01,  1.22564411e+00,  7.89947271e-01,\n",
       "        1.42304003e+00,  3.99305552e-01,  3.03866684e-01,  1.31509483e+00,\n",
       "        1.39466321e+00,  1.57649565e+00,  7.73927987e-01,  2.71920204e-01,\n",
       "        6.24379933e-01,  1.80186272e+00,  4.37986195e-01,  6.38349652e-01,\n",
       "        6.28926516e-01,  7.02905476e-01,  8.86509895e-01,  2.14603043e+00,\n",
       "        1.22987890e+00,  1.57025492e+00,  1.79738891e+00,  1.72710288e+00,\n",
       "        8.59714270e-01, -2.23750162e+00,  1.20661080e+00,  7.13129342e-01,\n",
       "        7.33186781e-01,  3.03630292e-01,  3.75859924e-02,  7.65590668e-01,\n",
       "        1.23241401e+00,  7.36993134e-01,  3.00626099e-01,  1.57900071e+00,\n",
       "        6.33821297e+01, -1.22580481e+00,  4.36620772e-01,  7.67528713e-01,\n",
       "        8.77529621e-01,  6.54333293e-01,  4.16508406e-01,  2.78267717e+00,\n",
       "        9.83095288e-01,  2.55338490e-01,  5.80585361e-01, -1.01114523e+00,\n",
       "        7.91634679e-01,  7.54561484e-01,  5.66651993e+01,  3.39477921e+00,\n",
       "        6.20977759e-01,  7.52219086e+01,  7.32833505e-01,  3.58314097e-01,\n",
       "        7.87585676e-01,  1.36815417e+00,  2.06007218e+00,  1.02668905e+00,\n",
       "        2.19691420e+00,  1.04156637e+00,  3.39791775e-01,  5.33277154e-01,\n",
       "        9.28059399e-01,  1.73154402e+00,  8.41405988e-01,  1.16616023e+00,\n",
       "        2.71177888e+00,  1.09200039e+01,  7.13887036e-01,  8.25594068e-01,\n",
       "        1.66792846e+00,  1.65957287e-01,  2.08051276e+00,  8.25234234e-01,\n",
       "        7.47266948e-01,  2.29571581e+00,  6.55753732e-01,  1.50710273e+00,\n",
       "        5.40176570e-01, -2.36523032e+00,  5.44896722e-01,  1.48456085e+00,\n",
       "        2.40037346e+00,  7.99859822e-01,  2.32818812e-01,  2.19713593e+00,\n",
       "        1.37138689e+00,  9.88937259e-01,  1.34575593e+00,  1.16672456e+00,\n",
       "        2.33092833e+00,  3.87861013e-01,  1.34960043e+00,  4.08637255e-01,\n",
       "        6.56489313e-01,  7.11374819e-01,  2.30009770e+00,  2.72704482e+00,\n",
       "        1.45323682e+00,  8.06742847e-01,  8.76712799e-01,  9.28251624e-01,\n",
       "        4.52171594e-01,  8.38452160e-01,  9.28737938e-01,  1.74536300e+00,\n",
       "        8.12946916e-01,  7.01833367e-01,  1.83885384e+00,  4.29906905e-01,\n",
       "        8.24249923e-01,  9.46117580e-01,  8.95827949e-01,  4.66013849e-01,\n",
       "        1.11092615e+00,  1.81025207e+00,  5.04045258e+01,  7.12010086e-01,\n",
       "        1.73713279e+00,  9.98744726e-01,  1.01428330e+00,  1.87353849e-01,\n",
       "        7.00851262e-01,  1.02118111e+00,  4.79546815e-01,  1.40712023e+00,\n",
       "        4.61100787e-01,  4.81477141e-01,  1.11233747e+00,  8.17440152e-01,\n",
       "        2.20474291e+00,  6.32221282e-01,  2.18939710e+00,  7.45550752e-01,\n",
       "        2.90303558e-01,  8.04108739e-01,  5.56889687e+01,  7.60136843e-01,\n",
       "        5.22296548e-01,  1.44087827e+00,  8.69323134e-01,  4.37769979e-01,\n",
       "        4.13435578e-01,  2.03541112e+00,  6.63312376e-02,  9.39852834e-01,\n",
       "        5.66281199e-01,  5.05286217e-01,  7.06289649e-01,  3.63897383e-01,\n",
       "        7.61235654e-01,  5.34497321e-01,  6.06894612e-01,  1.23292983e+00,\n",
       "        9.30836141e-01,  1.17054701e+00,  1.78437066e+00,  1.74886823e+00,\n",
       "        5.42969406e-01,  4.66035843e-01, -7.09393993e-03,  1.54079163e+00,\n",
       "        2.07263303e+00,  2.42602825e-01,  8.25248063e-01,  4.60379362e-01,\n",
       "        2.51267701e-01,  8.08545470e-01,  1.36844838e+00,  9.36934590e-01,\n",
       "        1.08972621e+00,  5.67203104e-01,  9.72637296e-01,  1.42221701e+00,\n",
       "        5.40997922e-01,  1.03439462e+00,  1.56932187e+00,  7.57001817e-01,\n",
       "        3.16657484e-01,  5.29028296e-01,  1.54758739e+00,  1.52129805e+00,\n",
       "        1.46163106e+00,  1.43641543e+00,  7.91493595e-01,  1.65342510e-01,\n",
       "        3.87348592e-01,  6.25052273e-01,  8.39508891e-01,  5.75952470e-01,\n",
       "        1.13034844e+00,  9.96567190e-01,  9.42891479e-01,  7.57446826e-01,\n",
       "        4.55679983e-01,  8.74036431e-01,  7.55155921e-01,  6.59312665e-01,\n",
       "        8.04575235e-02,  3.90298963e-01,  9.54282880e-01,  1.18014979e+00,\n",
       "        1.55493736e+00,  4.77342933e-01,  7.56616235e-01,  1.62827682e+00,\n",
       "        2.21591043e+00,  1.20780766e+00,  1.73417851e-01,  5.40489733e-01,\n",
       "        1.20552385e+00,  5.31715930e-01,  8.40436935e-01,  1.01338935e+00,\n",
       "        1.72825575e+00,  1.02712357e+00,  3.76666695e-01,  7.63595223e-01,\n",
       "        6.31981730e-01,  7.04470575e-01,  3.12411219e-01,  3.50441575e-01,\n",
       "        9.19645965e-01,  1.17008531e+00,  7.04985797e-01,  1.99442402e-01,\n",
       "        1.98167816e-01,  5.36484897e-01,  1.67487705e+00,  5.90573907e-01,\n",
       "        8.43675315e-01,  2.83976245e+00,  1.11235785e+00,  1.51315176e+00,\n",
       "        3.19465250e-01,  3.30676138e-01,  5.02659082e-01,  1.09569216e+00,\n",
       "        7.00915146e+01,  1.67414379e+00,  2.69393516e+00,  1.60357785e+00,\n",
       "        4.94889766e-01,  4.92160141e-01,  1.57543564e+00,  1.23563075e+00,\n",
       "        1.09157515e+00,  2.36017990e+00,  6.46628857e-01,  2.71043777e+00,\n",
       "        4.26990062e-01,  3.29739153e-01,  2.68602580e-01,  5.68232119e-01,\n",
       "        9.39852834e-01,  1.06109869e+00, -1.90814704e-01,  9.21843290e-01,\n",
       "        4.55576837e-01,  2.17771053e+00,  3.95108908e-01,  8.03552806e-01,\n",
       "        1.29456949e+00,  4.32560682e-01,  3.59746277e-01,  2.75763959e-01,\n",
       "        2.20237568e-01,  5.56778967e-01,  4.76611525e-01,  4.37044203e-01,\n",
       "        1.21939313e+00,  8.58548820e-01,  1.53501797e+00,  3.51224720e-01,\n",
       "        1.10865646e+02,  1.11613929e+00,  1.90853214e+00,  3.38658953e+00,\n",
       "        1.00230420e+00,  6.13593340e-01,  2.82834917e-01,  3.90346229e-01,\n",
       "        7.15004265e-01,  7.58829340e-02,  1.91137373e+00,  7.10920868e+01,\n",
       "        9.97479200e-01,  1.33939242e+00,  5.04817467e+01,  2.80844837e-01,\n",
       "        7.48377681e-01,  4.91526067e-01,  5.32725275e-01,  6.13987029e-01,\n",
       "        1.33198932e-01,  1.63470590e+00,  4.33676690e-01,  6.24719262e-01,\n",
       "        1.07635093e+00,  5.67520678e-01,  6.56439900e-01,  3.55697370e+00,\n",
       "        6.00583732e-01,  1.67826533e+00,  4.75104988e-01,  6.95068896e-01,\n",
       "        6.26018167e-01,  8.75440300e-01,  8.70769799e-01,  8.92163336e-01,\n",
       "        3.17209506e+00,  6.66341245e-01,  1.10655755e-01,  3.94544631e-01,\n",
       "        6.74412549e-01,  4.86529648e-01,  4.03443843e-01,  4.39465284e-01,\n",
       "        3.11935961e-01,  2.73704576e+00,  1.37747610e+00,  5.87634802e-01,\n",
       "       -8.71214509e-01,  1.00293481e+00,  3.89897555e-01,  6.11658394e-01,\n",
       "        6.00093842e-01,  1.98546112e-01,  7.91631937e-01,  2.11461043e+00,\n",
       "        2.18953061e+00,  1.83706462e+00,  9.15432811e-01,  9.34042811e-01,\n",
       "        4.77338344e-01,  6.82925522e-01,  1.14416051e+00,  1.37196791e+00,\n",
       "        1.03542614e+00,  7.25207627e-01,  7.67097235e-01,  8.60521317e-01,\n",
       "        4.28041667e-01,  4.71787959e-01,  1.10690272e+00,  5.54585695e-01,\n",
       "        4.94677305e+00,  1.78988945e+00,  5.67102373e-01,  8.05270791e-01,\n",
       "        7.21563935e-01,  9.18334067e-01, -1.67601421e-01,  4.32212621e-01,\n",
       "        6.94652021e-01,  1.15106559e+00,  6.12940013e-01,  9.47331011e-01,\n",
       "        1.10388979e-01,  3.52889091e-01,  1.51315176e+00,  7.94011593e-01,\n",
       "        3.45859647e-01,  1.38811743e+00,  6.55273557e-01,  6.84900818e+01,\n",
       "        7.25970328e-01,  1.58426547e+00,  1.38464594e+00,  1.20847499e+00,\n",
       "        1.04466133e-01,  8.34598839e-01,  9.88124251e-01,  1.39026725e+00,\n",
       "        6.45856082e-01, -4.48256701e-01, -8.64436701e-02,  4.38961834e-01,\n",
       "        7.04029381e-01,  5.16794324e-01,  3.85568470e-01,  1.49809074e+00,\n",
       "        5.48504233e-01,  2.21685338e+00,  6.31578684e-01,  5.17710686e-01,\n",
       "        8.24280143e-01,  1.09737551e+00,  2.39887166e+00,  1.43572032e+00,\n",
       "        5.93762279e-01,  1.20623386e+00,  9.45166051e-01,  8.63410890e-01,\n",
       "        1.37714088e+00, -1.42675769e+00,  1.59710979e+00,  1.05297947e+00,\n",
       "        3.92559528e-01,  2.37363875e-02,  1.19150364e+00,  3.18363518e-01,\n",
       "        7.21559465e-01,  4.77153748e-01,  1.48579276e+00,  1.22521293e+00,\n",
       "        1.29555225e+00,  6.89265609e-01,  3.96922350e-01,  1.55661488e+00,\n",
       "        7.73155689e-01,  2.34325677e-01,  2.24132347e+00,  1.34349418e+00,\n",
       "        6.72759414e-01,  1.59899580e+00,  1.27570316e-01,  9.42279100e-01,\n",
       "        2.26566315e+00,  5.96323967e-01,  2.26234496e-01,  1.42141557e+00,\n",
       "        4.37828124e-01,  3.18155676e-01,  1.66003907e+00,  9.53735530e-01,\n",
       "        2.29261279e+00,  9.17285502e-01,  7.39133775e-01], dtype=float32)"
      ]
     },
     "execution_count": 239,
     "metadata": {},
     "output_type": "execute_result"
    }
   ],
   "source": [
    "from xgboost import XGBRegressor\n",
    "from sklearn.metrics import mean_absolute_error \n",
    "XGBModel = XGBRegressor()\n",
    "XGBModel.fit(a_train,b_train , verbose=False)\n",
    "\n",
    "# Get the mean absolute error on the validation data :\n",
    "XGBpredictions = XGBModel.predict(a_test)\n",
    "MAE = mean_absolute_error(b_test , XGBpredictions)\n",
    "print('XGBoost validation MAE = ',MAE)\n",
    "XGBpredictions\n"
   ]
  },
  {
   "cell_type": "code",
   "execution_count": 240,
   "metadata": {},
   "outputs": [
    {
     "name": "stdout",
     "output_type": "stream",
     "text": [
      "0.8872599585529676\n"
     ]
    }
   ],
   "source": [
    "\n",
    "print(r2_score(b_test , XGBpredictions))"
   ]
  },
  {
   "cell_type": "code",
   "execution_count": 241,
   "metadata": {},
   "outputs": [
    {
     "data": {
      "text/plain": [
       "array([2.3403976], dtype=float32)"
      ]
     },
     "execution_count": 241,
     "metadata": {},
     "output_type": "execute_result"
    }
   ],
   "source": [
    "y = XGBModel.predict([[2021,1.971802,1013.011877,7.504,18.760,7.504,17,15,4,5]])\n",
    "y"
   ]
  },
  {
   "cell_type": "code",
   "execution_count": 242,
   "metadata": {},
   "outputs": [],
   "source": [
    "import pickle\n",
    "# Dump the trained SVM classifier with Pickle\n",
    "SVM_pkl_filename = 'xgboost_yield_prediction_final.pkl'\n",
    "# Open the file to save as pkl file\n",
    "SVM_Model_pkl = open(SVM_pkl_filename, 'wb')\n",
    "pickle.dump(XGBpredictions, SVM_Model_pkl)\n",
    "# Close the pickle instances\n",
    "SVM_Model_pkl.close()"
   ]
  },
  {
   "cell_type": "code",
   "execution_count": null,
   "metadata": {},
   "outputs": [],
   "source": []
  },
  {
   "cell_type": "code",
   "execution_count": 243,
   "metadata": {},
   "outputs": [
    {
     "name": "stdout",
     "output_type": "stream",
     "text": [
      "[2.3403976]\n"
     ]
    }
   ],
   "source": [
    "import joblib\n",
    " \n",
    "# Save the model as a pickle in a file\n",
    "joblib.dump(XGBModel, 'xgboost_yield_prediction_final.pkl')\n",
    " \n",
    "# Load the model from the file\n",
    "knn_from_joblib = joblib.load('xgboost_yield_prediction_final.pkl')\n",
    " \n",
    "# Use the loaded model to make predictions\n",
    "print(knn_from_joblib.predict([[2021,1.971802,1013.011877,7.504,18.760,7.504,17,15,4,5]]))"
   ]
  },
  {
   "cell_type": "markdown",
   "metadata": {
    "colab_type": "text",
    "id": "qD3v_OvRfV-a"
   },
   "source": [
    "##Neural Network Implementation"
   ]
  },
  {
   "cell_type": "code",
   "execution_count": 244,
   "metadata": {
    "colab": {
     "base_uri": "https://localhost:8080/",
     "height": 84
    },
    "colab_type": "code",
    "id": "ToChzUcWRDRo",
    "outputId": "400a472d-9de7-4b30-f851-de65c0af836b"
   },
   "outputs": [],
   "source": [
    "from tensorflow.keras.callbacks import ModelCheckpoint\n",
    "from tensorflow.keras.models import Sequential\n",
    "from tensorflow.keras.layers import Dense, Activation, Flatten\n",
    "from sklearn.model_selection import train_test_split\n",
    "from sklearn.ensemble import RandomForestRegressor\n",
    "from sklearn.metrics import mean_absolute_error \n",
    "from matplotlib import pyplot as plt\n",
    "import seaborn as sb\n",
    "import matplotlib.pyplot as plt\n",
    "import pandas as pd\n",
    "import numpy as np\n",
    "import warnings\n",
    "from tensorflow.keras.callbacks import History \n",
    "warnings.filterwarnings('ignore')\n",
    "warnings.filterwarnings('ignore', category=DeprecationWarning)"
   ]
  },
  {
   "cell_type": "code",
   "execution_count": 245,
   "metadata": {
    "colab": {
     "base_uri": "https://localhost:8080/",
     "height": 520
    },
    "colab_type": "code",
    "id": "T6xH68B2gZRJ",
    "outputId": "16fb6a3f-c43e-4172-98cd-09a7afebb766",
    "scrolled": true
   },
   "outputs": [
    {
     "name": "stdout",
     "output_type": "stream",
     "text": [
      "Model: \"sequential_2\"\n",
      "_________________________________________________________________\n",
      " Layer (type)                Output Shape              Param #   \n",
      "=================================================================\n",
      " dense_10 (Dense)            (None, 128)               1408      \n",
      "                                                                 \n",
      " dense_11 (Dense)            (None, 256)               33024     \n",
      "                                                                 \n",
      " dense_12 (Dense)            (None, 256)               65792     \n",
      "                                                                 \n",
      " dense_13 (Dense)            (None, 256)               65792     \n",
      "                                                                 \n",
      " dense_14 (Dense)            (None, 1)                 257       \n",
      "                                                                 \n",
      "=================================================================\n",
      "Total params: 166,273\n",
      "Trainable params: 166,273\n",
      "Non-trainable params: 0\n",
      "_________________________________________________________________\n"
     ]
    }
   ],
   "source": [
    "NN_model = Sequential()\n",
    "\n",
    "# The Input Layer :\n",
    "NN_model.add(Dense(128, kernel_initializer='normal',input_dim = a_train.shape[1], activation='relu'))\n",
    "\n",
    "# The Hidden Layers :\n",
    "NN_model.add(Dense(256, kernel_initializer='normal',activation='relu'))\n",
    "NN_model.add(Dense(256, kernel_initializer='normal',activation='relu'))\n",
    "NN_model.add(Dense(256, kernel_initializer='normal',activation='relu'))\n",
    "\n",
    "# The Output Layer :\n",
    "NN_model.add(Dense(1, kernel_initializer='normal',activation='linear'))\n",
    "\n",
    "# Compile the network :\n",
    "NN_model.compile(loss='mean_absolute_error', optimizer='adam', metrics=['accuracy','mean_absolute_error'])\n",
    "NN_model.summary()"
   ]
  },
  {
   "cell_type": "code",
   "execution_count": 246,
   "metadata": {
    "colab": {
     "base_uri": "https://localhost:8080/",
     "height": 1000
    },
    "colab_type": "code",
    "id": "SiJpN3TGgZ1w",
    "outputId": "addea8d8-5f2c-456f-9337-f59729d8beab"
   },
   "outputs": [
    {
     "name": "stdout",
     "output_type": "stream",
     "text": [
      "Epoch 1/50\n",
      "3/3 [==============================] - 0s 62ms/step - loss: 3.8707 - accuracy: 0.0042 - mean_absolute_error: 3.8707 - val_loss: 3.1156 - val_accuracy: 0.0000e+00 - val_mean_absolute_error: 3.1156\n",
      "Epoch 2/50\n",
      "3/3 [==============================] - 0s 10ms/step - loss: 3.6598 - accuracy: 0.0076 - mean_absolute_error: 3.6598 - val_loss: 2.9050 - val_accuracy: 0.0438 - val_mean_absolute_error: 2.9050\n",
      "Epoch 3/50\n",
      "3/3 [==============================] - 0s 11ms/step - loss: 3.5226 - accuracy: 0.0591 - mean_absolute_error: 3.5226 - val_loss: 2.9496 - val_accuracy: 0.0471 - val_mean_absolute_error: 2.9496\n",
      "Epoch 4/50\n",
      "3/3 [==============================] - 0s 10ms/step - loss: 3.5412 - accuracy: 0.0617 - mean_absolute_error: 3.5412 - val_loss: 2.8823 - val_accuracy: 0.0438 - val_mean_absolute_error: 2.8823\n",
      "Epoch 5/50\n",
      "3/3 [==============================] - 0s 10ms/step - loss: 3.4779 - accuracy: 0.0583 - mean_absolute_error: 3.4779 - val_loss: 2.8817 - val_accuracy: 0.0404 - val_mean_absolute_error: 2.8817\n",
      "Epoch 6/50\n",
      "3/3 [==============================] - 0s 10ms/step - loss: 3.4871 - accuracy: 0.0439 - mean_absolute_error: 3.4871 - val_loss: 2.8792 - val_accuracy: 0.0370 - val_mean_absolute_error: 2.8792\n",
      "Epoch 7/50\n",
      "3/3 [==============================] - 0s 10ms/step - loss: 3.4752 - accuracy: 0.0431 - mean_absolute_error: 3.4752 - val_loss: 2.8544 - val_accuracy: 0.0370 - val_mean_absolute_error: 2.8544\n",
      "Epoch 8/50\n",
      "3/3 [==============================] - 0s 10ms/step - loss: 3.4577 - accuracy: 0.0507 - mean_absolute_error: 3.4577 - val_loss: 2.8683 - val_accuracy: 0.0438 - val_mean_absolute_error: 2.8683\n",
      "Epoch 9/50\n",
      "3/3 [==============================] - 0s 11ms/step - loss: 3.4661 - accuracy: 0.0557 - mean_absolute_error: 3.4661 - val_loss: 2.8610 - val_accuracy: 0.0404 - val_mean_absolute_error: 2.8610\n",
      "Epoch 10/50\n",
      "3/3 [==============================] - 0s 10ms/step - loss: 3.4569 - accuracy: 0.0532 - mean_absolute_error: 3.4569 - val_loss: 2.8472 - val_accuracy: 0.0337 - val_mean_absolute_error: 2.8472\n",
      "Epoch 11/50\n",
      "3/3 [==============================] - 0s 10ms/step - loss: 3.4524 - accuracy: 0.0498 - mean_absolute_error: 3.4524 - val_loss: 2.8500 - val_accuracy: 0.0337 - val_mean_absolute_error: 2.8500\n",
      "Epoch 12/50\n",
      "3/3 [==============================] - 0s 11ms/step - loss: 3.4537 - accuracy: 0.0490 - mean_absolute_error: 3.4537 - val_loss: 2.8468 - val_accuracy: 0.0370 - val_mean_absolute_error: 2.8468\n",
      "Epoch 13/50\n",
      "3/3 [==============================] - 0s 11ms/step - loss: 3.4485 - accuracy: 0.0515 - mean_absolute_error: 3.4485 - val_loss: 2.8495 - val_accuracy: 0.0370 - val_mean_absolute_error: 2.8495\n",
      "Epoch 14/50\n",
      "3/3 [==============================] - 0s 10ms/step - loss: 3.4487 - accuracy: 0.0541 - mean_absolute_error: 3.4487 - val_loss: 2.8538 - val_accuracy: 0.0404 - val_mean_absolute_error: 2.8538\n",
      "Epoch 15/50\n",
      "3/3 [==============================] - 0s 10ms/step - loss: 3.4497 - accuracy: 0.0557 - mean_absolute_error: 3.4497 - val_loss: 2.8500 - val_accuracy: 0.0370 - val_mean_absolute_error: 2.8500\n",
      "Epoch 16/50\n",
      "3/3 [==============================] - 0s 10ms/step - loss: 3.4453 - accuracy: 0.0532 - mean_absolute_error: 3.4453 - val_loss: 2.8482 - val_accuracy: 0.0370 - val_mean_absolute_error: 2.8482\n",
      "Epoch 17/50\n",
      "3/3 [==============================] - 0s 12ms/step - loss: 3.4437 - accuracy: 0.0524 - mean_absolute_error: 3.4437 - val_loss: 2.8480 - val_accuracy: 0.0370 - val_mean_absolute_error: 2.8480\n",
      "Epoch 18/50\n",
      "3/3 [==============================] - 0s 12ms/step - loss: 3.4430 - accuracy: 0.0515 - mean_absolute_error: 3.4430 - val_loss: 2.8490 - val_accuracy: 0.0370 - val_mean_absolute_error: 2.8490\n",
      "Epoch 19/50\n",
      "3/3 [==============================] - 0s 11ms/step - loss: 3.4414 - accuracy: 0.0532 - mean_absolute_error: 3.4414 - val_loss: 2.8499 - val_accuracy: 0.0370 - val_mean_absolute_error: 2.8499\n",
      "Epoch 20/50\n",
      "3/3 [==============================] - 0s 11ms/step - loss: 3.4420 - accuracy: 0.0532 - mean_absolute_error: 3.4420 - val_loss: 2.8476 - val_accuracy: 0.0370 - val_mean_absolute_error: 2.8476\n",
      "Epoch 21/50\n",
      "3/3 [==============================] - 0s 11ms/step - loss: 3.4394 - accuracy: 0.0541 - mean_absolute_error: 3.4394 - val_loss: 2.8447 - val_accuracy: 0.0370 - val_mean_absolute_error: 2.8447\n",
      "Epoch 22/50\n",
      "3/3 [==============================] - 0s 11ms/step - loss: 3.4393 - accuracy: 0.0524 - mean_absolute_error: 3.4393 - val_loss: 2.8442 - val_accuracy: 0.0370 - val_mean_absolute_error: 2.8442\n",
      "Epoch 23/50\n",
      "3/3 [==============================] - 0s 10ms/step - loss: 3.4384 - accuracy: 0.0541 - mean_absolute_error: 3.4384 - val_loss: 2.8444 - val_accuracy: 0.0370 - val_mean_absolute_error: 2.8444\n",
      "Epoch 24/50\n",
      "3/3 [==============================] - 0s 10ms/step - loss: 3.4364 - accuracy: 0.0541 - mean_absolute_error: 3.4364 - val_loss: 2.8433 - val_accuracy: 0.0370 - val_mean_absolute_error: 2.8433\n",
      "Epoch 25/50\n",
      "3/3 [==============================] - 0s 10ms/step - loss: 3.4357 - accuracy: 0.0532 - mean_absolute_error: 3.4357 - val_loss: 2.8435 - val_accuracy: 0.0370 - val_mean_absolute_error: 2.8435\n",
      "Epoch 26/50\n",
      "3/3 [==============================] - 0s 9ms/step - loss: 3.4346 - accuracy: 0.0541 - mean_absolute_error: 3.4346 - val_loss: 2.8431 - val_accuracy: 0.0370 - val_mean_absolute_error: 2.8431\n",
      "Epoch 27/50\n",
      "3/3 [==============================] - 0s 9ms/step - loss: 3.4338 - accuracy: 0.0541 - mean_absolute_error: 3.4338 - val_loss: 2.8438 - val_accuracy: 0.0404 - val_mean_absolute_error: 2.8438\n",
      "Epoch 28/50\n",
      "3/3 [==============================] - 0s 9ms/step - loss: 3.4331 - accuracy: 0.0566 - mean_absolute_error: 3.4331 - val_loss: 2.8419 - val_accuracy: 0.0370 - val_mean_absolute_error: 2.8419\n",
      "Epoch 29/50\n",
      "3/3 [==============================] - 0s 10ms/step - loss: 3.4310 - accuracy: 0.0549 - mean_absolute_error: 3.4310 - val_loss: 2.8421 - val_accuracy: 0.0370 - val_mean_absolute_error: 2.8421\n",
      "Epoch 30/50\n",
      "3/3 [==============================] - 0s 10ms/step - loss: 3.4296 - accuracy: 0.0557 - mean_absolute_error: 3.4296 - val_loss: 2.8426 - val_accuracy: 0.0370 - val_mean_absolute_error: 2.8426\n",
      "Epoch 31/50\n",
      "3/3 [==============================] - 0s 9ms/step - loss: 3.4281 - accuracy: 0.0566 - mean_absolute_error: 3.4281 - val_loss: 2.8422 - val_accuracy: 0.0370 - val_mean_absolute_error: 2.8422\n",
      "Epoch 32/50\n",
      "3/3 [==============================] - 0s 9ms/step - loss: 3.4263 - accuracy: 0.0541 - mean_absolute_error: 3.4263 - val_loss: 2.8417 - val_accuracy: 0.0438 - val_mean_absolute_error: 2.8417\n",
      "Epoch 33/50\n",
      "3/3 [==============================] - 0s 10ms/step - loss: 3.4250 - accuracy: 0.0541 - mean_absolute_error: 3.4250 - val_loss: 2.8414 - val_accuracy: 0.0438 - val_mean_absolute_error: 2.8414\n",
      "Epoch 34/50\n",
      "3/3 [==============================] - 0s 11ms/step - loss: 3.4230 - accuracy: 0.0566 - mean_absolute_error: 3.4230 - val_loss: 2.8414 - val_accuracy: 0.0471 - val_mean_absolute_error: 2.8414\n",
      "Epoch 35/50\n",
      "3/3 [==============================] - 0s 9ms/step - loss: 3.4217 - accuracy: 0.0566 - mean_absolute_error: 3.4217 - val_loss: 2.8412 - val_accuracy: 0.0438 - val_mean_absolute_error: 2.8412\n",
      "Epoch 36/50\n",
      "3/3 [==============================] - 0s 9ms/step - loss: 3.4188 - accuracy: 0.0566 - mean_absolute_error: 3.4188 - val_loss: 2.8401 - val_accuracy: 0.0404 - val_mean_absolute_error: 2.8401\n",
      "Epoch 37/50\n",
      "3/3 [==============================] - 0s 9ms/step - loss: 3.4159 - accuracy: 0.0566 - mean_absolute_error: 3.4159 - val_loss: 2.8400 - val_accuracy: 0.0438 - val_mean_absolute_error: 2.8400\n",
      "Epoch 38/50\n",
      "3/3 [==============================] - 0s 9ms/step - loss: 3.4139 - accuracy: 0.0574 - mean_absolute_error: 3.4139 - val_loss: 2.8372 - val_accuracy: 0.0404 - val_mean_absolute_error: 2.8372\n",
      "Epoch 39/50\n",
      "3/3 [==============================] - 0s 9ms/step - loss: 3.4116 - accuracy: 0.0566 - mean_absolute_error: 3.4116 - val_loss: 2.8361 - val_accuracy: 0.0404 - val_mean_absolute_error: 2.8361\n",
      "Epoch 40/50\n",
      "3/3 [==============================] - 0s 9ms/step - loss: 3.4079 - accuracy: 0.0574 - mean_absolute_error: 3.4079 - val_loss: 2.8360 - val_accuracy: 0.0438 - val_mean_absolute_error: 2.8360\n",
      "Epoch 41/50\n"
     ]
    },
    {
     "name": "stdout",
     "output_type": "stream",
     "text": [
      "3/3 [==============================] - 0s 10ms/step - loss: 3.4053 - accuracy: 0.0574 - mean_absolute_error: 3.4053 - val_loss: 2.8332 - val_accuracy: 0.0438 - val_mean_absolute_error: 2.8332\n",
      "Epoch 42/50\n",
      "3/3 [==============================] - 0s 9ms/step - loss: 3.4059 - accuracy: 0.0541 - mean_absolute_error: 3.4059 - val_loss: 2.8321 - val_accuracy: 0.0438 - val_mean_absolute_error: 2.8321\n",
      "Epoch 43/50\n",
      "3/3 [==============================] - 0s 9ms/step - loss: 3.4062 - accuracy: 0.0591 - mean_absolute_error: 3.4062 - val_loss: 2.8265 - val_accuracy: 0.0438 - val_mean_absolute_error: 2.8265\n",
      "Epoch 44/50\n",
      "3/3 [==============================] - 0s 10ms/step - loss: 3.3975 - accuracy: 0.0549 - mean_absolute_error: 3.3975 - val_loss: 2.8251 - val_accuracy: 0.0404 - val_mean_absolute_error: 2.8251\n",
      "Epoch 45/50\n",
      "3/3 [==============================] - 0s 9ms/step - loss: 3.3949 - accuracy: 0.0600 - mean_absolute_error: 3.3949 - val_loss: 2.8256 - val_accuracy: 0.0438 - val_mean_absolute_error: 2.8256\n",
      "Epoch 46/50\n",
      "3/3 [==============================] - 0s 9ms/step - loss: 3.3921 - accuracy: 0.0600 - mean_absolute_error: 3.3921 - val_loss: 2.8227 - val_accuracy: 0.0438 - val_mean_absolute_error: 2.8227\n",
      "Epoch 47/50\n",
      "3/3 [==============================] - 0s 10ms/step - loss: 3.3873 - accuracy: 0.0583 - mean_absolute_error: 3.3873 - val_loss: 2.8278 - val_accuracy: 0.0438 - val_mean_absolute_error: 2.8278\n",
      "Epoch 48/50\n",
      "3/3 [==============================] - 0s 9ms/step - loss: 3.3834 - accuracy: 0.0583 - mean_absolute_error: 3.3834 - val_loss: 2.8236 - val_accuracy: 0.0370 - val_mean_absolute_error: 2.8236\n",
      "Epoch 49/50\n",
      "3/3 [==============================] - 0s 9ms/step - loss: 3.3818 - accuracy: 0.0557 - mean_absolute_error: 3.3818 - val_loss: 2.8251 - val_accuracy: 0.0438 - val_mean_absolute_error: 2.8251\n",
      "Epoch 50/50\n",
      "3/3 [==============================] - 0s 9ms/step - loss: 3.3742 - accuracy: 0.0591 - mean_absolute_error: 3.3742 - val_loss: 2.8146 - val_accuracy: 0.0438 - val_mean_absolute_error: 2.8146\n"
     ]
    }
   ],
   "source": [
    "from tensorflow.keras.callbacks import History \n",
    "history = History()\n",
    "History=NN_model.fit(a_train, b_train, epochs=50, batch_size=500, validation_split = 0.2, callbacks=[history])"
   ]
  },
  {
   "cell_type": "code",
   "execution_count": 247,
   "metadata": {},
   "outputs": [
    {
     "name": "stdout",
     "output_type": "stream",
     "text": [
      "dict_keys(['loss', 'accuracy', 'mean_absolute_error', 'val_loss', 'val_accuracy', 'val_mean_absolute_error'])\n"
     ]
    },
    {
     "data": {
      "text/plain": [
       "Text(0.5, 0, 'epoch')"
      ]
     },
     "execution_count": 247,
     "metadata": {},
     "output_type": "execute_result"
    },
    {
     "data": {
      "image/png": "[encoded data removed]",
      "text/plain": [
       "<Figure size 432x288 with 1 Axes>"
      ]
     },
     "metadata": {
      "needs_background": "light"
     },
     "output_type": "display_data"
    }
   ],
   "source": [
    "print(history.history.keys())\n",
    "plt.plot(History.history['mean_absolute_error'])\n",
    "plt.ylabel('mean_absolute_error')\n",
    "plt.xlabel('epoch')"
   ]
  },
  {
   "cell_type": "code",
   "execution_count": 248,
   "metadata": {},
   "outputs": [
    {
     "data": {
      "image/png": "[encoded data removed]",
      "text/plain": [
       "<Figure size 432x288 with 1 Axes>"
      ]
     },
     "metadata": {
      "needs_background": "light"
     },
     "output_type": "display_data"
    }
   ],
   "source": [
    "plt.plot(History.history['mean_absolute_error'])\n",
    "plt.plot(History.history['val_mean_absolute_error'])\n",
    "plt.title('mean_absolute_error')\n",
    "plt.ylabel('mean_absolute_error')\n",
    "plt.xlabel('epoch')\n",
    "plt.legend(['train', 'test'], loc='upper left')\n",
    "plt.show()\n"
   ]
  },
  {
   "cell_type": "code",
   "execution_count": 249,
   "metadata": {},
   "outputs": [],
   "source": [
    "\n",
    "    \n",
    "features_list=['State','Season_Name', 'Crop_Names', 'Soil_Type', \n",
    "       'N', 'P', 'K' ]"
   ]
  },
  {
   "cell_type": "code",
   "execution_count": 250,
   "metadata": {},
   "outputs": [
    {
     "name": "stdout",
     "output_type": "stream",
     "text": [
      "7\n"
     ]
    }
   ],
   "source": [
    "print(features_list.index('State'))"
   ]
  },
  {
   "cell_type": "code",
   "execution_count": 251,
   "metadata": {},
   "outputs": [
    {
     "ename": "IndexError",
     "evalue": "list index out of range",
     "output_type": "error",
     "traceback": [
      "\u001b[1;31m---------------------------------------------------------------------------\u001b[0m",
      "\u001b[1;31mIndexError\u001b[0m                                Traceback (most recent call last)",
      "Input \u001b[1;32mIn [251]\u001b[0m, in \u001b[0;36m<cell line: 1>\u001b[1;34m()\u001b[0m\n\u001b[1;32m----> 1\u001b[0m \u001b[43mfeatures_list\u001b[49m\u001b[43m[\u001b[49m\u001b[38;5;241;43m11\u001b[39;49m\u001b[43m]\u001b[49m\n",
      "\u001b[1;31mIndexError\u001b[0m: list index out of range"
     ]
    }
   ],
   "source": [
    "features_list[11]"
   ]
  },
  {
   "cell_type": "code",
   "execution_count": null,
   "metadata": {},
   "outputs": [],
   "source": []
  },
  {
   "cell_type": "code",
   "execution_count": null,
   "metadata": {},
   "outputs": [],
   "source": []
  },
  {
   "cell_type": "code",
   "execution_count": null,
   "metadata": {},
   "outputs": [],
   "source": []
  },
  {
   "cell_type": "code",
   "execution_count": null,
   "metadata": {},
   "outputs": [],
   "source": []
  },
  {
   "cell_type": "code",
   "execution_count": null,
   "metadata": {},
   "outputs": [],
   "source": []
  }
 ],
 "metadata": {
  "accelerator": "GPU",
  "colab": {
   "collapsed_sections": [],
   "name": "FinalBennetProject.ipynb",
   "provenance": [],
   "toc_visible": true
  },
  "kernelspec": {
   "display_name": "Python 3 (ipykernel)",
   "language": "python",
   "name": "python3"
  },
  "language_info": {
   "codemirror_mode": {
    "name": "ipython",
    "version": 3
   },
   "file_extension": ".py",
   "mimetype": "text/x-python",
   "name": "python",
   "nbconvert_exporter": "python",
   "pygments_lexer": "ipython3",
   "version": "3.9.12"
  },
  "vscode": {
   "interpreter": {
    "hash": "bff97e2ed20cc7883dfc4020ea5e878e3a6755d5c12b524f21f4ac7eb0cb0db6"
   }
  }
 },
 "nbformat": 4,
 "nbformat_minor": 1
}
