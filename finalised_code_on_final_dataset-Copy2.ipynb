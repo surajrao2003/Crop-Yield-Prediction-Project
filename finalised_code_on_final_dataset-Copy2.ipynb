{
 "cells": [
  {
   "cell_type": "markdown",
   "metadata": {
    "colab_type": "text",
    "id": "S_NIzz0DIxUQ"
   },
   "source": [
    "#**CROP YIELD PREDICTION**"
   ]
  },
  {
   "cell_type": "markdown",
   "metadata": {
    "colab_type": "text",
    "id": "4q9XG_lYfqd2"
   },
   "source": [
    "#Dataset 1"
   ]
  },
  {
   "cell_type": "markdown",
   "metadata": {
    "colab_type": "text",
    "id": "hoIvQtcvOiYB"
   },
   "source": [
    "##Reading Dataset"
   ]
  },
  {
   "cell_type": "code",
   "execution_count": 300,
   "metadata": {
    "colab": {
     "base_uri": "https://localhost:8080/",
     "height": 424
    },
    "colab_type": "code",
    "id": "t9DHU4au4lKN",
    "outputId": "4b5c8394-3135-4c26-f852-73f42aaa7f64"
   },
   "outputs": [
    {
     "data": {
      "text/html": [
       "<div>\n",
       "<style scoped>\n",
       "    .dataframe tbody tr th:only-of-type {\n",
       "        vertical-align: middle;\n",
       "    }\n",
       "\n",
       "    .dataframe tbody tr th {\n",
       "        vertical-align: top;\n",
       "    }\n",
       "\n",
       "    .dataframe thead th {\n",
       "        text-align: right;\n",
       "    }\n",
       "</style>\n",
       "<table border=\"1\" class=\"dataframe\">\n",
       "  <thead>\n",
       "    <tr style=\"text-align: right;\">\n",
       "      <th></th>\n",
       "      <th>state_names</th>\n",
       "      <th>district_names</th>\n",
       "      <th>crop_year</th>\n",
       "      <th>season_names</th>\n",
       "      <th>crop_names</th>\n",
       "      <th>area</th>\n",
       "      <th>temperature</th>\n",
       "      <th>wind_speed</th>\n",
       "      <th>precipitation</th>\n",
       "      <th>humidity</th>\n",
       "      <th>soil_type</th>\n",
       "      <th>N</th>\n",
       "      <th>P</th>\n",
       "      <th>K</th>\n",
       "      <th>production</th>\n",
       "    </tr>\n",
       "  </thead>\n",
       "  <tbody>\n",
       "    <tr>\n",
       "      <th>0</th>\n",
       "      <td>Andaman and Nicobar Islands</td>\n",
       "      <td>NICOBARS</td>\n",
       "      <td>2007</td>\n",
       "      <td>Kharif</td>\n",
       "      <td>Other Kharif pulses</td>\n",
       "      <td>2.0</td>\n",
       "      <td>20.48349</td>\n",
       "      <td>1.971802</td>\n",
       "      <td>1013.011877</td>\n",
       "      <td>64.876363</td>\n",
       "      <td>sandy</td>\n",
       "      <td>7.182</td>\n",
       "      <td>18.354</td>\n",
       "      <td>0.000</td>\n",
       "      <td>1.0</td>\n",
       "    </tr>\n",
       "    <tr>\n",
       "      <th>1</th>\n",
       "      <td>Andaman and Nicobar Islands</td>\n",
       "      <td>NICOBARS</td>\n",
       "      <td>2007</td>\n",
       "      <td>Whole Year</td>\n",
       "      <td>Banana</td>\n",
       "      <td>176.0</td>\n",
       "      <td>20.48349</td>\n",
       "      <td>1.971802</td>\n",
       "      <td>1013.011877</td>\n",
       "      <td>64.876363</td>\n",
       "      <td>peaty</td>\n",
       "      <td>8.740</td>\n",
       "      <td>8.740</td>\n",
       "      <td>0.000</td>\n",
       "      <td>641.0</td>\n",
       "    </tr>\n",
       "    <tr>\n",
       "      <th>2</th>\n",
       "      <td>Andaman and Nicobar Islands</td>\n",
       "      <td>NICOBARS</td>\n",
       "      <td>2007</td>\n",
       "      <td>Whole Year</td>\n",
       "      <td>Cashewnut</td>\n",
       "      <td>720.0</td>\n",
       "      <td>20.48349</td>\n",
       "      <td>1.971802</td>\n",
       "      <td>1013.011877</td>\n",
       "      <td>64.876363</td>\n",
       "      <td>clay</td>\n",
       "      <td>0.615</td>\n",
       "      <td>0.615</td>\n",
       "      <td>0.615</td>\n",
       "      <td>165.0</td>\n",
       "    </tr>\n",
       "    <tr>\n",
       "      <th>3</th>\n",
       "      <td>Andaman and Nicobar Islands</td>\n",
       "      <td>NICOBARS</td>\n",
       "      <td>2007</td>\n",
       "      <td>Whole Year</td>\n",
       "      <td>Coconut</td>\n",
       "      <td>18168.0</td>\n",
       "      <td>20.48349</td>\n",
       "      <td>1.971802</td>\n",
       "      <td>1013.011877</td>\n",
       "      <td>64.876363</td>\n",
       "      <td>chalky</td>\n",
       "      <td>38.250</td>\n",
       "      <td>38.250</td>\n",
       "      <td>38.250</td>\n",
       "      <td>65100000.0</td>\n",
       "    </tr>\n",
       "    <tr>\n",
       "      <th>4</th>\n",
       "      <td>Andaman and Nicobar Islands</td>\n",
       "      <td>NICOBARS</td>\n",
       "      <td>2007</td>\n",
       "      <td>Whole Year</td>\n",
       "      <td>Sugarcane</td>\n",
       "      <td>1.0</td>\n",
       "      <td>20.48349</td>\n",
       "      <td>1.971802</td>\n",
       "      <td>1013.011877</td>\n",
       "      <td>64.876363</td>\n",
       "      <td>peaty</td>\n",
       "      <td>4.530</td>\n",
       "      <td>11.778</td>\n",
       "      <td>11.778</td>\n",
       "      <td>2.0</td>\n",
       "    </tr>\n",
       "    <tr>\n",
       "      <th>...</th>\n",
       "      <td>...</td>\n",
       "      <td>...</td>\n",
       "      <td>...</td>\n",
       "      <td>...</td>\n",
       "      <td>...</td>\n",
       "      <td>...</td>\n",
       "      <td>...</td>\n",
       "      <td>...</td>\n",
       "      <td>...</td>\n",
       "      <td>...</td>\n",
       "      <td>...</td>\n",
       "      <td>...</td>\n",
       "      <td>...</td>\n",
       "      <td>...</td>\n",
       "      <td>...</td>\n",
       "    </tr>\n",
       "    <tr>\n",
       "      <th>245999</th>\n",
       "      <td>West Bengal</td>\n",
       "      <td>PURULIA</td>\n",
       "      <td>2021</td>\n",
       "      <td>Rabi</td>\n",
       "      <td>Urad</td>\n",
       "      <td>220.0</td>\n",
       "      <td>20.48349</td>\n",
       "      <td>1.971802</td>\n",
       "      <td>1013.011877</td>\n",
       "      <td>64.876363</td>\n",
       "      <td>clay</td>\n",
       "      <td>4.531</td>\n",
       "      <td>4.531</td>\n",
       "      <td>0.000</td>\n",
       "      <td>113.0</td>\n",
       "    </tr>\n",
       "    <tr>\n",
       "      <th>246000</th>\n",
       "      <td>West Bengal</td>\n",
       "      <td>PURULIA</td>\n",
       "      <td>2021</td>\n",
       "      <td>Summer</td>\n",
       "      <td>Maize</td>\n",
       "      <td>325.0</td>\n",
       "      <td>20.48349</td>\n",
       "      <td>1.971802</td>\n",
       "      <td>1013.011877</td>\n",
       "      <td>64.876363</td>\n",
       "      <td>silt</td>\n",
       "      <td>916.136</td>\n",
       "      <td>0.000</td>\n",
       "      <td>0.000</td>\n",
       "      <td>2039.0</td>\n",
       "    </tr>\n",
       "    <tr>\n",
       "      <th>246001</th>\n",
       "      <td>West Bengal</td>\n",
       "      <td>PURULIA</td>\n",
       "      <td>2021</td>\n",
       "      <td>Summer</td>\n",
       "      <td>Rice</td>\n",
       "      <td>306.0</td>\n",
       "      <td>20.48349</td>\n",
       "      <td>1.971802</td>\n",
       "      <td>1013.011877</td>\n",
       "      <td>64.876363</td>\n",
       "      <td>sandy</td>\n",
       "      <td>9.630</td>\n",
       "      <td>24.610</td>\n",
       "      <td>0.000</td>\n",
       "      <td>801.0</td>\n",
       "    </tr>\n",
       "    <tr>\n",
       "      <th>246002</th>\n",
       "      <td>West Bengal</td>\n",
       "      <td>PURULIA</td>\n",
       "      <td>2021</td>\n",
       "      <td>Summer</td>\n",
       "      <td>Sesamum</td>\n",
       "      <td>627.0</td>\n",
       "      <td>20.48349</td>\n",
       "      <td>1.971802</td>\n",
       "      <td>1013.011877</td>\n",
       "      <td>64.876363</td>\n",
       "      <td>loamy</td>\n",
       "      <td>56.070</td>\n",
       "      <td>0.000</td>\n",
       "      <td>0.000</td>\n",
       "      <td>463.0</td>\n",
       "    </tr>\n",
       "    <tr>\n",
       "      <th>246003</th>\n",
       "      <td>West Bengal</td>\n",
       "      <td>PURULIA</td>\n",
       "      <td>2021</td>\n",
       "      <td>Whole Year</td>\n",
       "      <td>Sugarcane</td>\n",
       "      <td>324.0</td>\n",
       "      <td>20.48349</td>\n",
       "      <td>1.971802</td>\n",
       "      <td>1013.011877</td>\n",
       "      <td>64.876363</td>\n",
       "      <td>peaty</td>\n",
       "      <td>9.000</td>\n",
       "      <td>9.000</td>\n",
       "      <td>0.000</td>\n",
       "      <td>16250.0</td>\n",
       "    </tr>\n",
       "  </tbody>\n",
       "</table>\n",
       "<p>246004 rows × 15 columns</p>\n",
       "</div>"
      ],
      "text/plain": [
       "                        state_names district_names  crop_year season_names  \\\n",
       "0       Andaman and Nicobar Islands       NICOBARS       2007  Kharif        \n",
       "1       Andaman and Nicobar Islands       NICOBARS       2007  Whole Year    \n",
       "2       Andaman and Nicobar Islands       NICOBARS       2007  Whole Year    \n",
       "3       Andaman and Nicobar Islands       NICOBARS       2007  Whole Year    \n",
       "4       Andaman and Nicobar Islands       NICOBARS       2007  Whole Year    \n",
       "...                             ...            ...        ...          ...   \n",
       "245999                  West Bengal        PURULIA       2021  Rabi          \n",
       "246000                  West Bengal        PURULIA       2021  Summer        \n",
       "246001                  West Bengal        PURULIA       2021  Summer        \n",
       "246002                  West Bengal        PURULIA       2021  Summer        \n",
       "246003                  West Bengal        PURULIA       2021  Whole Year    \n",
       "\n",
       "                 crop_names     area  temperature  wind_speed  precipitation  \\\n",
       "0       Other Kharif pulses      2.0     20.48349    1.971802    1013.011877   \n",
       "1                    Banana    176.0     20.48349    1.971802    1013.011877   \n",
       "2                 Cashewnut    720.0     20.48349    1.971802    1013.011877   \n",
       "3                  Coconut   18168.0     20.48349    1.971802    1013.011877   \n",
       "4                 Sugarcane      1.0     20.48349    1.971802    1013.011877   \n",
       "...                     ...      ...          ...         ...            ...   \n",
       "245999                 Urad    220.0     20.48349    1.971802    1013.011877   \n",
       "246000                Maize    325.0     20.48349    1.971802    1013.011877   \n",
       "246001                 Rice    306.0     20.48349    1.971802    1013.011877   \n",
       "246002              Sesamum    627.0     20.48349    1.971802    1013.011877   \n",
       "246003            Sugarcane    324.0     20.48349    1.971802    1013.011877   \n",
       "\n",
       "         humidity soil_type        N       P       K  production  \n",
       "0       64.876363     sandy    7.182  18.354   0.000         1.0  \n",
       "1       64.876363     peaty    8.740   8.740   0.000       641.0  \n",
       "2       64.876363      clay    0.615   0.615   0.615       165.0  \n",
       "3       64.876363    chalky   38.250  38.250  38.250  65100000.0  \n",
       "4       64.876363     peaty    4.530  11.778  11.778         2.0  \n",
       "...           ...       ...      ...     ...     ...         ...  \n",
       "245999  64.876363      clay    4.531   4.531   0.000       113.0  \n",
       "246000  64.876363      silt  916.136   0.000   0.000      2039.0  \n",
       "246001  64.876363     sandy    9.630  24.610   0.000       801.0  \n",
       "246002  64.876363     loamy   56.070   0.000   0.000       463.0  \n",
       "246003  64.876363     peaty    9.000   9.000   0.000     16250.0  \n",
       "\n",
       "[246004 rows x 15 columns]"
      ]
     },
     "execution_count": 300,
     "metadata": {},
     "output_type": "execute_result"
    }
   ],
   "source": [
    "import pandas as pd\n",
    "import numpy as np\n",
    "df = pd.read_csv('complete_dataset.csv',na_values='=')\n",
    "df"
   ]
  },
  {
   "cell_type": "code",
   "execution_count": 301,
   "metadata": {},
   "outputs": [
    {
     "data": {
      "text/plain": [
       "array(['Other Kharif pulses', 'Banana', 'Cashewnut', 'Coconut ',\n",
       "       'Sugarcane', 'Sweet potato', 'Tapioca', 'Rice', 'Black pepper',\n",
       "       'Dry chillies', 'Dry ginger', 'Arecanut', 'other oilseeds',\n",
       "       'Turmeric', 'Maize', 'Moong(Green Gram)', 'Arhar/Tur', 'Groundnut',\n",
       "       'Sunflower', 'Urad', 'Bajra', 'Castor seed', 'Horse-gram', 'Jowar',\n",
       "       'Korra', 'Ragi', 'Tobacco', 'Gram', 'Wheat', 'Cotton(lint)',\n",
       "       'Masoor', 'Sesamum', 'Linseed', 'Safflower', 'Onion',\n",
       "       'other misc. pulses', 'Samai', 'Small millets', 'Coriander',\n",
       "       'Potato', 'Other  Rabi pulses', 'Soyabean',\n",
       "       'Beans & Mutter(Vegetable)', 'Bhindi', 'Brinjal', 'Citrus Fruit',\n",
       "       'Cucumber', 'Grapes', 'Mango', 'Orange', 'other fibres',\n",
       "       'Other Fresh Fruits', 'Other Vegetables', 'Papaya', 'Pome Fruit',\n",
       "       'Tomato', 'Rapeseed &Mustard', 'Mesta', 'Cowpea(Lobia)', 'Lemon',\n",
       "       'Pome Granet', 'Sapota', 'Cabbage', 'Peas  (vegetable)',\n",
       "       'Niger seed', 'Bottle Gourd', 'Sannhamp', 'Varagu', 'Garlic',\n",
       "       'Ginger', 'Oilseeds total', 'Pulses total', 'Jute',\n",
       "       'Peas & beans (Pulses)', 'Blackgram', 'Paddy', 'Pineapple',\n",
       "       'Barley', 'Khesari', 'Guar seed', 'Moth',\n",
       "       'Other Cereals & Millets', 'Cond-spcs other', 'Turnip', 'Carrot',\n",
       "       'Redish', 'Arcanut (Processed)', 'Atcanut (Raw)',\n",
       "       'Cashewnut Processed', 'Cashewnut Raw', 'Cardamom', 'Rubber',\n",
       "       'Bitter Gourd', 'Drum Stick', 'Jack Fruit', 'Snak Guard',\n",
       "       'Pump Kin', 'Tea', 'Coffee', 'Cauliflower', 'Other Citrus Fruit',\n",
       "       'Water Melon', 'Total foodgrain', 'Kapas', 'Colocosia', 'Lentil',\n",
       "       'Bean', 'Jobster', 'Perilla', 'Rajmash Kholar',\n",
       "       'Ricebean (nagadal)', 'Ash Gourd', 'Beet Root', 'Lab-Lab',\n",
       "       'Ribed Guard', 'Yam', 'Apple', 'Peach', 'Pear', 'Plums', 'Litchi',\n",
       "       'Ber', 'Other Dry Fruit', 'Jute & mesta'], dtype=object)"
      ]
     },
     "execution_count": 301,
     "metadata": {},
     "output_type": "execute_result"
    }
   ],
   "source": [
    "df['crop_names'].unique()"
   ]
  },
  {
   "cell_type": "code",
   "execution_count": 303,
   "metadata": {},
   "outputs": [
    {
     "name": "stdout",
     "output_type": "stream",
     "text": [
      "<class 'pandas.core.frame.DataFrame'>\n",
      "RangeIndex: 246004 entries, 0 to 246003\n",
      "Data columns (total 16 columns):\n",
      " #   Column          Non-Null Count   Dtype  \n",
      "---  ------          --------------   -----  \n",
      " 0   state_names     246004 non-null  object \n",
      " 1   district_names  246004 non-null  object \n",
      " 2   crop_year       246004 non-null  int64  \n",
      " 3   season_names    246004 non-null  object \n",
      " 4   crop_names      246004 non-null  object \n",
      " 5   area            246004 non-null  float64\n",
      " 6   temperature     246004 non-null  float64\n",
      " 7   wind_speed      246004 non-null  float64\n",
      " 8   precipitation   246004 non-null  float64\n",
      " 9   humidity        246004 non-null  float64\n",
      " 10  soil_type       246004 non-null  object \n",
      " 11  N               246004 non-null  float64\n",
      " 12  P               246004 non-null  float64\n",
      " 13  K               246004 non-null  float64\n",
      " 14  production      242277 non-null  float64\n",
      " 15  Yield           242277 non-null  float64\n",
      "dtypes: float64(10), int64(1), object(5)\n",
      "memory usage: 30.0+ MB\n"
     ]
    }
   ],
   "source": [
    "\n",
    "df['Yield'] = df['production']/df['area']\n",
    "df.info()"
   ]
  },
  {
   "cell_type": "code",
   "execution_count": 304,
   "metadata": {},
   "outputs": [
    {
     "name": "stdout",
     "output_type": "stream",
     "text": [
      "{'Kharif     ': 1, 'Whole Year ': 2, 'Autumn     ': 3, 'Rabi       ': 4, 'Summer     ': 5, 'Winter     ': 6}\n"
     ]
    },
    {
     "data": {
      "text/html": [
       "<div>\n",
       "<style scoped>\n",
       "    .dataframe tbody tr th:only-of-type {\n",
       "        vertical-align: middle;\n",
       "    }\n",
       "\n",
       "    .dataframe tbody tr th {\n",
       "        vertical-align: top;\n",
       "    }\n",
       "\n",
       "    .dataframe thead th {\n",
       "        text-align: right;\n",
       "    }\n",
       "</style>\n",
       "<table border=\"1\" class=\"dataframe\">\n",
       "  <thead>\n",
       "    <tr style=\"text-align: right;\">\n",
       "      <th></th>\n",
       "      <th>crop_year</th>\n",
       "      <th>temperature</th>\n",
       "      <th>wind_speed</th>\n",
       "      <th>precipitation</th>\n",
       "      <th>humidity</th>\n",
       "      <th>N</th>\n",
       "      <th>P</th>\n",
       "      <th>K</th>\n",
       "      <th>Yield</th>\n",
       "      <th>State</th>\n",
       "      <th>Crop_Names</th>\n",
       "      <th>Season_Name</th>\n",
       "      <th>Soil_Type</th>\n",
       "    </tr>\n",
       "  </thead>\n",
       "  <tbody>\n",
       "    <tr>\n",
       "      <th>0</th>\n",
       "      <td>2007</td>\n",
       "      <td>20.48349</td>\n",
       "      <td>1.971802</td>\n",
       "      <td>1013.011877</td>\n",
       "      <td>64.876363</td>\n",
       "      <td>7.182</td>\n",
       "      <td>18.354</td>\n",
       "      <td>0.000</td>\n",
       "      <td>0.500000</td>\n",
       "      <td>0</td>\n",
       "      <td>2</td>\n",
       "      <td>1</td>\n",
       "      <td>2</td>\n",
       "    </tr>\n",
       "    <tr>\n",
       "      <th>1</th>\n",
       "      <td>2007</td>\n",
       "      <td>20.48349</td>\n",
       "      <td>1.971802</td>\n",
       "      <td>1013.011877</td>\n",
       "      <td>64.876363</td>\n",
       "      <td>8.740</td>\n",
       "      <td>8.740</td>\n",
       "      <td>0.000</td>\n",
       "      <td>3.642045</td>\n",
       "      <td>0</td>\n",
       "      <td>4</td>\n",
       "      <td>2</td>\n",
       "      <td>3</td>\n",
       "    </tr>\n",
       "    <tr>\n",
       "      <th>2</th>\n",
       "      <td>2007</td>\n",
       "      <td>20.48349</td>\n",
       "      <td>1.971802</td>\n",
       "      <td>1013.011877</td>\n",
       "      <td>64.876363</td>\n",
       "      <td>0.615</td>\n",
       "      <td>0.615</td>\n",
       "      <td>0.615</td>\n",
       "      <td>0.229167</td>\n",
       "      <td>0</td>\n",
       "      <td>5</td>\n",
       "      <td>2</td>\n",
       "      <td>1</td>\n",
       "    </tr>\n",
       "    <tr>\n",
       "      <th>3</th>\n",
       "      <td>2007</td>\n",
       "      <td>20.48349</td>\n",
       "      <td>1.971802</td>\n",
       "      <td>1013.011877</td>\n",
       "      <td>64.876363</td>\n",
       "      <td>38.250</td>\n",
       "      <td>38.250</td>\n",
       "      <td>38.250</td>\n",
       "      <td>3583.223250</td>\n",
       "      <td>0</td>\n",
       "      <td>6</td>\n",
       "      <td>2</td>\n",
       "      <td>4</td>\n",
       "    </tr>\n",
       "    <tr>\n",
       "      <th>4</th>\n",
       "      <td>2007</td>\n",
       "      <td>20.48349</td>\n",
       "      <td>1.971802</td>\n",
       "      <td>1013.011877</td>\n",
       "      <td>64.876363</td>\n",
       "      <td>4.530</td>\n",
       "      <td>11.778</td>\n",
       "      <td>11.778</td>\n",
       "      <td>2.000000</td>\n",
       "      <td>0</td>\n",
       "      <td>8</td>\n",
       "      <td>2</td>\n",
       "      <td>3</td>\n",
       "    </tr>\n",
       "    <tr>\n",
       "      <th>...</th>\n",
       "      <td>...</td>\n",
       "      <td>...</td>\n",
       "      <td>...</td>\n",
       "      <td>...</td>\n",
       "      <td>...</td>\n",
       "      <td>...</td>\n",
       "      <td>...</td>\n",
       "      <td>...</td>\n",
       "      <td>...</td>\n",
       "      <td>...</td>\n",
       "      <td>...</td>\n",
       "      <td>...</td>\n",
       "      <td>...</td>\n",
       "    </tr>\n",
       "    <tr>\n",
       "      <th>245999</th>\n",
       "      <td>2021</td>\n",
       "      <td>20.48349</td>\n",
       "      <td>1.971802</td>\n",
       "      <td>1013.011877</td>\n",
       "      <td>64.876363</td>\n",
       "      <td>4.531</td>\n",
       "      <td>4.531</td>\n",
       "      <td>0.000</td>\n",
       "      <td>0.513636</td>\n",
       "      <td>32</td>\n",
       "      <td>17</td>\n",
       "      <td>4</td>\n",
       "      <td>1</td>\n",
       "    </tr>\n",
       "    <tr>\n",
       "      <th>246000</th>\n",
       "      <td>2021</td>\n",
       "      <td>20.48349</td>\n",
       "      <td>1.971802</td>\n",
       "      <td>1013.011877</td>\n",
       "      <td>64.876363</td>\n",
       "      <td>916.136</td>\n",
       "      <td>0.000</td>\n",
       "      <td>0.000</td>\n",
       "      <td>6.273846</td>\n",
       "      <td>32</td>\n",
       "      <td>15</td>\n",
       "      <td>5</td>\n",
       "      <td>5</td>\n",
       "    </tr>\n",
       "    <tr>\n",
       "      <th>246001</th>\n",
       "      <td>2021</td>\n",
       "      <td>20.48349</td>\n",
       "      <td>1.971802</td>\n",
       "      <td>1013.011877</td>\n",
       "      <td>64.876363</td>\n",
       "      <td>9.630</td>\n",
       "      <td>24.610</td>\n",
       "      <td>0.000</td>\n",
       "      <td>2.617647</td>\n",
       "      <td>32</td>\n",
       "      <td>3</td>\n",
       "      <td>5</td>\n",
       "      <td>2</td>\n",
       "    </tr>\n",
       "    <tr>\n",
       "      <th>246002</th>\n",
       "      <td>2021</td>\n",
       "      <td>20.48349</td>\n",
       "      <td>1.971802</td>\n",
       "      <td>1013.011877</td>\n",
       "      <td>64.876363</td>\n",
       "      <td>56.070</td>\n",
       "      <td>0.000</td>\n",
       "      <td>0.000</td>\n",
       "      <td>0.738437</td>\n",
       "      <td>32</td>\n",
       "      <td>32</td>\n",
       "      <td>5</td>\n",
       "      <td>7</td>\n",
       "    </tr>\n",
       "    <tr>\n",
       "      <th>246003</th>\n",
       "      <td>2021</td>\n",
       "      <td>20.48349</td>\n",
       "      <td>1.971802</td>\n",
       "      <td>1013.011877</td>\n",
       "      <td>64.876363</td>\n",
       "      <td>9.000</td>\n",
       "      <td>9.000</td>\n",
       "      <td>0.000</td>\n",
       "      <td>50.154321</td>\n",
       "      <td>32</td>\n",
       "      <td>8</td>\n",
       "      <td>2</td>\n",
       "      <td>3</td>\n",
       "    </tr>\n",
       "  </tbody>\n",
       "</table>\n",
       "<p>246004 rows × 13 columns</p>\n",
       "</div>"
      ],
      "text/plain": [
       "        crop_year  temperature  wind_speed  precipitation   humidity        N  \\\n",
       "0            2007     20.48349    1.971802    1013.011877  64.876363    7.182   \n",
       "1            2007     20.48349    1.971802    1013.011877  64.876363    8.740   \n",
       "2            2007     20.48349    1.971802    1013.011877  64.876363    0.615   \n",
       "3            2007     20.48349    1.971802    1013.011877  64.876363   38.250   \n",
       "4            2007     20.48349    1.971802    1013.011877  64.876363    4.530   \n",
       "...           ...          ...         ...            ...        ...      ...   \n",
       "245999       2021     20.48349    1.971802    1013.011877  64.876363    4.531   \n",
       "246000       2021     20.48349    1.971802    1013.011877  64.876363  916.136   \n",
       "246001       2021     20.48349    1.971802    1013.011877  64.876363    9.630   \n",
       "246002       2021     20.48349    1.971802    1013.011877  64.876363   56.070   \n",
       "246003       2021     20.48349    1.971802    1013.011877  64.876363    9.000   \n",
       "\n",
       "             P       K        Yield  State  Crop_Names  Season_Name  Soil_Type  \n",
       "0       18.354   0.000     0.500000      0           2            1          2  \n",
       "1        8.740   0.000     3.642045      0           4            2          3  \n",
       "2        0.615   0.615     0.229167      0           5            2          1  \n",
       "3       38.250  38.250  3583.223250      0           6            2          4  \n",
       "4       11.778  11.778     2.000000      0           8            2          3  \n",
       "...        ...     ...          ...    ...         ...          ...        ...  \n",
       "245999   4.531   0.000     0.513636     32          17            4          1  \n",
       "246000   0.000   0.000     6.273846     32          15            5          5  \n",
       "246001  24.610   0.000     2.617647     32           3            5          2  \n",
       "246002   0.000   0.000     0.738437     32          32            5          7  \n",
       "246003   9.000   0.000    50.154321     32           8            2          3  \n",
       "\n",
       "[246004 rows x 13 columns]"
      ]
     },
     "execution_count": 304,
     "metadata": {},
     "output_type": "execute_result"
    }
   ],
   "source": [
    "data = {'Andaman and Nicobar Islands': 0,\n",
    " 'Andhra Pradesh': 1,\n",
    " 'Arunachal Pradesh': 2,\n",
    " 'Assam': 3,\n",
    " 'Bihar': 4,\n",
    " 'Chandigarh': 5,\n",
    " 'Chhattisgarh': 6,\n",
    " 'Dadra and Nagar Haveli': 7,\n",
    " 'Goa': 8,\n",
    " 'Gujarat': 9,\n",
    " 'Haryana': 10,\n",
    " 'Himachal Pradesh': 11,\n",
    " 'Jammu and Kashmir ': 12,\n",
    " 'Jharkhand': 13,\n",
    " 'Karnataka': 14,\n",
    " 'Kerala': 15,\n",
    " 'Madhya Pradesh': 16,\n",
    " 'Maharashtra': 17,\n",
    " 'Manipur': 18,\n",
    " 'Meghalaya': 19,\n",
    " 'Mizoram': 20,\n",
    " 'Nagaland': 21,\n",
    " 'Odisha': 22,\n",
    " 'Puducherry': 23,\n",
    " 'Punjab': 24,\n",
    " 'Rajasthan': 25,\n",
    " 'Sikkim': 26,\n",
    " 'Tamil Nadu': 27,\n",
    " 'Telangana ': 28,\n",
    " 'Tripura': 29,\n",
    " 'Uttar Pradesh': 30,\n",
    " 'Uttarakhand': 31,\n",
    " 'West Bengal': 32\n",
    "}\n",
    "data2 = {'Arecanut':1, 'Other Kharif pulses':2, 'Rice':3, 'Banana':4, 'Cashewnut':5,\n",
    "       'Coconut ':6, 'Dry ginger':7, 'Sugarcane':8, 'Sweet potato':9, 'Tapioca':10,\n",
    "       'Black pepper':11, 'Dry chillies':12, 'other oilseeds':13, 'Turmeric':14,\n",
    "       'Maize':15, 'Moong(Green Gram)':16, 'Urad':17, 'Arhar/Tur':18, 'Groundnut':19,\n",
    "       'Sunflower':20, 'Bajra':21, 'Castor seed':22, 'Cotton(lint)':23, 'Horse-gram':24,\n",
    "       'Jowar':25, 'Korra':26, 'Ragi':27, 'Tobacco':28, 'Gram':29, 'Wheat':30, 'Masoor':31,\n",
    "       'Sesamum':32, 'Linseed':33, 'Safflower':34, 'Onion':35, 'other misc. pulses':36,\n",
    "       'Samai':37, 'Small millets':38, 'Coriander':39, 'Potato':40,\n",
    "       'Other  Rabi pulses':41, 'Soyabean':42, 'Beans & Mutter(Vegetable)':43,\n",
    "       'Bhindi':44, 'Brinjal':45, 'Citrus Fruit':46, 'Cucumber':47, 'Grapes':48, 'Mango':49,\n",
    "       'Orange':50, 'other fibres':51, 'Other Fresh Fruits':52, 'Other Vegetables':53,\n",
    "       'Papaya':54, 'Pome Fruit':55, 'Tomato':56, 'Rapeseed &Mustard':57, 'Mesta':58,\n",
    "       'Cowpea(Lobia)':59, 'Lemon':60, 'Pome Granet':61, 'Sapota':62, 'Cabbage':63,\n",
    "       'Peas  (vegetable)':64, 'Niger seed':65, 'Bottle Gourd':66, 'Sannhamp':67,\n",
    "       'Varagu':68, 'Garlic':69, 'Ginger':70, 'Oilseeds total':71, 'Pulses total':72,\n",
    "       'Jute':73, 'Peas & beans (Pulses)':74, 'Blackgram':75, 'Paddy':76, 'Pineapple':77,\n",
    "       'Barley':78, 'Khesari':79, 'Guar seed':80, 'Moth':81,\n",
    "       'Other Cereals & Millets':82, 'Cond-spcs other':83, 'Turnip':84, 'Carrot':85,\n",
    "       'Redish':86, 'Arcanut (Processed)':87, 'Atcanut (Raw)':88,\n",
    "       'Cashewnut Processed':89, 'Cashewnut Raw':90, 'Cardamom':91, 'Rubber':92,\n",
    "       'Bitter Gourd':93, 'Drum Stick':94, 'Jack Fruit':95, 'Snak Guard':96,\n",
    "       'Pump Kin':97, 'Tea':98, 'Coffee':99, 'Cauliflower':100, 'Other Citrus Fruit':101,\n",
    "       'Water Melon':102, 'Total foodgrain':103, 'Kapas':104, 'Colocosia':105, 'Lentil':106,\n",
    "       'Bean':107, 'Jobster':108, 'Perilla':109, 'Rajmash Kholar':110,\n",
    "       'Ricebean (nagadal)':111, 'Ash Gourd':112, 'Beet Root':113, 'Lab-Lab':114,\n",
    "       'Ribed Guard':115, 'Yam':116, 'Apple':117, 'Peach':118, 'Pear':119, 'Plums':120, 'Litchi':121,\n",
    "       'Ber':122, 'Other Dry Fruit':123, 'Jute & mesta':124}\n",
    "data3 = {'Kharif     ':1, 'Whole Year ':2, 'Autumn     ':3, 'Rabi       ':4,\n",
    "       'Summer     ':5, 'Winter     ':6}\n",
    "data4 = {'clay':1, 'sandy':2, 'peaty':3, 'chalky':4, 'silt':5, 'silty':6, 'loamy':7}\n",
    "print(data3)\n",
    "\n",
    "df[\"State\"] = df[\"state_names\"].replace(data)\n",
    "df[\"Crop_Names\"] = df[\"crop_names\"].replace(data2)\n",
    "df[\"Season_Name\"] = df[\"season_names\"].replace(data3)\n",
    "df[\"Soil_Type\"] = df[\"soil_type\"].replace(data4)\n",
    "df = df.drop(['state_names','district_names','crop_names','soil_type','season_names','area','production'],axis=1)\n",
    "df"
   ]
  },
  {
   "cell_type": "code",
   "execution_count": 305,
   "metadata": {},
   "outputs": [],
   "source": [
    "#df=df.drop('Yield', axis = 1)"
   ]
  },
  {
   "cell_type": "code",
   "execution_count": 306,
   "metadata": {},
   "outputs": [
    {
     "name": "stdout",
     "output_type": "stream",
     "text": [
      "<class 'pandas.core.frame.DataFrame'>\n",
      "RangeIndex: 246004 entries, 0 to 246003\n",
      "Data columns (total 13 columns):\n",
      " #   Column         Non-Null Count   Dtype  \n",
      "---  ------         --------------   -----  \n",
      " 0   crop_year      246004 non-null  int64  \n",
      " 1   temperature    246004 non-null  float64\n",
      " 2   wind_speed     246004 non-null  float64\n",
      " 3   precipitation  246004 non-null  float64\n",
      " 4   humidity       246004 non-null  float64\n",
      " 5   N              246004 non-null  float64\n",
      " 6   P              246004 non-null  float64\n",
      " 7   K              246004 non-null  float64\n",
      " 8   Yield          242277 non-null  float64\n",
      " 9   State          246004 non-null  int64  \n",
      " 10  Crop_Names     246004 non-null  int64  \n",
      " 11  Season_Name    246004 non-null  int64  \n",
      " 12  Soil_Type      246004 non-null  int64  \n",
      "dtypes: float64(8), int64(5)\n",
      "memory usage: 24.4 MB\n"
     ]
    }
   ],
   "source": [
    "df.info()"
   ]
  },
  {
   "cell_type": "code",
   "execution_count": null,
   "metadata": {},
   "outputs": [],
   "source": []
  },
  {
   "cell_type": "code",
   "execution_count": 307,
   "metadata": {},
   "outputs": [
    {
     "data": {
      "text/plain": [
       "Index(['crop_year', 'temperature', 'wind_speed', 'precipitation', 'humidity',\n",
       "       'N', 'P', 'K', 'Yield', 'State', 'Crop_Names', 'Season_Name',\n",
       "       'Soil_Type'],\n",
       "      dtype='object')"
      ]
     },
     "execution_count": 307,
     "metadata": {},
     "output_type": "execute_result"
    }
   ],
   "source": [
    "df.columns\n"
   ]
  },
  {
   "cell_type": "markdown",
   "metadata": {
    "colab_type": "text",
    "id": "03kn7ZrreQlg"
   },
   "source": [
    "##Reducing Data to One State for Ease"
   ]
  },
  {
   "cell_type": "code",
   "execution_count": 308,
   "metadata": {
    "colab": {},
    "colab_type": "code",
    "id": "PAB2PI8DeWTh"
   },
   "outputs": [
    {
     "name": "stdout",
     "output_type": "stream",
     "text": [
      "<class 'pandas.core.frame.DataFrame'>\n",
      "Int64Index: 12628 entries, 125132 to 137759\n",
      "Data columns (total 13 columns):\n",
      " #   Column         Non-Null Count  Dtype  \n",
      "---  ------         --------------  -----  \n",
      " 0   crop_year      12628 non-null  int64  \n",
      " 1   temperature    12628 non-null  float64\n",
      " 2   wind_speed     12628 non-null  float64\n",
      " 3   precipitation  12628 non-null  float64\n",
      " 4   humidity       12628 non-null  float64\n",
      " 5   N              12628 non-null  float64\n",
      " 6   P              12628 non-null  float64\n",
      " 7   K              12628 non-null  float64\n",
      " 8   Yield          12496 non-null  float64\n",
      " 9   State          12628 non-null  int64  \n",
      " 10  Crop_Names     12628 non-null  int64  \n",
      " 11  Season_Name    12628 non-null  int64  \n",
      " 12  Soil_Type      12628 non-null  int64  \n",
      "dtypes: float64(8), int64(5)\n",
      "memory usage: 1.3 MB\n"
     ]
    }
   ],
   "source": [
    "df = df[df['State'] == 17]\n",
    "\n",
    "df.info()"
   ]
  },
  {
   "cell_type": "code",
   "execution_count": 309,
   "metadata": {},
   "outputs": [
    {
     "name": "stdout",
     "output_type": "stream",
     "text": [
      "<class 'pandas.core.frame.DataFrame'>\n",
      "Int64Index: 12628 entries, 125132 to 137759\n",
      "Data columns (total 13 columns):\n",
      " #   Column         Non-Null Count  Dtype  \n",
      "---  ------         --------------  -----  \n",
      " 0   crop_year      12628 non-null  int64  \n",
      " 1   temperature    12628 non-null  float64\n",
      " 2   wind_speed     12628 non-null  float64\n",
      " 3   precipitation  12628 non-null  float64\n",
      " 4   humidity       12628 non-null  float64\n",
      " 5   N              12628 non-null  float64\n",
      " 6   P              12628 non-null  float64\n",
      " 7   K              12628 non-null  float64\n",
      " 8   Yield          12496 non-null  float64\n",
      " 9   State          12628 non-null  int64  \n",
      " 10  Crop_Names     12628 non-null  int64  \n",
      " 11  Season_Name    12628 non-null  int64  \n",
      " 12  Soil_Type      12628 non-null  int64  \n",
      "dtypes: float64(8), int64(5)\n",
      "memory usage: 1.3 MB\n"
     ]
    }
   ],
   "source": [
    "df.info()"
   ]
  },
  {
   "cell_type": "code",
   "execution_count": 310,
   "metadata": {},
   "outputs": [
    {
     "data": {
      "text/plain": [
       "crop_year          0\n",
       "temperature        0\n",
       "wind_speed         0\n",
       "precipitation      0\n",
       "humidity           0\n",
       "N                  0\n",
       "P                  0\n",
       "K                  0\n",
       "Yield            132\n",
       "State              0\n",
       "Crop_Names         0\n",
       "Season_Name        0\n",
       "Soil_Type          0\n",
       "dtype: int64"
      ]
     },
     "execution_count": 310,
     "metadata": {},
     "output_type": "execute_result"
    }
   ],
   "source": [
    "df.isnull().sum()"
   ]
  },
  {
   "cell_type": "code",
   "execution_count": 311,
   "metadata": {},
   "outputs": [
    {
     "data": {
      "text/html": [
       "<div>\n",
       "<style scoped>\n",
       "    .dataframe tbody tr th:only-of-type {\n",
       "        vertical-align: middle;\n",
       "    }\n",
       "\n",
       "    .dataframe tbody tr th {\n",
       "        vertical-align: top;\n",
       "    }\n",
       "\n",
       "    .dataframe thead th {\n",
       "        text-align: right;\n",
       "    }\n",
       "</style>\n",
       "<table border=\"1\" class=\"dataframe\">\n",
       "  <thead>\n",
       "    <tr style=\"text-align: right;\">\n",
       "      <th></th>\n",
       "      <th>crop_year</th>\n",
       "      <th>temperature</th>\n",
       "      <th>wind_speed</th>\n",
       "      <th>precipitation</th>\n",
       "      <th>humidity</th>\n",
       "      <th>N</th>\n",
       "      <th>P</th>\n",
       "      <th>K</th>\n",
       "      <th>Yield</th>\n",
       "      <th>State</th>\n",
       "      <th>Crop_Names</th>\n",
       "      <th>Season_Name</th>\n",
       "      <th>Soil_Type</th>\n",
       "    </tr>\n",
       "  </thead>\n",
       "  <tbody>\n",
       "    <tr>\n",
       "      <th>125132</th>\n",
       "      <td>2004</td>\n",
       "      <td>20.48349</td>\n",
       "      <td>1.971802</td>\n",
       "      <td>1013.011877</td>\n",
       "      <td>64.876363</td>\n",
       "      <td>56.07</td>\n",
       "      <td>0.000</td>\n",
       "      <td>0.000</td>\n",
       "      <td>1113.000000</td>\n",
       "      <td>17</td>\n",
       "      <td>15</td>\n",
       "      <td>3</td>\n",
       "      <td>7</td>\n",
       "    </tr>\n",
       "    <tr>\n",
       "      <th>125133</th>\n",
       "      <td>2004</td>\n",
       "      <td>20.48349</td>\n",
       "      <td>1.971802</td>\n",
       "      <td>1013.011877</td>\n",
       "      <td>64.876363</td>\n",
       "      <td>9.00</td>\n",
       "      <td>9.000</td>\n",
       "      <td>0.000</td>\n",
       "      <td>0.357955</td>\n",
       "      <td>17</td>\n",
       "      <td>18</td>\n",
       "      <td>1</td>\n",
       "      <td>2</td>\n",
       "    </tr>\n",
       "    <tr>\n",
       "      <th>125134</th>\n",
       "      <td>2004</td>\n",
       "      <td>20.48349</td>\n",
       "      <td>1.971802</td>\n",
       "      <td>1013.011877</td>\n",
       "      <td>64.876363</td>\n",
       "      <td>0.00</td>\n",
       "      <td>0.000</td>\n",
       "      <td>0.000</td>\n",
       "      <td>0.557461</td>\n",
       "      <td>17</td>\n",
       "      <td>21</td>\n",
       "      <td>1</td>\n",
       "      <td>1</td>\n",
       "    </tr>\n",
       "    <tr>\n",
       "      <th>125135</th>\n",
       "      <td>2004</td>\n",
       "      <td>20.48349</td>\n",
       "      <td>1.971802</td>\n",
       "      <td>1013.011877</td>\n",
       "      <td>64.876363</td>\n",
       "      <td>38.25</td>\n",
       "      <td>38.250</td>\n",
       "      <td>38.250</td>\n",
       "      <td>0.455882</td>\n",
       "      <td>17</td>\n",
       "      <td>29</td>\n",
       "      <td>1</td>\n",
       "      <td>4</td>\n",
       "    </tr>\n",
       "    <tr>\n",
       "      <th>125136</th>\n",
       "      <td>2004</td>\n",
       "      <td>20.48349</td>\n",
       "      <td>1.971802</td>\n",
       "      <td>1013.011877</td>\n",
       "      <td>64.876363</td>\n",
       "      <td>0.00</td>\n",
       "      <td>23.184</td>\n",
       "      <td>0.000</td>\n",
       "      <td>1.222222</td>\n",
       "      <td>17</td>\n",
       "      <td>25</td>\n",
       "      <td>1</td>\n",
       "      <td>1</td>\n",
       "    </tr>\n",
       "    <tr>\n",
       "      <th>125137</th>\n",
       "      <td>2004</td>\n",
       "      <td>20.48349</td>\n",
       "      <td>1.971802</td>\n",
       "      <td>1013.011877</td>\n",
       "      <td>64.876363</td>\n",
       "      <td>5.64</td>\n",
       "      <td>14.664</td>\n",
       "      <td>14.664</td>\n",
       "      <td>1.068182</td>\n",
       "      <td>17</td>\n",
       "      <td>15</td>\n",
       "      <td>1</td>\n",
       "      <td>2</td>\n",
       "    </tr>\n",
       "  </tbody>\n",
       "</table>\n",
       "</div>"
      ],
      "text/plain": [
       "        crop_year  temperature  wind_speed  precipitation   humidity      N  \\\n",
       "125132       2004     20.48349    1.971802    1013.011877  64.876363  56.07   \n",
       "125133       2004     20.48349    1.971802    1013.011877  64.876363   9.00   \n",
       "125134       2004     20.48349    1.971802    1013.011877  64.876363   0.00   \n",
       "125135       2004     20.48349    1.971802    1013.011877  64.876363  38.25   \n",
       "125136       2004     20.48349    1.971802    1013.011877  64.876363   0.00   \n",
       "125137       2004     20.48349    1.971802    1013.011877  64.876363   5.64   \n",
       "\n",
       "             P       K        Yield  State  Crop_Names  Season_Name  Soil_Type  \n",
       "125132   0.000   0.000  1113.000000     17          15            3          7  \n",
       "125133   9.000   0.000     0.357955     17          18            1          2  \n",
       "125134   0.000   0.000     0.557461     17          21            1          1  \n",
       "125135  38.250  38.250     0.455882     17          29            1          4  \n",
       "125136  23.184   0.000     1.222222     17          25            1          1  \n",
       "125137  14.664  14.664     1.068182     17          15            1          2  "
      ]
     },
     "execution_count": 311,
     "metadata": {},
     "output_type": "execute_result"
    }
   ],
   "source": [
    "df.head(6)"
   ]
  },
  {
   "cell_type": "markdown",
   "metadata": {
    "colab_type": "text",
    "id": "AJTAfF6lPEH8"
   },
   "source": [
    "###Making Yield Column"
   ]
  },
  {
   "cell_type": "code",
   "execution_count": 312,
   "metadata": {},
   "outputs": [
    {
     "data": {
      "text/html": [
       "<div>\n",
       "<style scoped>\n",
       "    .dataframe tbody tr th:only-of-type {\n",
       "        vertical-align: middle;\n",
       "    }\n",
       "\n",
       "    .dataframe tbody tr th {\n",
       "        vertical-align: top;\n",
       "    }\n",
       "\n",
       "    .dataframe thead th {\n",
       "        text-align: right;\n",
       "    }\n",
       "</style>\n",
       "<table border=\"1\" class=\"dataframe\">\n",
       "  <thead>\n",
       "    <tr style=\"text-align: right;\">\n",
       "      <th></th>\n",
       "      <th>crop_year</th>\n",
       "      <th>temperature</th>\n",
       "      <th>wind_speed</th>\n",
       "      <th>precipitation</th>\n",
       "      <th>humidity</th>\n",
       "      <th>N</th>\n",
       "      <th>P</th>\n",
       "      <th>K</th>\n",
       "      <th>Yield</th>\n",
       "      <th>State</th>\n",
       "      <th>Crop_Names</th>\n",
       "      <th>Season_Name</th>\n",
       "      <th>Soil_Type</th>\n",
       "    </tr>\n",
       "  </thead>\n",
       "  <tbody>\n",
       "    <tr>\n",
       "      <th>125132</th>\n",
       "      <td>2004</td>\n",
       "      <td>20.48349</td>\n",
       "      <td>1.971802</td>\n",
       "      <td>1013.011877</td>\n",
       "      <td>64.876363</td>\n",
       "      <td>56.070</td>\n",
       "      <td>0.000</td>\n",
       "      <td>0.000</td>\n",
       "      <td>1113.000000</td>\n",
       "      <td>17</td>\n",
       "      <td>15</td>\n",
       "      <td>3</td>\n",
       "      <td>7</td>\n",
       "    </tr>\n",
       "    <tr>\n",
       "      <th>125133</th>\n",
       "      <td>2004</td>\n",
       "      <td>20.48349</td>\n",
       "      <td>1.971802</td>\n",
       "      <td>1013.011877</td>\n",
       "      <td>64.876363</td>\n",
       "      <td>9.000</td>\n",
       "      <td>9.000</td>\n",
       "      <td>0.000</td>\n",
       "      <td>0.357955</td>\n",
       "      <td>17</td>\n",
       "      <td>18</td>\n",
       "      <td>1</td>\n",
       "      <td>2</td>\n",
       "    </tr>\n",
       "    <tr>\n",
       "      <th>125134</th>\n",
       "      <td>2004</td>\n",
       "      <td>20.48349</td>\n",
       "      <td>1.971802</td>\n",
       "      <td>1013.011877</td>\n",
       "      <td>64.876363</td>\n",
       "      <td>0.000</td>\n",
       "      <td>0.000</td>\n",
       "      <td>0.000</td>\n",
       "      <td>0.557461</td>\n",
       "      <td>17</td>\n",
       "      <td>21</td>\n",
       "      <td>1</td>\n",
       "      <td>1</td>\n",
       "    </tr>\n",
       "    <tr>\n",
       "      <th>125135</th>\n",
       "      <td>2004</td>\n",
       "      <td>20.48349</td>\n",
       "      <td>1.971802</td>\n",
       "      <td>1013.011877</td>\n",
       "      <td>64.876363</td>\n",
       "      <td>38.250</td>\n",
       "      <td>38.250</td>\n",
       "      <td>38.250</td>\n",
       "      <td>0.455882</td>\n",
       "      <td>17</td>\n",
       "      <td>29</td>\n",
       "      <td>1</td>\n",
       "      <td>4</td>\n",
       "    </tr>\n",
       "    <tr>\n",
       "      <th>125136</th>\n",
       "      <td>2004</td>\n",
       "      <td>20.48349</td>\n",
       "      <td>1.971802</td>\n",
       "      <td>1013.011877</td>\n",
       "      <td>64.876363</td>\n",
       "      <td>0.000</td>\n",
       "      <td>23.184</td>\n",
       "      <td>0.000</td>\n",
       "      <td>1.222222</td>\n",
       "      <td>17</td>\n",
       "      <td>25</td>\n",
       "      <td>1</td>\n",
       "      <td>1</td>\n",
       "    </tr>\n",
       "    <tr>\n",
       "      <th>...</th>\n",
       "      <td>...</td>\n",
       "      <td>...</td>\n",
       "      <td>...</td>\n",
       "      <td>...</td>\n",
       "      <td>...</td>\n",
       "      <td>...</td>\n",
       "      <td>...</td>\n",
       "      <td>...</td>\n",
       "      <td>...</td>\n",
       "      <td>...</td>\n",
       "      <td>...</td>\n",
       "      <td>...</td>\n",
       "      <td>...</td>\n",
       "    </tr>\n",
       "    <tr>\n",
       "      <th>137755</th>\n",
       "      <td>2021</td>\n",
       "      <td>20.48349</td>\n",
       "      <td>1.971802</td>\n",
       "      <td>1013.011877</td>\n",
       "      <td>64.876363</td>\n",
       "      <td>7.840</td>\n",
       "      <td>7.840</td>\n",
       "      <td>0.000</td>\n",
       "      <td>0.825000</td>\n",
       "      <td>17</td>\n",
       "      <td>25</td>\n",
       "      <td>4</td>\n",
       "      <td>6</td>\n",
       "    </tr>\n",
       "    <tr>\n",
       "      <th>137756</th>\n",
       "      <td>2021</td>\n",
       "      <td>20.48349</td>\n",
       "      <td>1.971802</td>\n",
       "      <td>1013.011877</td>\n",
       "      <td>64.876363</td>\n",
       "      <td>7.504</td>\n",
       "      <td>18.760</td>\n",
       "      <td>7.504</td>\n",
       "      <td>0.153846</td>\n",
       "      <td>17</td>\n",
       "      <td>15</td>\n",
       "      <td>4</td>\n",
       "      <td>5</td>\n",
       "    </tr>\n",
       "    <tr>\n",
       "      <th>137757</th>\n",
       "      <td>2021</td>\n",
       "      <td>20.48349</td>\n",
       "      <td>1.971802</td>\n",
       "      <td>1013.011877</td>\n",
       "      <td>64.876363</td>\n",
       "      <td>0.000</td>\n",
       "      <td>0.000</td>\n",
       "      <td>0.000</td>\n",
       "      <td>0.920962</td>\n",
       "      <td>17</td>\n",
       "      <td>30</td>\n",
       "      <td>4</td>\n",
       "      <td>2</td>\n",
       "    </tr>\n",
       "    <tr>\n",
       "      <th>137758</th>\n",
       "      <td>2021</td>\n",
       "      <td>20.48349</td>\n",
       "      <td>1.971802</td>\n",
       "      <td>1013.011877</td>\n",
       "      <td>64.876363</td>\n",
       "      <td>2.896</td>\n",
       "      <td>3.620</td>\n",
       "      <td>0.000</td>\n",
       "      <td>1.223404</td>\n",
       "      <td>17</td>\n",
       "      <td>19</td>\n",
       "      <td>5</td>\n",
       "      <td>4</td>\n",
       "    </tr>\n",
       "    <tr>\n",
       "      <th>137759</th>\n",
       "      <td>2021</td>\n",
       "      <td>20.48349</td>\n",
       "      <td>1.971802</td>\n",
       "      <td>1013.011877</td>\n",
       "      <td>64.876363</td>\n",
       "      <td>3.150</td>\n",
       "      <td>0.000</td>\n",
       "      <td>0.000</td>\n",
       "      <td>68.358025</td>\n",
       "      <td>17</td>\n",
       "      <td>8</td>\n",
       "      <td>2</td>\n",
       "      <td>7</td>\n",
       "    </tr>\n",
       "  </tbody>\n",
       "</table>\n",
       "<p>12628 rows × 13 columns</p>\n",
       "</div>"
      ],
      "text/plain": [
       "        crop_year  temperature  wind_speed  precipitation   humidity       N  \\\n",
       "125132       2004     20.48349    1.971802    1013.011877  64.876363  56.070   \n",
       "125133       2004     20.48349    1.971802    1013.011877  64.876363   9.000   \n",
       "125134       2004     20.48349    1.971802    1013.011877  64.876363   0.000   \n",
       "125135       2004     20.48349    1.971802    1013.011877  64.876363  38.250   \n",
       "125136       2004     20.48349    1.971802    1013.011877  64.876363   0.000   \n",
       "...           ...          ...         ...            ...        ...     ...   \n",
       "137755       2021     20.48349    1.971802    1013.011877  64.876363   7.840   \n",
       "137756       2021     20.48349    1.971802    1013.011877  64.876363   7.504   \n",
       "137757       2021     20.48349    1.971802    1013.011877  64.876363   0.000   \n",
       "137758       2021     20.48349    1.971802    1013.011877  64.876363   2.896   \n",
       "137759       2021     20.48349    1.971802    1013.011877  64.876363   3.150   \n",
       "\n",
       "             P       K        Yield  State  Crop_Names  Season_Name  Soil_Type  \n",
       "125132   0.000   0.000  1113.000000     17          15            3          7  \n",
       "125133   9.000   0.000     0.357955     17          18            1          2  \n",
       "125134   0.000   0.000     0.557461     17          21            1          1  \n",
       "125135  38.250  38.250     0.455882     17          29            1          4  \n",
       "125136  23.184   0.000     1.222222     17          25            1          1  \n",
       "...        ...     ...          ...    ...         ...          ...        ...  \n",
       "137755   7.840   0.000     0.825000     17          25            4          6  \n",
       "137756  18.760   7.504     0.153846     17          15            4          5  \n",
       "137757   0.000   0.000     0.920962     17          30            4          2  \n",
       "137758   3.620   0.000     1.223404     17          19            5          4  \n",
       "137759   0.000   0.000    68.358025     17           8            2          7  \n",
       "\n",
       "[12628 rows x 13 columns]"
      ]
     },
     "execution_count": 312,
     "metadata": {},
     "output_type": "execute_result"
    }
   ],
   "source": [
    "df"
   ]
  },
  {
   "cell_type": "markdown",
   "metadata": {
    "colab_type": "text",
    "id": "QvYtwmfjTkrM"
   },
   "source": [
    "##Corelation Heatmap"
   ]
  },
  {
   "cell_type": "code",
   "execution_count": 313,
   "metadata": {
    "colab": {
     "base_uri": "https://localhost:8080/",
     "height": 846
    },
    "colab_type": "code",
    "id": "-_tEdzxdTp-S",
    "outputId": "f45aaac2-cdff-426b-cb14-e98cdf332dbf"
   },
   "outputs": [
    {
     "data": {
      "image/png": "[encoded data removed]",
      "text/plain": [
       "<Figure size 1080x1080 with 2 Axes>"
      ]
     },
     "metadata": {
      "needs_background": "light"
     },
     "output_type": "display_data"
    }
   ],
   "source": [
    "import matplotlib.pyplot as plt\n",
    "import seaborn as sb\n",
    "\n",
    "C_mat = df.corr()\n",
    "fig = plt.figure(figsize = (15,15))\n",
    "\n",
    "sb.heatmap(C_mat, vmax = .8, square = True)\n",
    "plt.show()"
   ]
  },
  {
   "cell_type": "markdown",
   "metadata": {
    "colab_type": "text",
    "id": "UHRkVfi_PHhs"
   },
   "source": [
    "##Taking Data only after 2011 because the data after 2011 is affecting the rersult alot"
   ]
  },
  {
   "cell_type": "code",
   "execution_count": 314,
   "metadata": {
    "colab": {
     "base_uri": "https://localhost:8080/",
     "height": 424
    },
    "colab_type": "code",
    "id": "wCUwyNu0P1PT",
    "outputId": "e0a521e8-cfd6-47c4-a4ee-f37d74a5bb45"
   },
   "outputs": [
    {
     "data": {
      "text/html": [
       "<div>\n",
       "<style scoped>\n",
       "    .dataframe tbody tr th:only-of-type {\n",
       "        vertical-align: middle;\n",
       "    }\n",
       "\n",
       "    .dataframe tbody tr th {\n",
       "        vertical-align: top;\n",
       "    }\n",
       "\n",
       "    .dataframe thead th {\n",
       "        text-align: right;\n",
       "    }\n",
       "</style>\n",
       "<table border=\"1\" class=\"dataframe\">\n",
       "  <thead>\n",
       "    <tr style=\"text-align: right;\">\n",
       "      <th></th>\n",
       "      <th>crop_year</th>\n",
       "      <th>temperature</th>\n",
       "      <th>wind_speed</th>\n",
       "      <th>precipitation</th>\n",
       "      <th>humidity</th>\n",
       "      <th>N</th>\n",
       "      <th>P</th>\n",
       "      <th>K</th>\n",
       "      <th>Yield</th>\n",
       "      <th>State</th>\n",
       "      <th>Crop_Names</th>\n",
       "      <th>Season_Name</th>\n",
       "      <th>Soil_Type</th>\n",
       "    </tr>\n",
       "  </thead>\n",
       "  <tbody>\n",
       "    <tr>\n",
       "      <th>125344</th>\n",
       "      <td>2011</td>\n",
       "      <td>20.48349</td>\n",
       "      <td>1.971802</td>\n",
       "      <td>1013.011877</td>\n",
       "      <td>64.876363</td>\n",
       "      <td>10.500</td>\n",
       "      <td>27.300</td>\n",
       "      <td>27.300</td>\n",
       "      <td>0.393443</td>\n",
       "      <td>17</td>\n",
       "      <td>18</td>\n",
       "      <td>1</td>\n",
       "      <td>3</td>\n",
       "    </tr>\n",
       "    <tr>\n",
       "      <th>125345</th>\n",
       "      <td>2011</td>\n",
       "      <td>20.48349</td>\n",
       "      <td>1.971802</td>\n",
       "      <td>1013.011877</td>\n",
       "      <td>64.876363</td>\n",
       "      <td>39.720</td>\n",
       "      <td>105.920</td>\n",
       "      <td>52.960</td>\n",
       "      <td>0.596258</td>\n",
       "      <td>17</td>\n",
       "      <td>21</td>\n",
       "      <td>1</td>\n",
       "      <td>6</td>\n",
       "    </tr>\n",
       "    <tr>\n",
       "      <th>125346</th>\n",
       "      <td>2011</td>\n",
       "      <td>20.48349</td>\n",
       "      <td>1.971802</td>\n",
       "      <td>1013.011877</td>\n",
       "      <td>64.876363</td>\n",
       "      <td>8.008</td>\n",
       "      <td>8.008</td>\n",
       "      <td>0.000</td>\n",
       "      <td>0.735849</td>\n",
       "      <td>17</td>\n",
       "      <td>19</td>\n",
       "      <td>1</td>\n",
       "      <td>3</td>\n",
       "    </tr>\n",
       "    <tr>\n",
       "      <th>125347</th>\n",
       "      <td>2011</td>\n",
       "      <td>20.48349</td>\n",
       "      <td>1.971802</td>\n",
       "      <td>1013.011877</td>\n",
       "      <td>64.876363</td>\n",
       "      <td>5.824</td>\n",
       "      <td>14.560</td>\n",
       "      <td>5.824</td>\n",
       "      <td>1.000000</td>\n",
       "      <td>17</td>\n",
       "      <td>25</td>\n",
       "      <td>1</td>\n",
       "      <td>2</td>\n",
       "    </tr>\n",
       "    <tr>\n",
       "      <th>125348</th>\n",
       "      <td>2011</td>\n",
       "      <td>20.48349</td>\n",
       "      <td>1.971802</td>\n",
       "      <td>1013.011877</td>\n",
       "      <td>64.876363</td>\n",
       "      <td>0.000</td>\n",
       "      <td>0.000</td>\n",
       "      <td>0.000</td>\n",
       "      <td>1.228070</td>\n",
       "      <td>17</td>\n",
       "      <td>15</td>\n",
       "      <td>1</td>\n",
       "      <td>6</td>\n",
       "    </tr>\n",
       "    <tr>\n",
       "      <th>...</th>\n",
       "      <td>...</td>\n",
       "      <td>...</td>\n",
       "      <td>...</td>\n",
       "      <td>...</td>\n",
       "      <td>...</td>\n",
       "      <td>...</td>\n",
       "      <td>...</td>\n",
       "      <td>...</td>\n",
       "      <td>...</td>\n",
       "      <td>...</td>\n",
       "      <td>...</td>\n",
       "      <td>...</td>\n",
       "      <td>...</td>\n",
       "    </tr>\n",
       "    <tr>\n",
       "      <th>137755</th>\n",
       "      <td>2021</td>\n",
       "      <td>20.48349</td>\n",
       "      <td>1.971802</td>\n",
       "      <td>1013.011877</td>\n",
       "      <td>64.876363</td>\n",
       "      <td>7.840</td>\n",
       "      <td>7.840</td>\n",
       "      <td>0.000</td>\n",
       "      <td>0.825000</td>\n",
       "      <td>17</td>\n",
       "      <td>25</td>\n",
       "      <td>4</td>\n",
       "      <td>6</td>\n",
       "    </tr>\n",
       "    <tr>\n",
       "      <th>137756</th>\n",
       "      <td>2021</td>\n",
       "      <td>20.48349</td>\n",
       "      <td>1.971802</td>\n",
       "      <td>1013.011877</td>\n",
       "      <td>64.876363</td>\n",
       "      <td>7.504</td>\n",
       "      <td>18.760</td>\n",
       "      <td>7.504</td>\n",
       "      <td>0.153846</td>\n",
       "      <td>17</td>\n",
       "      <td>15</td>\n",
       "      <td>4</td>\n",
       "      <td>5</td>\n",
       "    </tr>\n",
       "    <tr>\n",
       "      <th>137757</th>\n",
       "      <td>2021</td>\n",
       "      <td>20.48349</td>\n",
       "      <td>1.971802</td>\n",
       "      <td>1013.011877</td>\n",
       "      <td>64.876363</td>\n",
       "      <td>0.000</td>\n",
       "      <td>0.000</td>\n",
       "      <td>0.000</td>\n",
       "      <td>0.920962</td>\n",
       "      <td>17</td>\n",
       "      <td>30</td>\n",
       "      <td>4</td>\n",
       "      <td>2</td>\n",
       "    </tr>\n",
       "    <tr>\n",
       "      <th>137758</th>\n",
       "      <td>2021</td>\n",
       "      <td>20.48349</td>\n",
       "      <td>1.971802</td>\n",
       "      <td>1013.011877</td>\n",
       "      <td>64.876363</td>\n",
       "      <td>2.896</td>\n",
       "      <td>3.620</td>\n",
       "      <td>0.000</td>\n",
       "      <td>1.223404</td>\n",
       "      <td>17</td>\n",
       "      <td>19</td>\n",
       "      <td>5</td>\n",
       "      <td>4</td>\n",
       "    </tr>\n",
       "    <tr>\n",
       "      <th>137759</th>\n",
       "      <td>2021</td>\n",
       "      <td>20.48349</td>\n",
       "      <td>1.971802</td>\n",
       "      <td>1013.011877</td>\n",
       "      <td>64.876363</td>\n",
       "      <td>3.150</td>\n",
       "      <td>0.000</td>\n",
       "      <td>0.000</td>\n",
       "      <td>68.358025</td>\n",
       "      <td>17</td>\n",
       "      <td>8</td>\n",
       "      <td>2</td>\n",
       "      <td>7</td>\n",
       "    </tr>\n",
       "  </tbody>\n",
       "</table>\n",
       "<p>7255 rows × 13 columns</p>\n",
       "</div>"
      ],
      "text/plain": [
       "        crop_year  temperature  wind_speed  precipitation   humidity       N  \\\n",
       "125344       2011     20.48349    1.971802    1013.011877  64.876363  10.500   \n",
       "125345       2011     20.48349    1.971802    1013.011877  64.876363  39.720   \n",
       "125346       2011     20.48349    1.971802    1013.011877  64.876363   8.008   \n",
       "125347       2011     20.48349    1.971802    1013.011877  64.876363   5.824   \n",
       "125348       2011     20.48349    1.971802    1013.011877  64.876363   0.000   \n",
       "...           ...          ...         ...            ...        ...     ...   \n",
       "137755       2021     20.48349    1.971802    1013.011877  64.876363   7.840   \n",
       "137756       2021     20.48349    1.971802    1013.011877  64.876363   7.504   \n",
       "137757       2021     20.48349    1.971802    1013.011877  64.876363   0.000   \n",
       "137758       2021     20.48349    1.971802    1013.011877  64.876363   2.896   \n",
       "137759       2021     20.48349    1.971802    1013.011877  64.876363   3.150   \n",
       "\n",
       "              P       K      Yield  State  Crop_Names  Season_Name  Soil_Type  \n",
       "125344   27.300  27.300   0.393443     17          18            1          3  \n",
       "125345  105.920  52.960   0.596258     17          21            1          6  \n",
       "125346    8.008   0.000   0.735849     17          19            1          3  \n",
       "125347   14.560   5.824   1.000000     17          25            1          2  \n",
       "125348    0.000   0.000   1.228070     17          15            1          6  \n",
       "...         ...     ...        ...    ...         ...          ...        ...  \n",
       "137755    7.840   0.000   0.825000     17          25            4          6  \n",
       "137756   18.760   7.504   0.153846     17          15            4          5  \n",
       "137757    0.000   0.000   0.920962     17          30            4          2  \n",
       "137758    3.620   0.000   1.223404     17          19            5          4  \n",
       "137759    0.000   0.000  68.358025     17           8            2          7  \n",
       "\n",
       "[7255 rows x 13 columns]"
      ]
     },
     "execution_count": 314,
     "metadata": {},
     "output_type": "execute_result"
    }
   ],
   "source": [
    "df = df[df['crop_year']>=2011]\n",
    "df"
   ]
  },
  {
   "cell_type": "code",
   "execution_count": 315,
   "metadata": {},
   "outputs": [
    {
     "name": "stdout",
     "output_type": "stream",
     "text": [
      "<class 'pandas.core.frame.DataFrame'>\n",
      "Int64Index: 7255 entries, 125344 to 137759\n",
      "Data columns (total 13 columns):\n",
      " #   Column         Non-Null Count  Dtype  \n",
      "---  ------         --------------  -----  \n",
      " 0   crop_year      7255 non-null   int64  \n",
      " 1   temperature    7255 non-null   float64\n",
      " 2   wind_speed     7255 non-null   float64\n",
      " 3   precipitation  7255 non-null   float64\n",
      " 4   humidity       7255 non-null   float64\n",
      " 5   N              7255 non-null   float64\n",
      " 6   P              7255 non-null   float64\n",
      " 7   K              7255 non-null   float64\n",
      " 8   Yield          7143 non-null   float64\n",
      " 9   State          7255 non-null   int64  \n",
      " 10  Crop_Names     7255 non-null   int64  \n",
      " 11  Season_Name    7255 non-null   int64  \n",
      " 12  Soil_Type      7255 non-null   int64  \n",
      "dtypes: float64(8), int64(5)\n",
      "memory usage: 793.5 KB\n"
     ]
    }
   ],
   "source": [
    "df.info()"
   ]
  },
  {
   "cell_type": "markdown",
   "metadata": {
    "colab_type": "text",
    "id": "iUgVdhZbPPT9"
   },
   "source": [
    "##converting data to numerical form"
   ]
  },
  {
   "cell_type": "code",
   "execution_count": null,
   "metadata": {
    "colab": {
     "base_uri": "https://localhost:8080/",
     "height": 652
    },
    "colab_type": "code",
    "id": "H-hIlC4QdzL0",
    "outputId": "529ba42f-e752-43e5-ffaa-ab1333fb0873"
   },
   "outputs": [],
   "source": []
  },
  {
   "cell_type": "code",
   "execution_count": null,
   "metadata": {},
   "outputs": [],
   "source": []
  },
  {
   "cell_type": "code",
   "execution_count": null,
   "metadata": {},
   "outputs": [],
   "source": []
  },
  {
   "cell_type": "markdown",
   "metadata": {
    "colab_type": "text",
    "id": "flKfKKBEQu5C"
   },
   "source": [
    "##Dropping Unecessory Columns"
   ]
  },
  {
   "cell_type": "code",
   "execution_count": null,
   "metadata": {
    "colab": {
     "base_uri": "https://localhost:8080/",
     "height": 478
    },
    "colab_type": "code",
    "id": "9xsE8Fc_fcmn",
    "outputId": "17787537-4f56-4941-b65d-6242e8769849"
   },
   "outputs": [],
   "source": []
  },
  {
   "cell_type": "code",
   "execution_count": null,
   "metadata": {},
   "outputs": [],
   "source": []
  },
  {
   "cell_type": "markdown",
   "metadata": {
    "colab_type": "text",
    "id": "crrFiBFiSBKm"
   },
   "source": [
    "##Preprocessing"
   ]
  },
  {
   "cell_type": "code",
   "execution_count": 316,
   "metadata": {
    "colab": {},
    "colab_type": "code",
    "id": "-ZH0L36cnnEN"
   },
   "outputs": [],
   "source": [
    "from sklearn import preprocessing"
   ]
  },
  {
   "cell_type": "code",
   "execution_count": null,
   "metadata": {
    "colab": {
     "base_uri": "https://localhost:8080/",
     "height": 478
    },
    "colab_type": "code",
    "id": "P8zJezCGrrpZ",
    "outputId": "0cb79961-ad1b-40c8-b3c7-9bdf4390a695"
   },
   "outputs": [],
   "source": []
  },
  {
   "cell_type": "code",
   "execution_count": null,
   "metadata": {
    "colab": {
     "base_uri": "https://localhost:8080/",
     "height": 290
    },
    "colab_type": "code",
    "id": "vmZc51COtbDn",
    "outputId": "d2ca8412-4bd8-4357-e798-c01b0219129c"
   },
   "outputs": [],
   "source": []
  },
  {
   "cell_type": "markdown",
   "metadata": {
    "colab_type": "text",
    "id": "BMscPX_kSGi0"
   },
   "source": [
    "### Filling Empty Values With Mean"
   ]
  },
  {
   "cell_type": "code",
   "execution_count": 317,
   "metadata": {
    "colab": {},
    "colab_type": "code",
    "id": "wOtumEE7wZGa"
   },
   "outputs": [],
   "source": [
    "df = df.fillna(df.mean())"
   ]
  },
  {
   "cell_type": "markdown",
   "metadata": {
    "colab_type": "text",
    "id": "yl0n3RLpSUY3"
   },
   "source": [
    "##Train and Test Split"
   ]
  },
  {
   "cell_type": "code",
   "execution_count": 318,
   "metadata": {
    "colab": {},
    "colab_type": "code",
    "id": "gGelSEtavZ_U"
   },
   "outputs": [],
   "source": [
    "from sklearn.model_selection import train_test_split"
   ]
  },
  {
   "cell_type": "code",
   "execution_count": 319,
   "metadata": {},
   "outputs": [],
   "source": [
    "a=df"
   ]
  },
  {
   "cell_type": "code",
   "execution_count": 320,
   "metadata": {
    "colab": {
     "base_uri": "https://localhost:8080/",
     "height": 982
    },
    "colab_type": "code",
    "id": "qWb477Osxmw1",
    "outputId": "b8b46b4e-717a-4d6f-e1c1-f754765ecc64"
   },
   "outputs": [],
   "source": [
    "b = df['Yield']\n",
    "#a = df.drop('Yield', axis = 1)\n",
    "\n"
   ]
  },
  {
   "cell_type": "code",
   "execution_count": null,
   "metadata": {},
   "outputs": [],
   "source": []
  },
  {
   "cell_type": "code",
   "execution_count": 325,
   "metadata": {},
   "outputs": [],
   "source": [
    "a=df.drop('Yield', axis = 1)"
   ]
  },
  {
   "cell_type": "code",
   "execution_count": 326,
   "metadata": {},
   "outputs": [
    {
     "data": {
      "text/plain": [
       "12"
      ]
     },
     "execution_count": 326,
     "metadata": {},
     "output_type": "execute_result"
    }
   ],
   "source": [
    "len(a.columns)"
   ]
  },
  {
   "cell_type": "code",
   "execution_count": 327,
   "metadata": {},
   "outputs": [
    {
     "data": {
      "text/plain": [
       "Index(['crop_year', 'temperature', 'wind_speed', 'precipitation', 'humidity',\n",
       "       'N', 'P', 'K', 'State', 'Crop_Names', 'Season_Name', 'Soil_Type'],\n",
       "      dtype='object')"
      ]
     },
     "execution_count": 327,
     "metadata": {},
     "output_type": "execute_result"
    }
   ],
   "source": [
    "a.columns"
   ]
  },
  {
   "cell_type": "code",
   "execution_count": 328,
   "metadata": {},
   "outputs": [],
   "source": [
    "features_list=['State', 'Crop_Names', 'Season_Name', 'temperature', 'wind_speed', 'precipitation', 'humidity',\n",
    "       'N', 'P', 'K',  'Soil_Type']"
   ]
  },
  {
   "cell_type": "code",
   "execution_count": 329,
   "metadata": {},
   "outputs": [
    {
     "data": {
      "text/plain": [
       "11"
      ]
     },
     "execution_count": 329,
     "metadata": {},
     "output_type": "execute_result"
    }
   ],
   "source": [
    "features_list123=[0,  0, 0, 0, 0, 0, 0, 0, 0, 0, 0]\n",
    "len(features_list123)"
   ]
  },
  {
   "cell_type": "code",
   "execution_count": 330,
   "metadata": {},
   "outputs": [
    {
     "data": {
      "text/plain": [
       "11"
      ]
     },
     "execution_count": 330,
     "metadata": {},
     "output_type": "execute_result"
    }
   ],
   "source": [
    "len(features_list)"
   ]
  },
  {
   "cell_type": "code",
   "execution_count": 331,
   "metadata": {},
   "outputs": [],
   "source": [
    "a=df[features_list]"
   ]
  },
  {
   "cell_type": "code",
   "execution_count": 332,
   "metadata": {},
   "outputs": [
    {
     "data": {
      "text/html": [
       "<div>\n",
       "<style scoped>\n",
       "    .dataframe tbody tr th:only-of-type {\n",
       "        vertical-align: middle;\n",
       "    }\n",
       "\n",
       "    .dataframe tbody tr th {\n",
       "        vertical-align: top;\n",
       "    }\n",
       "\n",
       "    .dataframe thead th {\n",
       "        text-align: right;\n",
       "    }\n",
       "</style>\n",
       "<table border=\"1\" class=\"dataframe\">\n",
       "  <thead>\n",
       "    <tr style=\"text-align: right;\">\n",
       "      <th></th>\n",
       "      <th>State</th>\n",
       "      <th>Crop_Names</th>\n",
       "      <th>Season_Name</th>\n",
       "      <th>temperature</th>\n",
       "      <th>wind_speed</th>\n",
       "      <th>precipitation</th>\n",
       "      <th>humidity</th>\n",
       "      <th>N</th>\n",
       "      <th>P</th>\n",
       "      <th>K</th>\n",
       "      <th>Soil_Type</th>\n",
       "    </tr>\n",
       "  </thead>\n",
       "  <tbody>\n",
       "    <tr>\n",
       "      <th>125344</th>\n",
       "      <td>17</td>\n",
       "      <td>18</td>\n",
       "      <td>1</td>\n",
       "      <td>20.48349</td>\n",
       "      <td>1.971802</td>\n",
       "      <td>1013.011877</td>\n",
       "      <td>64.876363</td>\n",
       "      <td>10.500</td>\n",
       "      <td>27.300</td>\n",
       "      <td>27.300</td>\n",
       "      <td>3</td>\n",
       "    </tr>\n",
       "    <tr>\n",
       "      <th>125345</th>\n",
       "      <td>17</td>\n",
       "      <td>21</td>\n",
       "      <td>1</td>\n",
       "      <td>20.48349</td>\n",
       "      <td>1.971802</td>\n",
       "      <td>1013.011877</td>\n",
       "      <td>64.876363</td>\n",
       "      <td>39.720</td>\n",
       "      <td>105.920</td>\n",
       "      <td>52.960</td>\n",
       "      <td>6</td>\n",
       "    </tr>\n",
       "    <tr>\n",
       "      <th>125346</th>\n",
       "      <td>17</td>\n",
       "      <td>19</td>\n",
       "      <td>1</td>\n",
       "      <td>20.48349</td>\n",
       "      <td>1.971802</td>\n",
       "      <td>1013.011877</td>\n",
       "      <td>64.876363</td>\n",
       "      <td>8.008</td>\n",
       "      <td>8.008</td>\n",
       "      <td>0.000</td>\n",
       "      <td>3</td>\n",
       "    </tr>\n",
       "    <tr>\n",
       "      <th>125347</th>\n",
       "      <td>17</td>\n",
       "      <td>25</td>\n",
       "      <td>1</td>\n",
       "      <td>20.48349</td>\n",
       "      <td>1.971802</td>\n",
       "      <td>1013.011877</td>\n",
       "      <td>64.876363</td>\n",
       "      <td>5.824</td>\n",
       "      <td>14.560</td>\n",
       "      <td>5.824</td>\n",
       "      <td>2</td>\n",
       "    </tr>\n",
       "    <tr>\n",
       "      <th>125348</th>\n",
       "      <td>17</td>\n",
       "      <td>15</td>\n",
       "      <td>1</td>\n",
       "      <td>20.48349</td>\n",
       "      <td>1.971802</td>\n",
       "      <td>1013.011877</td>\n",
       "      <td>64.876363</td>\n",
       "      <td>0.000</td>\n",
       "      <td>0.000</td>\n",
       "      <td>0.000</td>\n",
       "      <td>6</td>\n",
       "    </tr>\n",
       "  </tbody>\n",
       "</table>\n",
       "</div>"
      ],
      "text/plain": [
       "        State  Crop_Names  Season_Name  temperature  wind_speed  \\\n",
       "125344     17          18            1     20.48349    1.971802   \n",
       "125345     17          21            1     20.48349    1.971802   \n",
       "125346     17          19            1     20.48349    1.971802   \n",
       "125347     17          25            1     20.48349    1.971802   \n",
       "125348     17          15            1     20.48349    1.971802   \n",
       "\n",
       "        precipitation   humidity       N        P       K  Soil_Type  \n",
       "125344    1013.011877  64.876363  10.500   27.300  27.300          3  \n",
       "125345    1013.011877  64.876363  39.720  105.920  52.960          6  \n",
       "125346    1013.011877  64.876363   8.008    8.008   0.000          3  \n",
       "125347    1013.011877  64.876363   5.824   14.560   5.824          2  \n",
       "125348    1013.011877  64.876363   0.000    0.000   0.000          6  "
      ]
     },
     "execution_count": 332,
     "metadata": {},
     "output_type": "execute_result"
    }
   ],
   "source": [
    "a.head()"
   ]
  },
  {
   "cell_type": "code",
   "execution_count": 333,
   "metadata": {},
   "outputs": [
    {
     "name": "stdout",
     "output_type": "stream",
     "text": [
      "        State  Crop_Names  Season_Name  temperature  wind_speed  \\\n",
      "130361     17          65            1     20.48349    1.971802   \n",
      "128199     17          18            1     20.48349    1.971802   \n",
      "132069     17          19            1     20.48349    1.971802   \n",
      "136280     17          20            5     20.48349    1.971802   \n",
      "136950     17          16            1     20.48349    1.971802   \n",
      "...       ...         ...          ...          ...         ...   \n",
      "130401     17          23            1     20.48349    1.971802   \n",
      "128977     17          42            1     20.48349    1.971802   \n",
      "127526     17          19            5     20.48349    1.971802   \n",
      "137346     17          29            4     20.48349    1.971802   \n",
      "134607     17          18            1     20.48349    1.971802   \n",
      "\n",
      "        precipitation   humidity       N       P      K  Soil_Type  \n",
      "130361    1013.011877  64.876363   1.500   0.000   0.00          4  \n",
      "128199    1013.011877  64.876363   5.980   5.980   0.00          1  \n",
      "132069    1013.011877  64.876363   8.740   8.740   0.00          1  \n",
      "136280    1013.011877  64.876363   3.496   3.496   0.00          1  \n",
      "136950    1013.011877  64.876363   0.000   0.000   0.00          1  \n",
      "...               ...        ...     ...     ...    ...        ...  \n",
      "130401    1013.011877  64.876363  38.250  38.250  38.25          5  \n",
      "128977    1013.011877  64.876363   2.775   0.000   0.00          2  \n",
      "127526    1013.011877  64.876363   0.000   0.000   0.00          5  \n",
      "137346    1013.011877  64.876363   2.484   2.484   0.00          7  \n",
      "134607    1013.011877  64.876363   0.000   0.000   0.00          4  \n",
      "\n",
      "[2177 rows x 11 columns]\n"
     ]
    }
   ],
   "source": [
    "a_train, a_test, b_train, b_test = train_test_split(a, b, test_size = 0.3, random_state = 42)\n",
    "\n",
    "#print(a_train)\n",
    "print(a_test)\n",
    "#print(b_train)\n",
    "#print(b_test)"
   ]
  },
  {
   "cell_type": "code",
   "execution_count": 334,
   "metadata": {
    "colab": {},
    "colab_type": "code",
    "id": "nqx2dijEzIeK"
   },
   "outputs": [],
   "source": [
    "import numpy as np  \n",
    "import matplotlib.pyplot as plt  \n",
    "import seaborn as seabornInstance \n",
    "from sklearn.linear_model import LinearRegression\n",
    "from sklearn import metrics\n",
    "%matplotlib inline"
   ]
  },
  {
   "cell_type": "code",
   "execution_count": 335,
   "metadata": {
    "colab": {},
    "colab_type": "code",
    "id": "6HHemLU20qxI"
   },
   "outputs": [],
   "source": [
    "from sklearn.preprocessing import StandardScaler\n",
    "sc = StandardScaler()\n",
    "a_train = sc.fit_transform(a_train)\n",
    "a_test = sc.transform(a_test)"
   ]
  },
  {
   "cell_type": "markdown",
   "metadata": {
    "colab_type": "text",
    "id": "BbUw1P-aiwBg"
   },
   "source": [
    "###Random Forest Regressor"
   ]
  },
  {
   "cell_type": "code",
   "execution_count": 337,
   "metadata": {
    "colab": {
     "base_uri": "https://localhost:8080/",
     "height": 73
    },
    "colab_type": "code",
    "id": "cnCF9S0K03gI",
    "outputId": "9ba85e05-91e5-4885-d097-d3a1f5492e3b"
   },
   "outputs": [
    {
     "name": "stdout",
     "output_type": "stream",
     "text": [
      "MSE = 10.624483946419359\n",
      "MAE = 0.9726876500999516\n",
      "R2 Score = 0.9449145863016928\n"
     ]
    },
    {
     "data": {
      "text/plain": [
       "array([0.83374307, 0.83374307, 0.83374307, ..., 0.83374307, 0.83374307,\n",
       "       0.83374307])"
      ]
     },
     "execution_count": 337,
     "metadata": {},
     "output_type": "execute_result"
    }
   ],
   "source": [
    "   from sklearn.ensemble import RandomForestRegressor\n",
    "   regr = RandomForestRegressor(max_depth=2, random_state=0, n_estimators=100)\n",
    "   regr.fit(a_train, b_train)\n",
    "   b_pred = regr.predict(a_test)\n",
    "\n",
    "   from sklearn.metrics import mean_squared_error as mse\n",
    "   from sklearn.metrics import mean_absolute_error as mae\n",
    "   from sklearn.metrics import r2_score\n",
    "\n",
    "   print('MSE =', mse(b_pred, b_test))\n",
    "   print('MAE =', mae(b_pred, b_test))\n",
    "   print('R2 Score =', r2_score(b_pred, b_test))\n",
    "b_pred\n"
   ]
  },
  {
   "cell_type": "markdown",
   "metadata": {
    "colab_type": "text",
    "id": "9z-PKTBBirP1"
   },
   "source": [
    "###Polynomial Support Vector Machine"
   ]
  },
  {
   "cell_type": "code",
   "execution_count": 339,
   "metadata": {
    "colab": {
     "base_uri": "https://localhost:8080/",
     "height": 111
    },
    "colab_type": "code",
    "id": "zURtx4kAPLTr",
    "outputId": "75a85738-343e-4859-93ce-89cbf8e7349b"
   },
   "outputs": [
    {
     "name": "stdout",
     "output_type": "stream",
     "text": [
      "-0.025283444597673954\n",
      "0.9444491326739392\n"
     ]
    }
   ],
   "source": [
    "from sklearn.svm import SVR\n",
    "regressorpoly=SVR(kernel='poly',epsilon=1.0)\n",
    "regressorpoly.fit(a_train,b_train)\n",
    "pred=regressorpoly.predict(a_test)\n",
    "print(regressorpoly.score(a_test,b_test))\n",
    "print(r2_score(b_test,b_pred))\n"
   ]
  },
  {
   "cell_type": "markdown",
   "metadata": {
    "colab_type": "text",
    "id": "fGc_78_him91"
   },
   "source": [
    "###XGBRegressor"
   ]
  },
  {
   "cell_type": "code",
   "execution_count": 340,
   "metadata": {
    "colab": {
     "base_uri": "https://localhost:8080/",
     "height": 148
    },
    "colab_type": "code",
    "id": "qZAULbjvigKN",
    "outputId": "5297980f-a6b6-43f8-df12-5bd953d23ba5"
   },
   "outputs": [
    {
     "name": "stdout",
     "output_type": "stream",
     "text": [
      "XGBoost validation MAE =  1.0249226639614595\n"
     ]
    },
    {
     "data": {
      "text/plain": [
       "array([0.46251205, 0.38124034, 1.1038871 , ..., 1.5699909 , 0.673583  ,\n",
       "       0.6734228 ], dtype=float32)"
      ]
     },
     "execution_count": 340,
     "metadata": {},
     "output_type": "execute_result"
    }
   ],
   "source": [
    "from xgboost import XGBRegressor\n",
    "from sklearn.metrics import mean_absolute_error \n",
    "XGBModel = XGBRegressor()\n",
    "XGBModel.fit(a_train,b_train , verbose=False)\n",
    "\n",
    "# Get the mean absolute error on the validation data :\n",
    "XGBpredictions = XGBModel.predict(a_test)\n",
    "MAE = mean_absolute_error(b_test , XGBpredictions)\n",
    "print('XGBoost validation MAE = ',MAE)\n",
    "XGBpredictions\n"
   ]
  },
  {
   "cell_type": "code",
   "execution_count": 341,
   "metadata": {},
   "outputs": [
    {
     "name": "stdout",
     "output_type": "stream",
     "text": [
      "0.9155554911369197\n"
     ]
    }
   ],
   "source": [
    "\n",
    "print(r2_score(b_test , XGBpredictions))"
   ]
  },
  {
   "cell_type": "code",
   "execution_count": null,
   "metadata": {},
   "outputs": [],
   "source": []
  },
  {
   "cell_type": "code",
   "execution_count": 343,
   "metadata": {},
   "outputs": [],
   "source": [
    "import pickle\n",
    "# Dump the trained SVM classifier with Pickle\n",
    "SVM_pkl_filename = 'xgboost_yield_prediction_final.pkl'\n",
    "# Open the file to save as pkl file\n",
    "SVM_Model_pkl = open(SVM_pkl_filename, 'wb')\n",
    "pickle.dump(XGBpredictions, SVM_Model_pkl)\n",
    "# Close the pickle instances\n",
    "SVM_Model_pkl.close()"
   ]
  },
  {
   "cell_type": "code",
   "execution_count": null,
   "metadata": {},
   "outputs": [],
   "source": []
  },
  {
   "cell_type": "code",
   "execution_count": 345,
   "metadata": {},
   "outputs": [],
   "source": [
    "import joblib\n",
    " \n",
    "# Save the model as a pickle in a file\n",
    "joblib.dump(XGBModel, 'xgboost_yield_prediction_final.pkl')\n",
    " \n",
    "# Load the model from the file\n",
    "knn_from_joblib = joblib.load('xgboost_yield_prediction_final.pkl')\n",
    " \n",
    "# Use the loaded model to make predictions\n"
   ]
  },
  {
   "cell_type": "markdown",
   "metadata": {
    "colab_type": "text",
    "id": "qD3v_OvRfV-a"
   },
   "source": [
    "##Neural Network Implementation"
   ]
  },
  {
   "cell_type": "code",
   "execution_count": 346,
   "metadata": {
    "colab": {
     "base_uri": "https://localhost:8080/",
     "height": 84
    },
    "colab_type": "code",
    "id": "ToChzUcWRDRo",
    "outputId": "400a472d-9de7-4b30-f851-de65c0af836b"
   },
   "outputs": [],
   "source": [
    "from tensorflow.keras.callbacks import ModelCheckpoint\n",
    "from tensorflow.keras.models import Sequential\n",
    "from tensorflow.keras.layers import Dense, Activation, Flatten\n",
    "from sklearn.model_selection import train_test_split\n",
    "from sklearn.ensemble import RandomForestRegressor\n",
    "from sklearn.metrics import mean_absolute_error \n",
    "from matplotlib import pyplot as plt\n",
    "import seaborn as sb\n",
    "import matplotlib.pyplot as plt\n",
    "import pandas as pd\n",
    "import numpy as np\n",
    "import warnings\n",
    "from tensorflow.keras.callbacks import History \n",
    "warnings.filterwarnings('ignore')\n",
    "warnings.filterwarnings('ignore', category=DeprecationWarning)"
   ]
  },
  {
   "cell_type": "code",
   "execution_count": 347,
   "metadata": {
    "colab": {
     "base_uri": "https://localhost:8080/",
     "height": 520
    },
    "colab_type": "code",
    "id": "T6xH68B2gZRJ",
    "outputId": "16fb6a3f-c43e-4172-98cd-09a7afebb766",
    "scrolled": true
   },
   "outputs": [
    {
     "name": "stdout",
     "output_type": "stream",
     "text": [
      "Model: \"sequential_3\"\n",
      "_________________________________________________________________\n",
      " Layer (type)                Output Shape              Param #   \n",
      "=================================================================\n",
      " dense_15 (Dense)            (None, 128)               1536      \n",
      "                                                                 \n",
      " dense_16 (Dense)            (None, 256)               33024     \n",
      "                                                                 \n",
      " dense_17 (Dense)            (None, 256)               65792     \n",
      "                                                                 \n",
      " dense_18 (Dense)            (None, 256)               65792     \n",
      "                                                                 \n",
      " dense_19 (Dense)            (None, 1)                 257       \n",
      "                                                                 \n",
      "=================================================================\n",
      "Total params: 166,401\n",
      "Trainable params: 166,401\n",
      "Non-trainable params: 0\n",
      "_________________________________________________________________\n"
     ]
    }
   ],
   "source": [
    "NN_model = Sequential()\n",
    "\n",
    "# The Input Layer :\n",
    "NN_model.add(Dense(128, kernel_initializer='normal',input_dim = a_train.shape[1], activation='relu'))\n",
    "\n",
    "# The Hidden Layers :\n",
    "NN_model.add(Dense(256, kernel_initializer='normal',activation='relu'))\n",
    "NN_model.add(Dense(256, kernel_initializer='normal',activation='relu'))\n",
    "NN_model.add(Dense(256, kernel_initializer='normal',activation='relu'))\n",
    "\n",
    "# The Output Layer :\n",
    "NN_model.add(Dense(1, kernel_initializer='normal',activation='linear'))\n",
    "\n",
    "# Compile the network :\n",
    "NN_model.compile(loss='mean_absolute_error', optimizer='adam', metrics=['accuracy','mean_absolute_error'])\n",
    "NN_model.summary()"
   ]
  },
  {
   "cell_type": "code",
   "execution_count": 348,
   "metadata": {
    "colab": {
     "base_uri": "https://localhost:8080/",
     "height": 1000
    },
    "colab_type": "code",
    "id": "SiJpN3TGgZ1w",
    "outputId": "addea8d8-5f2c-456f-9337-f59729d8beab"
   },
   "outputs": [
    {
     "name": "stdout",
     "output_type": "stream",
     "text": [
      "Epoch 1/50\n",
      "9/9 [==============================] - 0s 20ms/step - loss: 3.7259 - accuracy: 0.0135 - mean_absolute_error: 3.7259 - val_loss: 3.2996 - val_accuracy: 0.0581 - val_mean_absolute_error: 3.2996\n",
      "Epoch 2/50\n",
      "9/9 [==============================] - 0s 8ms/step - loss: 3.5047 - accuracy: 0.0593 - mean_absolute_error: 3.5047 - val_loss: 3.2414 - val_accuracy: 0.0492 - val_mean_absolute_error: 3.2414\n",
      "Epoch 3/50\n",
      "9/9 [==============================] - 0s 8ms/step - loss: 3.4614 - accuracy: 0.0500 - mean_absolute_error: 3.4614 - val_loss: 3.2139 - val_accuracy: 0.0581 - val_mean_absolute_error: 3.2139\n",
      "Epoch 4/50\n",
      "9/9 [==============================] - 0s 8ms/step - loss: 3.4493 - accuracy: 0.0544 - mean_absolute_error: 3.4493 - val_loss: 3.2044 - val_accuracy: 0.0522 - val_mean_absolute_error: 3.2044\n",
      "Epoch 5/50\n",
      "9/9 [==============================] - 0s 8ms/step - loss: 3.4415 - accuracy: 0.0527 - mean_absolute_error: 3.4415 - val_loss: 3.1951 - val_accuracy: 0.0522 - val_mean_absolute_error: 3.1951\n",
      "Epoch 6/50\n",
      "9/9 [==============================] - 0s 8ms/step - loss: 3.4375 - accuracy: 0.0500 - mean_absolute_error: 3.4375 - val_loss: 3.1947 - val_accuracy: 0.0541 - val_mean_absolute_error: 3.1947\n",
      "Epoch 7/50\n",
      "9/9 [==============================] - 0s 8ms/step - loss: 3.4366 - accuracy: 0.0554 - mean_absolute_error: 3.4366 - val_loss: 3.1953 - val_accuracy: 0.0541 - val_mean_absolute_error: 3.1953\n",
      "Epoch 8/50\n",
      "9/9 [==============================] - 0s 9ms/step - loss: 3.4336 - accuracy: 0.0515 - mean_absolute_error: 3.4336 - val_loss: 3.1933 - val_accuracy: 0.0571 - val_mean_absolute_error: 3.1933\n",
      "Epoch 9/50\n",
      "9/9 [==============================] - 0s 8ms/step - loss: 3.4312 - accuracy: 0.0551 - mean_absolute_error: 3.4312 - val_loss: 3.1946 - val_accuracy: 0.0531 - val_mean_absolute_error: 3.1946\n",
      "Epoch 10/50\n",
      "9/9 [==============================] - 0s 8ms/step - loss: 3.4322 - accuracy: 0.0537 - mean_absolute_error: 3.4322 - val_loss: 3.1907 - val_accuracy: 0.0571 - val_mean_absolute_error: 3.1907\n",
      "Epoch 11/50\n",
      "9/9 [==============================] - 0s 9ms/step - loss: 3.4295 - accuracy: 0.0544 - mean_absolute_error: 3.4295 - val_loss: 3.1857 - val_accuracy: 0.0561 - val_mean_absolute_error: 3.1857\n",
      "Epoch 12/50\n",
      "9/9 [==============================] - 0s 8ms/step - loss: 3.4263 - accuracy: 0.0559 - mean_absolute_error: 3.4263 - val_loss: 3.1829 - val_accuracy: 0.0561 - val_mean_absolute_error: 3.1829\n",
      "Epoch 13/50\n",
      "9/9 [==============================] - 0s 8ms/step - loss: 3.4213 - accuracy: 0.0551 - mean_absolute_error: 3.4213 - val_loss: 3.1768 - val_accuracy: 0.0561 - val_mean_absolute_error: 3.1768\n",
      "Epoch 14/50\n",
      "9/9 [==============================] - 0s 8ms/step - loss: 3.4185 - accuracy: 0.0554 - mean_absolute_error: 3.4185 - val_loss: 3.1726 - val_accuracy: 0.0571 - val_mean_absolute_error: 3.1726\n",
      "Epoch 15/50\n",
      "9/9 [==============================] - 0s 8ms/step - loss: 3.4119 - accuracy: 0.0554 - mean_absolute_error: 3.4119 - val_loss: 3.1668 - val_accuracy: 0.0571 - val_mean_absolute_error: 3.1668\n",
      "Epoch 16/50\n",
      "9/9 [==============================] - 0s 8ms/step - loss: 3.4051 - accuracy: 0.0556 - mean_absolute_error: 3.4051 - val_loss: 3.1567 - val_accuracy: 0.0571 - val_mean_absolute_error: 3.1567\n",
      "Epoch 17/50\n",
      "9/9 [==============================] - 0s 8ms/step - loss: 3.3975 - accuracy: 0.0554 - mean_absolute_error: 3.3975 - val_loss: 3.1389 - val_accuracy: 0.0571 - val_mean_absolute_error: 3.1389\n",
      "Epoch 18/50\n",
      "9/9 [==============================] - 0s 8ms/step - loss: 3.3916 - accuracy: 0.0547 - mean_absolute_error: 3.3916 - val_loss: 3.1337 - val_accuracy: 0.0561 - val_mean_absolute_error: 3.1337\n",
      "Epoch 19/50\n",
      "9/9 [==============================] - 0s 8ms/step - loss: 3.3763 - accuracy: 0.0542 - mean_absolute_error: 3.3763 - val_loss: 3.0940 - val_accuracy: 0.0561 - val_mean_absolute_error: 3.0940\n",
      "Epoch 20/50\n",
      "9/9 [==============================] - 0s 8ms/step - loss: 3.3416 - accuracy: 0.0549 - mean_absolute_error: 3.3416 - val_loss: 3.0595 - val_accuracy: 0.0561 - val_mean_absolute_error: 3.0595\n",
      "Epoch 21/50\n",
      "9/9 [==============================] - 0s 8ms/step - loss: 3.2789 - accuracy: 0.0559 - mean_absolute_error: 3.2789 - val_loss: 2.9233 - val_accuracy: 0.0561 - val_mean_absolute_error: 2.9233\n",
      "Epoch 22/50\n",
      "9/9 [==============================] - 0s 8ms/step - loss: 3.1273 - accuracy: 0.0554 - mean_absolute_error: 3.1273 - val_loss: 2.6593 - val_accuracy: 0.0541 - val_mean_absolute_error: 2.6593\n",
      "Epoch 23/50\n",
      "9/9 [==============================] - 0s 8ms/step - loss: 2.7364 - accuracy: 0.0542 - mean_absolute_error: 2.7364 - val_loss: 1.9261 - val_accuracy: 0.0571 - val_mean_absolute_error: 1.9261\n",
      "Epoch 24/50\n",
      "9/9 [==============================] - 0s 9ms/step - loss: 2.2143 - accuracy: 0.0559 - mean_absolute_error: 2.2143 - val_loss: 1.8114 - val_accuracy: 0.0571 - val_mean_absolute_error: 1.8114\n",
      "Epoch 25/50\n",
      "9/9 [==============================] - 0s 8ms/step - loss: 2.0948 - accuracy: 0.0544 - mean_absolute_error: 2.0948 - val_loss: 1.8439 - val_accuracy: 0.0551 - val_mean_absolute_error: 1.8439\n",
      "Epoch 26/50\n",
      "9/9 [==============================] - 0s 8ms/step - loss: 2.1013 - accuracy: 0.0556 - mean_absolute_error: 2.1013 - val_loss: 1.7246 - val_accuracy: 0.0551 - val_mean_absolute_error: 1.7246\n",
      "Epoch 27/50\n",
      "9/9 [==============================] - 0s 8ms/step - loss: 2.1230 - accuracy: 0.0549 - mean_absolute_error: 2.1230 - val_loss: 1.6494 - val_accuracy: 0.0561 - val_mean_absolute_error: 1.6494\n",
      "Epoch 28/50\n",
      "9/9 [==============================] - 0s 8ms/step - loss: 2.0387 - accuracy: 0.0549 - mean_absolute_error: 2.0387 - val_loss: 1.9953 - val_accuracy: 0.0561 - val_mean_absolute_error: 1.9953\n",
      "Epoch 29/50\n",
      "9/9 [==============================] - 0s 8ms/step - loss: 2.1057 - accuracy: 0.0542 - mean_absolute_error: 2.1057 - val_loss: 1.7966 - val_accuracy: 0.0561 - val_mean_absolute_error: 1.7966\n",
      "Epoch 30/50\n",
      "9/9 [==============================] - 0s 8ms/step - loss: 2.0565 - accuracy: 0.0537 - mean_absolute_error: 2.0565 - val_loss: 1.7078 - val_accuracy: 0.0561 - val_mean_absolute_error: 1.7078\n",
      "Epoch 31/50\n",
      "9/9 [==============================] - 0s 8ms/step - loss: 1.9655 - accuracy: 0.0566 - mean_absolute_error: 1.9655 - val_loss: 1.6893 - val_accuracy: 0.0561 - val_mean_absolute_error: 1.6893\n",
      "Epoch 32/50\n",
      "9/9 [==============================] - 0s 8ms/step - loss: 1.9906 - accuracy: 0.0551 - mean_absolute_error: 1.9906 - val_loss: 1.7290 - val_accuracy: 0.0561 - val_mean_absolute_error: 1.7290\n",
      "Epoch 33/50\n",
      "9/9 [==============================] - 0s 8ms/step - loss: 1.9582 - accuracy: 0.0547 - mean_absolute_error: 1.9582 - val_loss: 1.7420 - val_accuracy: 0.0561 - val_mean_absolute_error: 1.7420\n",
      "Epoch 34/50\n",
      "9/9 [==============================] - 0s 8ms/step - loss: 2.0277 - accuracy: 0.0554 - mean_absolute_error: 2.0277 - val_loss: 1.7356 - val_accuracy: 0.0561 - val_mean_absolute_error: 1.7356\n",
      "Epoch 35/50\n",
      "9/9 [==============================] - 0s 8ms/step - loss: 1.9642 - accuracy: 0.0544 - mean_absolute_error: 1.9642 - val_loss: 1.6796 - val_accuracy: 0.0561 - val_mean_absolute_error: 1.6796\n",
      "Epoch 36/50\n",
      "9/9 [==============================] - 0s 8ms/step - loss: 1.9546 - accuracy: 0.0547 - mean_absolute_error: 1.9546 - val_loss: 1.7594 - val_accuracy: 0.0502 - val_mean_absolute_error: 1.7594\n",
      "Epoch 37/50\n",
      "9/9 [==============================] - 0s 8ms/step - loss: 1.9712 - accuracy: 0.0534 - mean_absolute_error: 1.9712 - val_loss: 1.7685 - val_accuracy: 0.0561 - val_mean_absolute_error: 1.7685\n",
      "Epoch 38/50\n",
      "9/9 [==============================] - 0s 8ms/step - loss: 1.9730 - accuracy: 0.0549 - mean_absolute_error: 1.9730 - val_loss: 1.7279 - val_accuracy: 0.0502 - val_mean_absolute_error: 1.7279\n",
      "Epoch 39/50\n",
      "9/9 [==============================] - 0s 8ms/step - loss: 1.9555 - accuracy: 0.0519 - mean_absolute_error: 1.9555 - val_loss: 1.6711 - val_accuracy: 0.0541 - val_mean_absolute_error: 1.6711\n",
      "Epoch 40/50\n",
      "9/9 [==============================] - 0s 8ms/step - loss: 1.9319 - accuracy: 0.0524 - mean_absolute_error: 1.9319 - val_loss: 1.6916 - val_accuracy: 0.0531 - val_mean_absolute_error: 1.6916\n",
      "Epoch 41/50\n"
     ]
    },
    {
     "name": "stdout",
     "output_type": "stream",
     "text": [
      "9/9 [==============================] - 0s 8ms/step - loss: 1.9573 - accuracy: 0.0515 - mean_absolute_error: 1.9573 - val_loss: 1.7490 - val_accuracy: 0.0522 - val_mean_absolute_error: 1.7490\n",
      "Epoch 42/50\n",
      "9/9 [==============================] - 0s 8ms/step - loss: 1.9721 - accuracy: 0.0527 - mean_absolute_error: 1.9721 - val_loss: 1.6682 - val_accuracy: 0.0492 - val_mean_absolute_error: 1.6682\n",
      "Epoch 43/50\n",
      "9/9 [==============================] - 0s 8ms/step - loss: 1.9673 - accuracy: 0.0527 - mean_absolute_error: 1.9673 - val_loss: 1.6294 - val_accuracy: 0.0512 - val_mean_absolute_error: 1.6294\n",
      "Epoch 44/50\n",
      "9/9 [==============================] - 0s 8ms/step - loss: 1.9566 - accuracy: 0.0510 - mean_absolute_error: 1.9566 - val_loss: 1.6485 - val_accuracy: 0.0512 - val_mean_absolute_error: 1.6485\n",
      "Epoch 45/50\n",
      "9/9 [==============================] - 0s 8ms/step - loss: 1.9306 - accuracy: 0.0517 - mean_absolute_error: 1.9306 - val_loss: 1.7149 - val_accuracy: 0.0492 - val_mean_absolute_error: 1.7149\n",
      "Epoch 46/50\n",
      "9/9 [==============================] - 0s 8ms/step - loss: 1.9322 - accuracy: 0.0510 - mean_absolute_error: 1.9322 - val_loss: 1.7279 - val_accuracy: 0.0522 - val_mean_absolute_error: 1.7279\n",
      "Epoch 47/50\n",
      "9/9 [==============================] - 0s 9ms/step - loss: 1.9119 - accuracy: 0.0507 - mean_absolute_error: 1.9119 - val_loss: 1.6519 - val_accuracy: 0.0502 - val_mean_absolute_error: 1.6519\n",
      "Epoch 48/50\n",
      "9/9 [==============================] - 0s 8ms/step - loss: 1.9298 - accuracy: 0.0522 - mean_absolute_error: 1.9298 - val_loss: 1.6950 - val_accuracy: 0.0453 - val_mean_absolute_error: 1.6950\n",
      "Epoch 49/50\n",
      "9/9 [==============================] - 0s 8ms/step - loss: 1.9252 - accuracy: 0.0497 - mean_absolute_error: 1.9252 - val_loss: 1.6730 - val_accuracy: 0.0502 - val_mean_absolute_error: 1.6730\n",
      "Epoch 50/50\n",
      "9/9 [==============================] - 0s 8ms/step - loss: 1.9063 - accuracy: 0.0500 - mean_absolute_error: 1.9063 - val_loss: 1.6710 - val_accuracy: 0.0482 - val_mean_absolute_error: 1.6710\n"
     ]
    }
   ],
   "source": [
    "from tensorflow.keras.callbacks import History \n",
    "history = History()\n",
    "History=NN_model.fit(a_train, b_train, epochs=50, batch_size=500, validation_split = 0.2, callbacks=[history])"
   ]
  },
  {
   "cell_type": "code",
   "execution_count": 349,
   "metadata": {},
   "outputs": [
    {
     "name": "stdout",
     "output_type": "stream",
     "text": [
      "dict_keys(['loss', 'accuracy', 'mean_absolute_error', 'val_loss', 'val_accuracy', 'val_mean_absolute_error'])\n"
     ]
    },
    {
     "data": {
      "text/plain": [
       "Text(0.5, 0, 'epoch')"
      ]
     },
     "execution_count": 349,
     "metadata": {},
     "output_type": "execute_result"
    },
    {
     "data": {
      "image/png": "[encoded data removed]",
      "text/plain": [
       "<Figure size 432x288 with 1 Axes>"
      ]
     },
     "metadata": {
      "needs_background": "light"
     },
     "output_type": "display_data"
    }
   ],
   "source": [
    "print(history.history.keys())\n",
    "plt.plot(History.history['mean_absolute_error'])\n",
    "plt.ylabel('mean_absolute_error')\n",
    "plt.xlabel('epoch')"
   ]
  },
  {
   "cell_type": "code",
   "execution_count": 350,
   "metadata": {},
   "outputs": [
    {
     "data": {
      "image/png": "[encoded data removed]",
      "text/plain": [
       "<Figure size 432x288 with 1 Axes>"
      ]
     },
     "metadata": {
      "needs_background": "light"
     },
     "output_type": "display_data"
    }
   ],
   "source": [
    "plt.plot(History.history['mean_absolute_error'])\n",
    "plt.plot(History.history['val_mean_absolute_error'])\n",
    "plt.title('mean_absolute_error')\n",
    "plt.ylabel('mean_absolute_error')\n",
    "plt.xlabel('epoch')\n",
    "plt.legend(['train', 'test'], loc='upper left')\n",
    "plt.show()\n"
   ]
  },
  {
   "cell_type": "code",
   "execution_count": 351,
   "metadata": {},
   "outputs": [],
   "source": [
    "\n",
    "    \n",
    "features_list=['crop_year', 'temperature', 'wind_speed', 'precipitation', 'humidity',\n",
    "       'N', 'P', 'K', 'State', 'Crop_Names', 'Season_Name', 'Soil_Type' ]"
   ]
  },
  {
   "cell_type": "code",
   "execution_count": 352,
   "metadata": {},
   "outputs": [
    {
     "name": "stdout",
     "output_type": "stream",
     "text": [
      "8\n"
     ]
    }
   ],
   "source": [
    "print(features_list.index('State'))"
   ]
  },
  {
   "cell_type": "code",
   "execution_count": 353,
   "metadata": {},
   "outputs": [
    {
     "data": {
      "text/plain": [
       "'Soil_Type'"
      ]
     },
     "execution_count": 353,
     "metadata": {},
     "output_type": "execute_result"
    }
   ],
   "source": [
    "features_list[11]"
   ]
  },
  {
   "cell_type": "code",
   "execution_count": null,
   "metadata": {},
   "outputs": [],
   "source": []
  },
  {
   "cell_type": "code",
   "execution_count": null,
   "metadata": {},
   "outputs": [],
   "source": []
  },
  {
   "cell_type": "code",
   "execution_count": null,
   "metadata": {},
   "outputs": [],
   "source": []
  }
 ],
 "metadata": {
  "accelerator": "GPU",
  "colab": {
   "collapsed_sections": [],
   "name": "FinalBennetProject.ipynb",
   "provenance": [],
   "toc_visible": true
  },
  "kernelspec": {
   "display_name": "Python 3 (ipykernel)",
   "language": "python",
   "name": "python3"
  },
  "language_info": {
   "codemirror_mode": {
    "name": "ipython",
    "version": 3
   },
   "file_extension": ".py",
   "mimetype": "text/x-python",
   "name": "python",
   "nbconvert_exporter": "python",
   "pygments_lexer": "ipython3",
   "version": "3.10.1 (tags/v3.10.1:2cd268a, Dec  6 2021, 19:10:37) [MSC v.1929 64 bit (AMD64)]"
  },
  "vscode": {
   "interpreter": {
    "hash": "bff97e2ed20cc7883dfc4020ea5e878e3a6755d5c12b524f21f4ac7eb0cb0db6"
   }
  }
 },
 "nbformat": 4,
 "nbformat_minor": 1
}
